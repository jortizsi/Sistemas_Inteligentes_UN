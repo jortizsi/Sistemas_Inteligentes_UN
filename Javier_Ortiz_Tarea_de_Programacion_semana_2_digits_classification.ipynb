{
  "nbformat": 4,
  "nbformat_minor": 0,
  "metadata": {
    "kernelspec": {
      "display_name": "Python 3",
      "language": "python",
      "name": "python3"
    },
    "language_info": {
      "codemirror_mode": {
        "name": "ipython",
        "version": 3
      },
      "file_extension": ".py",
      "mimetype": "text/x-python",
      "name": "python",
      "nbconvert_exporter": "python",
      "pygments_lexer": "ipython3",
      "version": "3.6.5"
    },
    "colab": {
      "name": "Javier_Ortiz_Tarea_de_Programacion_semana_2_digits_classification.ipynb",
      "provenance": [],
      "collapsed_sections": []
    }
  },
  "cells": [
    {
      "cell_type": "markdown",
      "metadata": {
        "id": "oq8mnhkPXkRC"
      },
      "source": [
        "**Configuracion para google Colab**"
      ]
    },
    {
      "cell_type": "code",
      "metadata": {
        "id": "YUWzlVAeMiQP"
      },
      "source": [
        "# set tf 1.x for colab\n",
        "%tensorflow_version 1.x"
      ],
      "execution_count": 108,
      "outputs": []
    },
    {
      "cell_type": "code",
      "metadata": {
        "colab": {
          "base_uri": "https://localhost:8080/"
        },
        "id": "oGEBW7EbQ9a0",
        "outputId": "02ca0845-532b-4029-d9d4-c0f003c42fd0"
      },
      "source": [
        "! shred -u setup_google_colab.py\n",
        "! wget https://raw.githubusercontent.com/hse-aml/intro-to-dl/master/setup_google_colab.py -O setup_google_colab.py\n",
        "import setup_google_colab\n",
        "# please, uncomment the week you're working on\n",
        "# setup_google_colab.setup_week1()\n",
        "setup_google_colab.setup_week2()\n",
        "# setup_google_colab.setup_week2_honor()\n",
        "# setup_google_colab.setup_week3()\n",
        "# setup_google_colab.setup_week4()\n",
        "# setup_google_colab.setup_week5()\n",
        "# setup_google_colab.setup_week6()"
      ],
      "execution_count": 109,
      "outputs": [
        {
          "output_type": "stream",
          "text": [
            "--2021-05-09 21:34:44--  https://raw.githubusercontent.com/hse-aml/intro-to-dl/master/setup_google_colab.py\n",
            "Resolving raw.githubusercontent.com (raw.githubusercontent.com)... 185.199.111.133, 185.199.110.133, 185.199.109.133, ...\n",
            "Connecting to raw.githubusercontent.com (raw.githubusercontent.com)|185.199.111.133|:443... connected.\n",
            "HTTP request sent, awaiting response... 200 OK\n",
            "Length: 3636 (3.6K) [text/plain]\n",
            "Saving to: ‘setup_google_colab.py’\n",
            "\n",
            "setup_google_colab. 100%[===================>]   3.55K  --.-KB/s    in 0s      \n",
            "\n",
            "2021-05-09 21:34:45 (39.3 MB/s) - ‘setup_google_colab.py’ saved [3636/3636]\n",
            "\n",
            "**************************************************\n",
            "inception_v3_weights_tf_dim_ordering_tf_kernels_notop.h5\n",
            "**************************************************\n",
            "cifar-10-batches-py.tar.gz\n",
            "**************************************************\n",
            "mnist.npz\n"
          ],
          "name": "stdout"
        }
      ]
    },
    {
      "cell_type": "markdown",
      "metadata": {
        "id": "L7rcQJJ5MiQS"
      },
      "source": [
        "# MNIST digits classification with TensorFlow"
      ]
    },
    {
      "cell_type": "markdown",
      "metadata": {
        "id": "M87JMczfMiQT"
      },
      "source": [
        "<img src=\"https://github.com/hse-aml/intro-to-dl/blob/master/week2/v2/images/mnist_sample.png?raw=1\" style=\"width:30%\">"
      ]
    },
    {
      "cell_type": "code",
      "metadata": {
        "id": "FyO_DhVxMiQT",
        "colab": {
          "base_uri": "https://localhost:8080/"
        },
        "outputId": "8e7913f7-1982-4f78-da33-9c133fc5f8ba"
      },
      "source": [
        "import numpy as np\n",
        "from sklearn.metrics import accuracy_score\n",
        "from matplotlib import pyplot as plt\n",
        "%matplotlib inline\n",
        "import tensorflow as tf\n",
        "print(\"We're using TF\", tf.__version__)\n",
        "\n",
        "import sys\n",
        "sys.path.append(\"../..\")\n",
        "import grading\n",
        "\n",
        "import matplotlib_utils\n",
        "from importlib import reload\n",
        "reload(matplotlib_utils)\n",
        "\n",
        "import grading_utils\n",
        "reload(grading_utils)\n",
        "\n",
        "import keras_utils\n",
        "from keras_utils import reset_tf_session"
      ],
      "execution_count": 110,
      "outputs": [
        {
          "output_type": "stream",
          "text": [
            "We're using TF 1.15.2\n"
          ],
          "name": "stdout"
        }
      ]
    },
    {
      "cell_type": "markdown",
      "metadata": {
        "id": "-PtJFUx3MiQU"
      },
      "source": [
        "# Fill in your Coursera token and email\n",
        "To successfully submit your answers to our grader, please fill in your Coursera submission token and email"
      ]
    },
    {
      "cell_type": "code",
      "metadata": {
        "id": "smYKfVV1MiQU"
      },
      "source": [
        "grader = grading.Grader(assignment_key=\"XtD7ho3TEeiHQBLWejjYAA\", \n",
        "                        all_parts=[\"9XaAS\", \"vmogZ\", \"RMv95\", \"i8bgs\", \"rE763\"])"
      ],
      "execution_count": 111,
      "outputs": []
    },
    {
      "cell_type": "code",
      "metadata": {
        "id": "vdydMn7DMiQV"
      },
      "source": [
        "# token expires every 30 min\n",
        "COURSERA_TOKEN = \"FscDM2da6H5dnNwy\"\n",
        "COURSERA_EMAIL = \"jortizsi@unal.edu.co\""
      ],
      "execution_count": 138,
      "outputs": []
    },
    {
      "cell_type": "markdown",
      "metadata": {
        "id": "V7IZwNBmMiQV"
      },
      "source": [
        "# Look at the data\n",
        "\n",
        "In this task we have 50000 28x28 images of digits from 0 to 9.\n",
        "We will train a classifier on this data."
      ]
    },
    {
      "cell_type": "code",
      "metadata": {
        "id": "7mRdHbioMiQV"
      },
      "source": [
        "import preprocessed_mnist\n",
        "X_train, y_train, X_val, y_val, X_test, y_test = preprocessed_mnist.load_dataset()"
      ],
      "execution_count": 115,
      "outputs": []
    },
    {
      "cell_type": "code",
      "metadata": {
        "id": "8FsKCDEwMiQW",
        "colab": {
          "base_uri": "https://localhost:8080/",
          "height": 689
        },
        "outputId": "c65a0636-58be-4256-ef2e-fffe74003d70"
      },
      "source": [
        "# X contains rgb values divided by 255\n",
        "print(\"X_train [shape %s] sample patch:\\n\" % (str(X_train.shape)), X_train[1, 15:20, 5:10])\n",
        "print(\"A closeup of a sample patch:\")\n",
        "plt.imshow(X_train[1, 15:20, 5:10], cmap=\"Greys\")\n",
        "plt.show()\n",
        "print(\"And the whole sample:\")\n",
        "plt.imshow(X_train[1], cmap=\"Greys\")\n",
        "plt.show()\n",
        "print(\"y_train [shape %s] 10 samples:\\n\" % (str(y_train.shape)), y_train[:10])"
      ],
      "execution_count": 116,
      "outputs": [
        {
          "output_type": "stream",
          "text": [
            "X_train [shape (50000, 28, 28)] sample patch:\n",
            " [[0.         0.29803922 0.96470588 0.98823529 0.43921569]\n",
            " [0.         0.33333333 0.98823529 0.90196078 0.09803922]\n",
            " [0.         0.33333333 0.98823529 0.8745098  0.        ]\n",
            " [0.         0.33333333 0.98823529 0.56862745 0.        ]\n",
            " [0.         0.3372549  0.99215686 0.88235294 0.        ]]\n",
            "A closeup of a sample patch:\n"
          ],
          "name": "stdout"
        },
        {
          "output_type": "display_data",
          "data": {
            "image/png": "[encoded data removed]",
            "text/plain": [
              "<Figure size 432x288 with 1 Axes>"
            ]
          },
          "metadata": {
            "tags": [],
            "needs_background": "light"
          }
        },
        {
          "output_type": "stream",
          "text": [
            "And the whole sample:\n"
          ],
          "name": "stdout"
        },
        {
          "output_type": "display_data",
          "data": {
            "image/png": "[encoded data removed]",
            "text/plain": [
              "<Figure size 432x288 with 1 Axes>"
            ]
          },
          "metadata": {
            "tags": [],
            "needs_background": "light"
          }
        },
        {
          "output_type": "stream",
          "text": [
            "y_train [shape (50000,)] 10 samples:\n",
            " [5 0 4 1 9 2 1 3 1 4]\n"
          ],
          "name": "stdout"
        }
      ]
    },
    {
      "cell_type": "markdown",
      "metadata": {
        "id": "xHZO4IwJMiQW"
      },
      "source": [
        "# Linear model\n",
        "\n",
        "Your task is to train a linear classifier $\\vec{x} \\rightarrow y$ with SGD using TensorFlow.\n",
        "\n",
        "You will need to calculate a logit (a linear transformation) $z_k$ for each class: \n",
        "$$z_k = \\vec{x} \\cdot \\vec{w_k} + b_k \\quad k = 0..9$$\n",
        "\n",
        "And transform logits $z_k$ to valid probabilities $p_k$ with softmax: \n",
        "$$p_k = \\frac{e^{z_k}}{\\sum_{i=0}^{9}{e^{z_i}}} \\quad k = 0..9$$\n",
        "\n",
        "We will use a cross-entropy loss to train our multi-class classifier:\n",
        "$$\\text{cross-entropy}(y, p) = -\\sum_{k=0}^{9}{\\log(p_k)[y = k]}$$ \n",
        "\n",
        "where \n",
        "$$\n",
        "[x]=\\begin{cases}\n",
        "       1, \\quad \\text{if $x$ is true} \\\\\n",
        "       0, \\quad \\text{otherwise}\n",
        "    \\end{cases}\n",
        "$$\n",
        "\n",
        "Cross-entropy minimization pushes $p_k$ close to 1 when $y = k$, which is what we want.\n",
        "\n",
        "Here's the plan:\n",
        "* Flatten the images (28x28 -> 784) with `X_train.reshape((X_train.shape[0], -1))` to simplify our linear model implementation\n",
        "* Use a matrix placeholder for flattened `X_train`\n",
        "* Convert `y_train` to one-hot encoded vectors that are needed for cross-entropy\n",
        "* Use a shared variable `W` for all weights (a column $\\vec{w_k}$ per class) and `b` for all biases.\n",
        "* Aim for ~0.93 validation accuracy"
      ]
    },
    {
      "cell_type": "code",
      "metadata": {
        "id": "XM5F2dd4MiQX",
        "colab": {
          "base_uri": "https://localhost:8080/"
        },
        "outputId": "f28d54be-fc27-4239-c9d4-1fad78bb5e95"
      },
      "source": [
        "X_train_flat = X_train.reshape((X_train.shape[0], -1))\n",
        "print(X_train_flat.shape)\n",
        "\n",
        "X_val_flat = X_val.reshape((X_val.shape[0], -1))\n",
        "print(X_val_flat.shape)"
      ],
      "execution_count": 117,
      "outputs": [
        {
          "output_type": "stream",
          "text": [
            "(50000, 784)\n",
            "(10000, 784)\n"
          ],
          "name": "stdout"
        }
      ]
    },
    {
      "cell_type": "code",
      "metadata": {
        "colab": {
          "base_uri": "https://localhost:8080/"
        },
        "id": "27JulxDlbnYr",
        "outputId": "7faa2e58-1d8d-449e-f71f-2e00d7ffdc24"
      },
      "source": [
        "#CELDA PARA VER LAS CARACTERISTICAS DE LOS OBJETOS QUE SE LEYERON\n",
        "\n",
        "print(\"X_train\")\n",
        "print(type(X_train))\n",
        "print(X_train.shape)\n",
        "print(X_train[0].shape)\n",
        "print(\"------------------------\")\n",
        "print(\"y_train\")\n",
        "print(type(y_train))\n",
        "print(y_train.shape)\n",
        "print(y_train[0].shape)\n",
        "print(\"------------------------\")\n",
        "\n",
        "print(\"X_val\")\n",
        "print(type(X_val))\n",
        "print(X_val.shape)\n",
        "print(X_val[0].shape)\n",
        "print(\"------------------------\")\n",
        "\n",
        "print(\"y_val\")\n",
        "print(type(y_val))\n",
        "print(y_val.shape)\n",
        "print(y_val[0].shape)\n",
        "print(\"------------------------\")\n",
        "\n",
        "print(\"X_test\")\n",
        "print(type(X_test))\n",
        "print(X_test.shape)\n",
        "print(X_test[0].shape)\n",
        "print(\"------------------------\")\n",
        "\n",
        "print(\"y_test\")\n",
        "print(type(y_test))\n",
        "print(y_test.shape)\n",
        "print(y_test[0].shape)\n",
        "print(\"------------------------\")"
      ],
      "execution_count": 118,
      "outputs": [
        {
          "output_type": "stream",
          "text": [
            "X_train\n",
            "<class 'numpy.ndarray'>\n",
            "(50000, 28, 28)\n",
            "(28, 28)\n",
            "------------------------\n",
            "y_train\n",
            "<class 'numpy.ndarray'>\n",
            "(50000,)\n",
            "()\n",
            "------------------------\n",
            "X_val\n",
            "<class 'numpy.ndarray'>\n",
            "(10000, 28, 28)\n",
            "(28, 28)\n",
            "------------------------\n",
            "y_val\n",
            "<class 'numpy.ndarray'>\n",
            "(10000,)\n",
            "()\n",
            "------------------------\n",
            "X_test\n",
            "<class 'numpy.ndarray'>\n",
            "(10000, 28, 28)\n",
            "(28, 28)\n",
            "------------------------\n",
            "y_test\n",
            "<class 'numpy.ndarray'>\n",
            "(10000,)\n",
            "()\n",
            "------------------------\n"
          ],
          "name": "stdout"
        }
      ]
    },
    {
      "cell_type": "code",
      "metadata": {
        "id": "vn0kdNyRMiQX",
        "colab": {
          "base_uri": "https://localhost:8080/"
        },
        "outputId": "6359a575-6d9c-4885-f830-202d75fa104c"
      },
      "source": [
        "import keras\n",
        "\n",
        "y_train_oh = keras.utils.to_categorical(y_train, 10)\n",
        "y_val_oh = keras.utils.to_categorical(y_val, 10)\n",
        "\n",
        "print(y_train_oh.shape)\n",
        "print(y_train_oh[:3], y_train[:3])"
      ],
      "execution_count": 119,
      "outputs": [
        {
          "output_type": "stream",
          "text": [
            "(50000, 10)\n",
            "[[0. 0. 0. 0. 0. 1. 0. 0. 0. 0.]\n",
            " [1. 0. 0. 0. 0. 0. 0. 0. 0. 0.]\n",
            " [0. 0. 0. 0. 1. 0. 0. 0. 0. 0.]] [5 0 4]\n"
          ],
          "name": "stdout"
        }
      ]
    },
    {
      "cell_type": "markdown",
      "metadata": {
        "id": "9Q-CEVmA5inj"
      },
      "source": [
        "Se inicializa el grafo"
      ]
    },
    {
      "cell_type": "code",
      "metadata": {
        "id": "ymu6g8geMiQY"
      },
      "source": [
        "# run this again if you remake your graph\n",
        "s = reset_tf_session()"
      ],
      "execution_count": 120,
      "outputs": []
    },
    {
      "cell_type": "markdown",
      "metadata": {
        "id": "6r6UMcbu5_0l"
      },
      "source": [
        "Dada una imagen con 785 pixeles, se establece una funcion que estima la probabilidad de que la imagen corresponda a la escritura de algun digito k en especifico. Cada funcion consiste en un vector de 785 pesos y un sesgo b.\n",
        "\n",
        "$$z_k = \\vec{x} \\cdot \\vec{w_k} + b_k \\quad k = 0..9$$"
      ]
    },
    {
      "cell_type": "code",
      "metadata": {
        "id": "oh002i87MiQY"
      },
      "source": [
        "# Model parameters: W and b\n",
        "\n",
        "#Peso de cada pixel 1 a 784 en cada funcion para cada digito 0 a 9\n",
        "W = tf.get_variable(\"W\", shape=(784,10), dtype=tf.float32, trainable=True) ### YOUR CODE HERE ### tf.get_variable(...) with shape[0] = 784\n",
        "\n",
        "#constantes b tipo sesgo de cada funcion lineal de prediccion de probabilidad para digitos 0 a 9\n",
        "b = tf.get_variable(\"b\", shape=(10), dtype=tf.float32, trainable=True)### YOUR CODE HERE ### tf.get_variable(...)"
      ],
      "execution_count": 121,
      "outputs": []
    },
    {
      "cell_type": "code",
      "metadata": {
        "colab": {
          "base_uri": "https://localhost:8080/"
        },
        "id": "t-zQCLAkl1_R",
        "outputId": "7f114161-a130-40cd-c981-a4836f78ae97"
      },
      "source": [
        "print(W)\n",
        "print(b)"
      ],
      "execution_count": 122,
      "outputs": [
        {
          "output_type": "stream",
          "text": [
            "<tf.Variable 'W:0' shape=(784, 10) dtype=float32_ref>\n",
            "<tf.Variable 'b:0' shape=(10,) dtype=float32_ref>\n"
          ],
          "name": "stdout"
        }
      ]
    },
    {
      "cell_type": "code",
      "metadata": {
        "id": "cx18EwZ6MiQY"
      },
      "source": [
        "# Placeholders for the input data\n",
        "\n",
        "#funcion lineal\n",
        "input_X = tf.placeholder(tf.float32, shape=[None, 784]) ### YOUR CODE HERE ### tf.placeholder(...) for flat X with shape[0] = None for any batch size\n",
        "\n",
        "#digito\n",
        "input_y = tf.placeholder(tf.float32, shape=[None, 10])  ###10 YOUR CODE HERE ### tf.placeholder(...) for one-hot encoded true labels"
      ],
      "execution_count": 123,
      "outputs": []
    },
    {
      "cell_type": "code",
      "metadata": {
        "colab": {
          "base_uri": "https://localhost:8080/"
        },
        "id": "4BkVUVD7mNVD",
        "outputId": "a31ca9db-2b4a-44a9-b35e-0ec71db06540"
      },
      "source": [
        "print(input_X)\n",
        "print(input_y)"
      ],
      "execution_count": 124,
      "outputs": [
        {
          "output_type": "stream",
          "text": [
            "Tensor(\"Placeholder:0\", shape=(?, 784), dtype=float32)\n",
            "Tensor(\"Placeholder_1:0\", shape=(?, 10), dtype=float32)\n"
          ],
          "name": "stdout"
        }
      ]
    },
    {
      "cell_type": "code",
      "metadata": {
        "id": "RduV30SaMiQZ"
      },
      "source": [
        "# Compute predictions\n",
        "\n",
        "#Funcion o transformacion lineal de cada clase. Se construye usando producto matricial.\n",
        "logits = (input_X @ W) + b ### YOUR CODE HERE ### logits for input_X, resulting shape should be [input_X.shape[0], 10]\n",
        "\n",
        "\n",
        "#Convertir las funciones para que tengan como salida probabilidades validas en el intervalo [0,1]\n",
        "probas = tf.nn.softmax(logits)### YOUR CODE HERE ### apply tf.nn.softmax to logits\n",
        "classes = tf.argmax(probas,1)### YOUR CODE HERE ### apply tf.argmax to find a class index with highest probability\n",
        "\n",
        "\n",
        "#Indicarle a tensorflow como tomar la funcion de perdida y establecer que esta debe minimizarse\n",
        "\n",
        "# Loss should be a scalar number: average loss over all the objects with tf.reduce_mean().\n",
        "# Use tf.nn.softmax_cross_entropy_with_logits on top of one-hot encoded input_y and logits.\n",
        "# It is identical to calculating cross-entropy on top of probas, but is more numerically friendly (read the docs).\n",
        "loss = tf.reduce_mean(tf.nn.softmax_cross_entropy_with_logits(logits=logits, labels=input_y))### YOUR CODE HERE ### cross-entropy loss\n",
        "\n",
        "# Use a default tf.train.AdamOptimizer to get an SGD step\n",
        "step = tf.train.AdamOptimizer().minimize(loss)### YOUR CODE HERE ### optimizer step that minimizes the loss"
      ],
      "execution_count": 125,
      "outputs": []
    },
    {
      "cell_type": "code",
      "metadata": {
        "scrolled": false,
        "id": "6vz3sj3YMiQZ",
        "colab": {
          "base_uri": "https://localhost:8080/",
          "height": 308
        },
        "outputId": "677a225b-87d3-4d56-dfa6-2d68ec6c4c4d"
      },
      "source": [
        "#Entrenamiento\n",
        "\n",
        "s.run(tf.global_variables_initializer())\n",
        "\n",
        "BATCH_SIZE = 512\n",
        "EPOCHS = 40\n",
        "\n",
        "# for logging the progress right here in Jupyter (for those who don't have TensorBoard)\n",
        "simpleTrainingCurves = matplotlib_utils.SimpleTrainingCurves(\"cross-entropy\", \"accuracy\")\n",
        "\n",
        "for epoch in range(EPOCHS):  # we finish an epoch when we've looked at all training samples\n",
        "    \n",
        "    batch_losses = []\n",
        "    for batch_start in range(0, X_train_flat.shape[0], BATCH_SIZE):  # data is already shuffled\n",
        "        _, batch_loss = s.run([step, loss], {input_X: X_train_flat[batch_start:batch_start+BATCH_SIZE], \n",
        "                                             input_y: y_train_oh[batch_start:batch_start+BATCH_SIZE]})\n",
        "        # collect batch losses, this is almost free as we need a forward pass for backprop anyway\n",
        "        batch_losses.append(batch_loss)\n",
        "\n",
        "    train_loss = np.mean(batch_losses)\n",
        "    val_loss = s.run(loss, {input_X: X_val_flat, input_y: y_val_oh})  # this part is usually small\n",
        "    train_accuracy = accuracy_score(y_train, s.run(classes, {input_X: X_train_flat}))  # this is slow and usually skipped\n",
        "    valid_accuracy = accuracy_score(y_val, s.run(classes, {input_X: X_val_flat}))  \n",
        "    simpleTrainingCurves.add(train_loss, val_loss, train_accuracy, valid_accuracy)"
      ],
      "execution_count": 126,
      "outputs": [
        {
          "output_type": "display_data",
          "data": {
            "text/html": [
              "<img src=\"data:image/jpeg;base64,/9j/4AAQSkZJRgABAQEASABIAAD/2wBDAAIBAQEBAQIBAQECAgICAgQDAgICAgUEBAMEBgUGBgYFBgYGBwkIBgcJBwYGCAsICQoKCgoKBggLDAsKDAkKCgr/2wBDAQICAgICAgUDAwUKBwYHCgoKCgoKCgoKCgoKCgoKCgoKCgoKCgoKCgoKCgoKCgoKCgoKCgoKCgoKCgoKCgoKCgr/wAARCAEgA2ADASIAAhEBAxEB/8QAHwAAAQUBAQEBAQEAAAAAAAAAAAECAwQFBgcICQoL/8QAtRAAAgEDAwIEAwUFBAQAAAF9AQIDAAQRBRIhMUEGE1FhByJxFDKBkaEII0KxwRVS0fAkM2JyggkKFhcYGRolJicoKSo0NTY3ODk6Q0RFRkdISUpTVFVWV1hZWmNkZWZnaGlqc3R1dnd4eXqDhIWGh4iJipKTlJWWl5iZmqKjpKWmp6ipqrKztLW2t7i5usLDxMXGx8jJytLT1NXW19jZ2uHi4%2BTl5ufo6erx8vP09fb3%2BPn6/8QAHwEAAwEBAQEBAQEBAQAAAAAAAAECAwQFBgcICQoL/8QAtREAAgECBAQDBAcFBAQAAQJ3AAECAxEEBSExBhJBUQdhcRMiMoEIFEKRobHBCSMzUvAVYnLRChYkNOEl8RcYGRomJygpKjU2Nzg5OkNERUZHSElKU1RVVldYWVpjZGVmZ2hpanN0dXZ3eHl6goOEhYaHiImKkpOUlZaXmJmaoqOkpaanqKmqsrO0tba3uLm6wsPExcbHyMnK0tPU1dbX2Nna4uPk5ebn6Onq8vP09fb3%2BPn6/9oADAMBAAIRAxEAPwD9/KKKKACiiigAooooAKKKKACiiigAooooAKKKKACiiigAooooAKKKKACiiigAooooAKKKKACiiigAooooAKKKKACiiigAooooAKKKKACiiigAooooAKKKKACiiigAooooAKKKKACiiigAooooAKKKKACiiigAooooAKKKKACiiigAooooAKKKKACiiigAooooAKKKKACiiigAooooAKKKKACiiigAooooAKKKKACiiigAooooAKKKKACiiigAooooAKKKKACiiigAooooAKKKKACiiigAooooAKKKKACiiigAooooAKKKKACiiigAooooAKKKKACiiigAooooAKKKKACiiigAooooAKKKKACuN%2BOP7QHwm/Zx8JW/jT4veJ5dPtL7U4dN0u2stLub%2B91K9lDGO1tLO0jluLudlR2EUMbvtR2xhWI7KvFv2u/gP8VPiX4h%2BGfxl%2BBd14fl8X/CrxjPrWmaJ4tu57bTdYhudLvdMubaW4ghmktH8q9aSOdYZtrR7TGyu2ACjpH/AAUr/Y71rxm3w8tvHviCDW7fSodU1bTtR%2BHOvWkmi2EhuAt3qXn2SDTIAbWcNLdmFEKYYqWUGbwn/wAFH/2NfGfg/wAQ%2BOtM%2BLFza6f4Y0e11fVBrnhPVdMuJNPuXMdreWtvd2sU19bzyAxwy2ySpM5CRlmIB86vP2GPjP8AHW0/aRP7Qt74V8My/tB/CPTvBskfgrWLrUzo7RWusWsr%2BbcWtqZ1VNRiZDsXeyygogxuy9Y/Y2/at%2BM%2Btaz8UP2lPh38G9X1e0%2BE6eBtB8E6d4n1QaRrSy6jaXt5fXd2bBJ9PYmyg%2BzxQw3BtnDP50hIwAeyX/7fP7N2k%2BAbH4h6tdeOLSHVPED6Jpeh3Xwj8SR67e3yW5uXjh0dtPGoShYAZTIluUCKzFsA49P8JeOfDfjbwTY/EPRbi5i0rULBbyCTVNPnsZY4iu7MsFykcsDAfeSRVZSCGAIIr41tv2Gf2tJfgpJ4W8feGPCnjS%2Bh%2BIcut%2BC9B1n9ofxXb3fgOxOmxWoi0/xbHp7atcSGUXcreZDGBHeGENsjGfUvB/7Bmq%2BKfgJo3hb9pz46%2BOPEfj5PhtdeFtf8Q6T8Q9at9Muhc2tzbyTPpa3SWN5MiXTBbq4tmmdoopWKuibADc8Mf8FJP2MvF/h7xJ4s0b4tXK6Z4W8GXni6/vr7wlqtpFe6BaruuNU09p7VBqtogK5nsvPQmSMAkyIG4n40f8FdP2YfAf7M/wATf2gfhW%2Bs%2BM7v4b%2BDYfEjeGW8L6xps2r2Nw7R2t3avNYFrixlkRh9vgjmtkVWdnCqSPHfC/8AwSh%2BNC/BPxf8LPFnh3w9J4h/4UL4j8A%2BC/Hmo/tD%2BNvECSXGpWEdp5h0jVUkttGtpDDE8scEl0yeVGqFggz6P%2B1L/wAE5vih%2B0BYeKtE0Pxj4d0q2179le%2B%2BGlrLM87GDVpLiOWGdo1iANqNhBIbzBnhO9AHqkv/AAUU/ZZt/E3hrwJeav41tvEni7TpdQ0HwpefCTxLDq8tnFd/Y5LmSwk08XNvCkxG6SaNEVGWUkRsrmXwN/wUT/Y7%2BJGqarpXhD4tyXB0rQ9Q1lbufw1qVvaapp1iwS8u9NuZrdYdVhhYqHeyedVLqCfmGcXwR8APjz4x/apsf2oPjn4f8HeH5JPg5f8Ag/VNE8J%2BK7vVTBcy6tHcpJDcz6fZl4mgiUsTGjJIdoV1USHwGb9hz9pf4bfs8%2BF/Cnxo1rwIPCP7N3wP8SaB4L1PwrfXcmpeKd2hHTLe4vbeW2ii04JZozSQxS3QknZXDxqgQgH0D4U/4Kl/sL%2BNPBus/ELQ/jLdrouheDj4tutRv/BmsWcdzoIKB9Vs/PtEN/ZxmRBJPbCWOLcPMZc167a/GD4c3vxcuPgVZ%2BIxN4qtPDUGv3emRWsrCHTp55beGd5QnlL5ksE6ohfe3kyEKQjEfFX7I/7P3xC8WfBL4Q/Hb9t/Uvhlovww%2BG/7L9z4fgk07W5wmr6bqmnaWby%2B1X7VBDDpkEVppyq0CS3CZleRplWNVrsP%2BCK3wr8d6P8As76n8evit4tbxFrHjW%2Bg03w54hlgaOS%2B8I6JF/ZWiXBD8/6VDDNqhPd9WcgKCFAB9lUUUUAFFFFABRRRQAUUUUAFFFFABRRRQAUUUUAFFFFABRRRQAUUUUAFFFFABRRRQAUUUUAFFFFABRRRQAUUUUAFFFFABRRRQAV4jpH/AAUY/Y91K716z1P4pXnh5vDnhy58QahJ418I6roMc2k27pHPf2smpWsC31ujyRK0tsZUBljGcuufab2K5ms5YbO6EEzxMsUxj3%2BWxHDbT1wecd6/MTV/%2BCOX7cvxf1bwvrnxu%2BOOhvrfhrwfqFnqHijUPit4m8TjxDrf2zSr611E6XfRQ2Wk20lzpi%2BfYWQCiOTassgVAoB9sv8At/8A7MNr8NG%2BLGseIPFWlaW2uQaNY2eufDLX7DVNTv5kMkMFlptxYpe37SIGdfs8MgZUdgSEYjovAf7VnwP%2BI%2Bv2XhPw54h1SHV7/wAKT%2BJIdI1rwrqWmXaabDd/ZJZZYby3ikgdZ/kMMirL32bea8m%2BJ3wc/bd%2BMTfD342654N%2BFWh/EP4UeOptY8P%2BGbXxxqV/ouuWdxpN3plzHcXz6VDNYzFL2SSN0tbgRmIKfMEjYq/En4Dftwa/8ZfDv7TXgfRvhXaeLL74Yar4L8Y6FqXivUpLDSFuL%2BG6tb%2ByuE04SagYhG6yW8sVoJS4xLFjkA7jSf8Ago3%2ByB4j17wL4W8K/EbVdZ1P4k%2BDdK8W%2BDdO0TwPrN7PeaHqL7LXUZEgtGa1t92PMknEa24ZTN5QYE7Hw1/bc/Zu%2BK/xGufhP4Z8X6tZ6/b6Xc6nDZeJ/BmraIt/Y28iRz3dlLqNrBHfwRvLEHltmkRfMQkgMpPlH7Cn7CXxY/Zh1/4caz488QeGrs%2BDv2UvCPwxv30i5nlZtW0t5muZovMgj3Wrb02MxV22/NGmBXjXw0/4JV/tjeJ/ij4X8TftTfGGz1SLT/AHivwv408TQfF/xJrV54il1exS2/tO10y%2Bhj0/QjlSxtLRSi5UCZxGq0AfUvhP/gov%2ByP410WPxVoPjvXP7DuNV0vT9P8AEt78P9btdK1GXUr2OyspLS%2Bns0tryCW5mijFxBI8IMqFnCsCfS/C3xd%2BHnjX4geKfhd4X8Q/a9c8FyWcfie0S0mC2Ml1B9ogjMrII3doSshRGZkWSMsFEibvmHxx4E%2BIvhX/AIJ7eNPgR/wUM8T/AAq8EeAtB%2BGkWgW3xM8O%2BLbsM06RpbWupPaXVnAmmzLMLeSGCO4umM5REcnaG7X/AIJX/D74seG/2RNK%2BKv7RVglv8TvixfS%2BOviJCtu0X2e/v1jMNpsb5k%2By2MdlZ7TkgWuDQB9G0UUUAFFFFABRRRQAUUUUAFFFFABRRRQAUUUUAFFFFABRRRQAUUUUAFFFFABRRRQAUUUUAFFFFABRRRQAUUUUAFFFFABRRRQAUUUUAFeL/Hrx/8AtF/8NF%2BBfgR8BfGfgrw%2Bmv8AgrxLr2r6n4v8F3etEnTrvQ7eGGGO31Kx8sN/akrMzM%2BfLQALyT7RXhXxF1pLL/gpV8IdFkUYvfgn8Q2Rs87o9W8GnH5Mx/Ck2luXCEqjtHs392rL/wDwg/8AwUL/AOjoPgz/AOGH1b/5qKP%2BEH/4KF/9HQfBn/ww%2Brf/ADUV7NRTIPGf%2BEH/AOChf/R0HwZ/8MPq3/zUUf8ACD/8FC/%2BjoPgz/4YfVv/AJqK9mooA8Z/4Qf/AIKF/wDR0HwZ/wDDD6t/81FH/CD/APBQv/o6D4M/%2BGH1b/5qK9mooA8Z/wCEH/4KF/8AR0HwZ/8ADD6t/wDNRR/wg/8AwUL/AOjoPgz/AOGH1b/5qK9mooA8Z/4Qf/goX/0dB8Gf/DD6t/8ANRR/wg//AAUL/wCjoPgz/wCGH1b/AOaivZqKAPGf%2BEH/AOChf/R0HwZ/8MPq3/zUUf8ACD/8FC/%2BjoPgz/4YfVv/AJqK9mooA8Z/4Qf/AIKF/wDR0HwZ/wDDD6t/81FH/CD/APBQv/o6D4M/%2BGH1b/5qK9mooA8Z/wCEH/4KF/8AR0HwZ/8ADD6t/wDNRR/wg/8AwUL/AOjoPgz/AOGH1b/5qKta/wDG/wDZE%2BFNppGk/HT4w/Dnw5rmoaLBqBtvF3iGwtLu4jkyPP23Dq7IzpIA3TKMM8EDN/4a/wD%2BCcH/AEdF8Ef/AAttH/8Ajtc08Zg6cnGdWKa6OUU/uckz2sPw3xJi6Ea1DA15wkrqUaNaUWu6lGjKLWj1Ta03LH/CD/8ABQv/AKOg%2BDP/AIYfVv8A5qKP%2BEH/AOChf/R0HwZ/8MPq3/zUVX/4a/8A%2BCcH/R0XwR/8LbR//jtenaBovws8V6FZeKfC2k%2BH9S0zUrSO607UdPggmguoJFDxyxyICroykMrKSCCCDg1dLE4eu2qc4yt2kn%2BTZz47Js5yuEZ43C1aSk7J1KdSmm97JzpwTdtbJt21tbU85/4Qf/goX/0dB8Gf/DD6t/8ANRR/wg//AAUL/wCjoPgz/wCGH1b/AOaivPPh9/wUa/Yv8X%2BB7Pxh4h%2BHvifQZ9U8ca14W0TRrn4Pa3Peate6dcX8ci2kUOns90TDp887LErmEAxybJFZR2XxC/ao/Za8C2Xj20vNEi0/WPAXhDWvEN5beLPAmraTZ3dnpi/6XPb3UmnOL23iZohJLZJdFRNGwR96K%2Bx5po/8IP8A8FC/%2BjoPgz/4YfVv/moo/wCEH/4KF/8AR0HwZ/8ADD6t/wDNRVWw/as/Yw1D4zyfs/Q3lv8A8JRb%2BII9Buo/%2BEGvxYQ6q%2BnR6lHYtqDWgtFne0lSZIzKGcHCgsCo2fjX8Vfgr8JP2edd/aH0fwjo3ijTtLsGk0230NbaQardNKIILWKYAoGkuGSHcTtVmJboaAKH/CD/APBQv/o6D4M/%2BGH1b/5qKP8AhB/%2BChf/AEdB8Gf/AAw%2Brf8AzUU/9nD4gW3xcvPGXgf4o/Arw34V8YeA/EEOma/pWj6iuq2Miz2Nte29zbXUlpbPLG8VyqnfBGyyxSrhlCu/knxM/bR8Q/Abwz8T5fjl%2ByH4I07xB4A%2BFg8d2Wm6F46F9Z3VkZ54BBeXUmlwNYTb4G5WG4jZVkKO/lMKAPWP%2BEH/AOChf/R0HwZ/8MPq3/zUUf8ACD/8FC/%2BjoPgz/4YfVv/AJqK8l%2BKH7cvhz4X/Ab4f/GK%2B8C/s%2BXq/ED4iP4ZtdctfjWn/CJ2MS6bqN99ql1s6P8AeLae0HlC2x5kyDzOorV%2BOX7Ydp8GkvLuz/Zp8IeIbLwR8LbD4gfF/UtM8Ur9n0PRbmS6QSaYxsD/AGswXTtTlUOLMPFaA5VpVjAB6L/wg/8AwUL/AOjoPgz/AOGH1b/5qKP%2BEH/4KF/9HQfBn/ww%2Brf/ADUVg3v7S/w9k/be0n9jzw18DdP1G0n0TUJ9d8Zb4o4dO1K2itbgaYkPksZ5fs13DNI29BEtxbgCQyMIuU079sG70z4EeO/iL8TP2TvC2j%2BKvBvxW03wDF4Z0/xUl3Y3V/qM%2BkwWc0uoPYQm3h8zV4POYQSeWsUhQTHarAHpP/CD/wDBQv8A6Og%2BDP8A4YfVv/moo/4Qf/goX/0dB8Gf/DD6t/8ANRXD6D%2B0V438e/DTxH4i%2BG/7L/wxvPEXw%2B8VapoPxJ03VfiP9k0vSriygiuD9n1BdJla53wzwv8AvYLcRkushQoQc/4i/tWeMdI%2BGHwr%2BOfwt/ZC8Faz4X%2BKsnhWDSbHxD4wl0rXoLnWpYf3RsU0i5hb7NbytcSk3KHZbz8DYCwB6R/wg/8AwUL/AOjoPgz/AOGH1b/5qKP%2BEH/4KF/9HQfBn/ww%2Brf/ADUV5fq/7dXg7wt4kv8AxD4r/Zh06P4bnxD4t8O%2BG/FenX8dzqWp6x4ctdQuNQt2002qLDG39j6skMguZGdrMbo4xKprLt/2/NLsNGvvD/i/9mXwPb%2BOpLXwXeeHNA0jxxFe6ZdWnii/msNNlutQOnxm0KzW83nBIJwF8owtO0qrQB7J/wAIP/wUL/6Og%2BDP/hh9W/8Amoo/4Qf/AIKF/wDR0HwZ/wDDD6t/81Feer%2B1H4p8RfAnXfi98Ov2XfhtqF34A1bxDpvxQsNU%2BIgs7PSLjSGImS0vF0qX7Z5iAyKZY7UKvEpibKjV8c/tG6l4OsfAfxSH7K3ht/hx441TwvpsOp3mvi38QW91rlzb20AGk/YGjkWGS6iM2btHWNJ3EbCPDAHW/wDCD/8ABQv/AKOg%2BDP/AIYfVv8A5qKP%2BEH/AOChf/R0HwZ/8MPq3/zUV538U/2qPFnwL%2BN2seAvil%2ByX4Hm8MaP8N/E/jq41zwl4wl1DUodI0kwiLzrCXSLeNLi6M4WOJbmQAwz4ZxHk9Z%2By98ddG%2BN/jfxH8JfiP8ABXwZ4d8WeHfDeheI5bHwz4ij120k0rV/tgs5Dcmztis2%2Bwug8QjZQoidZHWUEAGx/wAIP/wUL/6Og%2BDP/hh9W/8Amoqh4H8cftWeDv2rPDnwR%2BN3xH%2BHvibRvE3w98Q65DN4V%2BHl9ot1aXWm32iW6Kz3Gr3ySxumqSkqERg0SENjIPqHizwn4W03wtqWpab4csba5trGWW3uLe0RHjdULKysoBBBArz7xx/ykL%2BF/wD2Rnx5/wCnbwhQB7NRRRQAUUUUAFFFFABXzj8JvFX7d/x10fXvHfhf43/CTQNLt/iF4q0PS9Kv/g/ql/cRWul69f6ZC0twniKBZZHjs1dmWKNdzkBQAK%2Bjq8Z/YP8A%2BSIa5/2Wb4j/APqa63QAf8IP/wAFC/8Ao6D4M/8Ahh9W/wDmoo/4Qf8A4KF/9HQfBn/ww%2Brf/NRXs1FAHjP/AAg//BQv/o6D4M/%2BGH1b/wCaij/hB/8AgoX/ANHQfBn/AMMPq3/zUV7NRQB4z/wg/wDwUL/6Og%2BDP/hh9W/%2Baij/AIQf/goX/wBHQfBn/wAMPq3/AM1FezUUAeM/8IP/AMFC/wDo6D4M/wDhh9W/%2Baij/hB/%2BChf/R0HwZ/8MPq3/wA1FezUUAeM/wDCD/8ABQv/AKOg%2BDP/AIYfVv8A5qKP%2BEH/AOChf/R0HwZ/8MPq3/zUV7NRQB4z/wAIP/wUL/6Og%2BDP/hh9W/8Amoo/4Qf/AIKF/wDR0HwZ/wDDD6t/81FezUUAeM/8IP8A8FC/%2BjoPgz/4YfVv/moo/wCEH/4KF/8AR0HwZ/8ADD6t/wDNRXs1FAHjP/CD/wDBQv8A6Og%2BDP8A4YfVv/moo/4Qf/goX/0dB8Gf/DD6t/8ANRXs1FAHjP8Awg//AAUL/wCjoPgz/wCGH1b/AOaij/hB/wDgoX/0dB8Gf/DD6t/81FezUUAeM/8ACD/8FC/%2BjoPgz/4YfVv/AJqKP%2BEH/wCChf8A0dB8Gf8Aww%2Brf/NRXs1FAHjP/CD/APBQv/o6D4M/%2BGH1b/5qKP8AhB/%2BChf/AEdB8Gf/AAw%2Brf8AzUV7NRQB4z/wg/8AwUL/AOjoPgz/AOGH1b/5qKP%2BEH/4KF/9HQfBn/ww%2Brf/ADUV7NRQB4z/AMIP/wAFC/8Ao6D4M/8Ahh9W/wDmoo/4Qf8A4KF/9HQfBn/ww%2Brf/NRXs1FAHjP/AAg//BQv/o6D4M/%2BGH1b/wCaij/hB/8AgoX/ANHQfBn/AMMPq3/zUV6hq3j7wJoMpt9c8a6TZSL95LvUooyPwZhWNd/tA/AXT8/b/jd4Qgx187xLar/OSs5VqMfikl81/mZSr0IfFNL1aX5s4j/hB/8AgoX/ANHQfBn/AMMPq3/zUUf8IP8A8FC/%2BjoPgz/4YfVv/morq0/al/Zjkl8iP9ozwGzjqg8X2RP5ebS6n%2B1D%2BzPotr9t1n9onwLaQkZE1z4uso1/NpQKj61hbX9pH/wKP/yRn9cwdr%2B1j/4FH/5I5P8A4Qf/AIKF/wDR0HwZ/wDDD6t/81FH/CD/APBQv/o6D4M/%2BGH1b/5qKreIv%2BClf/BP7wvu/tP9sb4dyFeosPFFvdn8oGeuA8Vf8Fu/%2BCY/hRWWX9paG/lHSHSvDmpXG76Mtvs/NhXLUzfKaPx4iC/7fj/mzknneS05cssTTv254t/cm39yZ6R/wg//AAUL/wCjoPgz/wCGH1b/AOaij/hB/wDgoX/0dB8Gf/DD6t/81FfOWt/8HF//AAT30qRksLLx/qYU8PY%2BGolDfTzriM/nisNf%2BDlT9iee4FvZ/Bv4sTM7YjVdF00sx%2Bgvya4pcU8Oxdniofe3%2BUT1KMMViIc9HD1prvHD4qS%2B%2BOFkvxPqn/hB/wDgoX/0dB8Gf/DD6t/81FH/AAg//BQv/o6D4M/%2BGH1b/wCaivn7TP8Agut8M/EsayeDf2IP2gdUDjKG28DwuG%2BhS5bNP1j/AIK9/Hu8jD/Db/gkl8e9U3D5W1bw7PYof%2BBLbzCr/wBY8mavGrzekZv8qZyvFL2ns/ZVebt7Gsn90qUD37/hB/8AgoX/ANHQfBn/AMMPq3/zUVb/AGVviN8afGGsfFDwJ8dNf8L6tqngH4hRaHZ6r4T8NXOk291ay6Do%2Bpqz29xe3jLIsmoyoWEu0rGh2qc5%2BY4P%2BCjn/BVbxY5Hg7/gkFq9iGPyf254rMePqZYIP6V6t/wTH8XfHDx4fjn4s/aP%2BF9r4L8Z3fxmiOseGrPUEuo7ML4T8OJDiVHdW3wrFIcMcFyDgggdODzXC4%2Bo4UlPRXu4Tivvklr5G6%2BsKVqlGpDznDl/OTd/%2B3V6n1DRRRXpFhRRRQAUUUUAFFFFABRRRQAUUUUAFFFFABRRRQAUUUUAFFFFAHPfFfx7ffDD4ean48034ea94rn02FZE8PeGRam%2BvMuqlYvtc8EIIDFiZJUUKrHPGDg%2BDv2gdM%2BI/wCzR4e/ac%2BHXw78S63Y%2BKfCWna/ofhqzhtV1S4hvYIpoYSstwlukoWVd26cRqQxMmBure%2BK4%2BILfDnWIvhX4d0bVvEEtm0em6f4g1yXTbOV2IU%2Bbcw2108QCliCsMmSAMAHcPD/AIEfDr9u34JfsDeHfgHoHg34UW/xG8F/C6x8PeHdRm8caleaPPqNnbRWkNxP/wASqGYQskZnZFUsGxECQfOAB6p8Af2gND%2BP2k6/LaeC9e8M6x4T8RvoXinwz4mjthe6XfLbW92sbtaTz28ge2u7aZXimkUrMvIYMo8a/aE1n%2By/%2BCs/7M9jvx/aXwx%2BJlvj1xJ4Ylx/5C/SvRP2Jfg98QPgh8F28H/FTwvo1l4in1m4v9b1bS/GM%2Buy%2BILucI8%2BpXdzNp1gVuJZS48lIfKijjiSMqirFH84ftReC/D3w3/4La/smeLtK1TxBJP4u0T4lR6pFqvi3Ub61iZdP0oxi1trmeSCyUsfmW2SJXwu4NtXHLjJ%2Bzoc3nH8ZRX6nu8OYb63mnsu9Os//AaFaX/tp920UUV1HhBRRRQAUUUUAFFFFABRRRQAUUUUAFFFFAHmepfsyfs2/GjR9B8U/GL9nvwP4s1O38P2trBqPiXwnZ388cCqXWJZJ42YIGd2Cg4BdjjJNUv%2BGB/2Ff8Aoyz4S/8AhudM/wDjFcn8Xv8AgpB%2Bxf8AsfS%2BHPhp%2B0X8Zf8AhHdbvvClnqdrZf8ACO6jd77V98Syb7W3kQZeGUbSwb5c4wQTyH/D83/gll/0dF/5ZOuf/IVeLiMXw7TryjXnSU09eb2d7%2Bd1e/qaLxDxGVL6pHOJ0lT05FiakFHrZRVeKjvsorfbU9b/AOGB/wBhX/oyz4S/%2BG50z/4xXp2gaBoXhTQrLwt4W0W003TNNtI7XTtO0%2B2WGC1gjUJHFHGgCoiqAqqoAAAAGBXyt/w/N/4JZf8AR0X/AJZOuf8AyFX094B8deFfih4E0X4l%2BBdU%2B3aJ4i0i21PR73yHi%2B0WtxEssUmyRVdNyOp2soYZwQDxXRgcRk9aclg5U20teTlvbz5UtL9xS4uq8Sfup5jLE8mtnXnV5b6XtKrUtfa6SvtfoeE/DD9hfxX4A8eeFNa1P4z6bqGg%2BB/ih4q8X%2BGtLh8ISQXYXXf7Wee0uLk3rpKYpdVYpKkMX7uEIyFmMg8j1r/gjDLr3inx74kvPjt4diuPGXgLx/4X/tq1%2BF6JrdzH4mkVxcarqJvi%2BqPZbRHCgW3Tyxt2pgMPdrD9vz4R6vp1jNpPhTxHNfXWi%2BLdSu9Jl%2BwW8ulp4cvVsNRju5J7tIIGF26QIzS%2BWxJYusau68J4N/4KfeB/jtN8ONR%2BAkFnLY678Z9R8DeN4L%2B%2BsdSl082/g3V/EKG2udKvrizldjaWB3pPMgSaaNgkqnyvSIOuk/YYD%2BIdV18fFDB1P466T8RzENE/1f2LSNP037Bnz/m3/YPM87A2%2Bbt8ttu5u8%2BNfwO1D9oD9nnXfgl4/wDGMVvf61YNGniDQ9LMAsrpJRNa3UUEssuWhlSF9rOyu0ZzgNgfPHi3/gqtK/wQ8KeNfhF8Kdf8R3uqQfD2TxH4pl8PwW%2BjaK3iS705UguYBqTXMdw1re%2BaqQG6igaaDzZmUkt9IfGH48eH/hJ8AvHnx9utG1K5sfAXh/WNUvrK40%2Ba0luBp0MssqxidFLK3ksElUNG4IZGZSCQDnfgL%2Bz/APFD4U6v4i8d%2BNfi1ofiHxV448Wxat401Gy8HzWFpJawaZFYW9lY27X0zWmz7PBKZJZbkszXA2qJU8ni/wBnH9kv9qf4H6L44v8AxZ%2B0x8P/ABZ4x8a3Z1G78Z3PwivYJ5r4OBCLmM67IstnBABbw2kJtxGoDBy7SM%2B3%2By18bPj94h%2BKnib4DftKjwjc%2BItG8FeHfFdrqXgvSrmytBa6rJqUBsmjubm4d5befS5szh0WVJoyIoyGWua8ZftE/tUfDL48a/8ACO%2BufA3jSWT4X%2BIvF2j6V4X8KX9ve%2BHjaTQx6ZDfs19OL0XhkmjQxpauz2U3lo6q5iANvwN%2By1%2B0N8MPDvi3V/BHx88DDxt4/wDHz%2BJ/Furar8K7ibRyx0u101YbPTotXiltz5Vlbs0kl1Ozu05YYkUR8DqH/BKuWw%2BGVr8G/h/8fjpvh3XPhNZfDj4pQ6j4UW6n8Q6Fb3F5MEs2juYU0uUjU9ThB8u4jSK7VVjBiRq0/gl%2B3N4zvv2ddT8ZfErxHo3ib4lR3Om6bZfDrTvhpq/g2/t9Zv4VNrp09nq9zcXOx5C7fbNqxCCGaXBSGRhy3i79uH9qfw//AME6PC/7Z0mpeDoddTRtRl8TaHp/wn1zWbPVL6BphFHFLaX4Oh2jfZpBJfXvnQQ%2BajSOgXDgHpVt/wAE2Pgv4f8A2r/DX7VPgXxP4v0m60XUvEWqan4fPj3XbjT9Q1DV3jkmnS2k1A2tqnmLI7QxweXIZFyo8pMVvhn%2Bx7%2B0V4W8L/F/w/8AEf44fC3xb/wtPxC2tJaXvwVuxp1ncSW1razQ3VrNrk3262eC0jHl74WDM7F2BCLH46/bV%2BIcX7X3wm%2BBvw58KaJP4X17xZJ4d%2BJWsXbyTy2Wpy%2BFdX161sbGWKRYzLFHpsMlw7q6%2BVf24QbnZo/F/Cf/AAVp%2BKlzoHiY6lH8P9a8Vp8F/E3jq18DaXBcWF14IvdIubKF9D1yae7kWW5P9oRksqWhzaTYj2yxPQB32tf8EwfG1p8BbL4GfDD42%2BCvD%2Bnat46m8TfE/SD8KHOh%2BKswxwwaWmn2mqWzWWmxR29qhthPKZ47VI5nkSScTe4eIv2fde8ffFD4UfEz4ieO7G7/AOFaWuoXcukaZoLW1rqGvXNktimoxh7iVraOG3m1ONLdjM2L9SZsw/vPmSw/4KD/ALWPiD4Z3eoeF9P0y9u9L%2BMtr4Y1XxNF%2Bz54qe4tdGl8PtqT3s/hMXn9rWjrcmK3V5ZQkiOsypsdCfQf2kP2kf2ltC/Zq8GfHb9l346/CfxDN4rbQdH0WK/%2BGmo3Nv4j1jUr2G1Sa3MWtwtZWy%2Bc0rxSCeSGOCUtIdhwAdD4T/YW8SeF/jFZeK2%2BNFrc%2BC/DnjrxH428FeEG8KlbnTvEGtxXyXk1xe/ait1bhtV1V44BBEym9w0riNawvhv/AME34vh74V%2BItxAfg4fE/wAQ9N03S7u1sPgatp4SjsLO4nn8ubQ11ItdSzNd3Rlme7BYtBwFgCNo%2BEP2p/i7cft3%2BLfgJ8TvE%2BieFvCtn4ri0n4faXqXwn1uOfxbCfDdhqUktt4hku102SZLqbUENrHA8vladJkZDSL5R8Nf%2BCp3jn4m/sy%2BMP2mvDHiXwddzSfDxvF3gf4fXPgTV9NurXT3mREuJNRu7lYNdESSxidLCKILcEWwkLujMAddrf8AwTH8d2XwS8LfA74W/HLwZouiW/jK98T/ABF0G/8AhVJNo3iy6ldXtrMWVpqlp9j062ZYwtn5sokS2t0maRVmE/eeMv2WP2jvGv7U3hD9oTW/2hvBV7o/hDSreDT/AAbqXwwvJYrO%2BcMmo6naSprKLDdXELtBFJNFcG1iZ0Tf5s5m8%2B8E/tm/tB%2BNf2Xfil8b774peBfDSfCPxHqK614g8QfBvWbVtQ0m00e11CR5NBvNXtr7SLgPcSRqlzM5mjhjnRBHcxEP%2BI/7cH7UPwv%2BGvwZ0LXfA3hGX4lazqPgF/jjapY3Sad4ctNe17TtFkgtk%2B0GRbp57y4%2Bz%2BZI67dNuXcHCI4B7t4b/Z%2ButB%2BOPxI%2BPd34yivtY8baPpWjaNHcaT%2B60TTLCGcxWxHm/wCkbry8vrl2HlblnSMj90JG5T9jz9ifRf2XfEni34iXP/CEjxB4wt9Psr2D4c/D1PDGjW1nZNdSQJFYrc3Lea019dySzvM7SGRRhVjRRwdp%2B258eF%2BKNn4jm8O%2BErr4e%2BJPil4q%2BHvhrRUt57bV4dS0Sx1Wdr25v5Lk25gnuNDvoRELdDEs1vIZXAdRyX7Kv/BT74l%2BP/BXivxN8XPD2mard2Pg/wAL6n4X0fR/BepeGb3UdY1qS7hi0aG31SeZ76HzoYEj1iHbZTedKV%2BW3lZQD7K8c/8AIk6x/wBgq4/9FtXlvjj/AJSF/C//ALIz48/9O3hCqv7KPxl%2BKHx8/YwX4lfGm00GDxTL/wAJDp2tJ4Xt54tPMtjqN7Y7oUnkkkCstsrfMxOSenQWvHH/ACkL%2BF//AGRnx5/6dvCFAHs1FFFABRRRQAUUUUAFeM/sH/8AJENc/wCyzfEf/wBTXW69mrxn9g//AJIhrn/ZZviP/wCprrdAHs1FFFABRRRQAUUUUAFFFFABRUV7fWWmWkl/qN5FbwRLulmnkCIg9STwBXl/j39uf9jH4Yxyt47/AGqfAGnyQqS9rJ4rtXuOOuIUcyMfYKTWVWvQoK9WaivNpfm0YV8ThsNHmrTjFf3ml%2BbR6rRXyG//AAVR1n4z3baX%2BwR%2Bx946%2BLiCQr/wk93GPD%2BgHBwdt7erl2HJ27FJ4weanb45/wDBYfXBs0n9hX4baGz8K%2BtfE0XSxn1YW6AkD2rzv7awU/4SlNd4QlJfKSST%2BTa8zy/9YcunrRU6i7wpzlH5SSUX8m15n1rRXyOPgp/wWH%2BKXzeP/wBsz4Z/DSGT/WWvw58BPqrhf7vmakwKnHG4dD0rK8Y/8E4vDNpo7eI/2wv%2BCl/xi1bTuftcOofECHQdIk9Q0MahR%2BDjApSzHFyV6eGlbvOUIL8XJ/gXSx2bYyoqeEwFSUnouZwi2/KKdSb9FG/kfS/xQ/aU/Z4%2BCSk/GD45%2BEfDDAZEWu%2BIba1kb2VJHDMfYAmvDvEf/BaD/gnVouonRdF%2BONx4jvV5a28LeGNQvsD%2B9vjg2EfRjXhul%2BKP%2BDen9mTVl0rwr4f8GeL9bLkoLLR7zxdPNJ1LrK63EYbPOQw9q9U8Of8ABUf4OaVpw0T9n79g3466zbni3i8K/CM21pnsSzPGEX3215ss5qylZ4ijB9o89V/%2BS2X4H3FDwu8ZsbRVZ5b7CEtU5wlHTvzYiphY287WND/h87%2BydP8A8grwR8Vb70%2ByfDS%2BOfzUUf8AD4P4PXXy6D%2Byx%2B0Bqsh%2B5Fp/wpnZnPoN0i0n/DY//BSHx98nwm/4Jc3el28n3NV8f/EaxsvL9N1qimU/gaB4W/4LUfEQ79Z%2BKfwL%2BHVs/wDq00DRL/V7uMf7f2oiIt/u8VP17M6n8KpOXph7L75zijb/AIhfxZQ/5GOd4DDeUqtGcv8AwChLEyv5XTFH/BTr4qa583gb/gl7%2B0NcqfunXfC0GmZ/7%2BTNikk/bf8A%2BCg/iJfsvgH/AIJOeIkmk4jufE/xI02whiH95wVJIHoOTS/8MG/tx%2BM/l%2BMH/BWHxvPE/wDrYPBHgzT9BKj%2B6skRdv8AgWM0D/gjL%2Byx4kO/44fEP4r/ABMdv9a/jr4lXs/meufs5ho5eI6vwuS9XRh%2BEY1WL/UnhnDf79xXKflhcDKX3Srexj%2BBw/jf9of/AIKRxI958T/2lf2VvgtZKP8Aj21HXpb/AFCL2czSLCx9NvU14z4u/bR1qxv/ALF4s/4L629zfMcRaT8O/gFDeoT3CzRI4f2yRX2p4H/4JXf8E7vh46SeH/2RPBszR/cbWdPOpEe/%2BltLn8a9n8IfD7wD8PrH%2BzPAXgjR9DtsY%2Bz6RpkVsmPTbGoFH9j5vW/iVrf9v1ZfhF0o/gH9i%2BEeF/iSzPGP%2B9iKOFj91KNWXy/E/Kx/jZ8c/iCBpvhz9qb9s7x/by8Z8A/Bm20cN7/amYGJffae1Cfsh/tIeOP%2BJtp37A/7QXiS4b7viT4jftS22n6h%2BMIjGM9TxX610Uf6rRqfxq8pfJf%2B3yn%2BXzD2vhlh/wCBw3Cr54nGY2u/ujUoRXyR%2BS//AA74/wCChmq/6NpnwP8AH2j2x/5dNU/areeAfVYYdx/A0n/DnL9trxf8niP4ZfCiaNvvp4z%2BLXiy%2BOPf7JKgJ/Sv1poo/wBT8sl8c5v5r/5Fh/a3CUP4XDWXL/FRr1fwq42S/A/KzSf%2BCCnxnuYRb31p8AfDy930nQtb1Nl%2Bhv7o5/Gt3S/%2BDd7VJj5viP8Aas8NIGPNtpfwP0tAnsJJZXY/iK/TaitI8H5At6bfrJ/oomi4opUVbDZTl1Jf3cuwb/GpTrP8T85rX/g3F%2BAN%2BAvjH4/%2BI7kfxf2N4X0iwJ%2BhW2fFdJ4a/wCDcz/gn3oTh9V1T4g6zjqupeI4EB/8B7aI1960V0Q4W4dg7/Vov1u/zZzV%2BJszxFrwoRt/JhMHD/0nBr8z5T8H/wDBEn/gmV4NdZ7f9mm31CZcfvdY8QahdA/VHn8v/wAdr03RP%2BCfX7Cfh6BINL/Y4%2BGI8sYWSfwPYzSf99yRMx/OvX6K76WU5VQX7vDwX/bkf/kWZLiTiGLvDF1If4Jun%2BFL2S/A4PTf2WP2YdGx/ZH7OPgO0x0%2BzeELKPH/AHzEK6jw94H8F%2BEgV8KeENL0wEcjT9Pjhz/3worUorrhQoU/ggl6JL8kjixGaZpjFbEYipNf3qk5f%2BlTkFFFFanCFeM/sv8A/Jb/ANo7/ss1j/6hXhevZq8Z/Zf/AOS3/tHf9lmsf/UK8L0AezUUUUAFFFFABRRRQAUUUUAFFFFABRRRQAUUUUAFFFFABRRRQAUUUUAFFFFABXwb/wAFKtU/sP8A4KtfsQapuxu1Lxla5/67jRIsf%2BPV95V%2Bdn/BYq%2Bl0f8A4KGfsR66nCW3j3UhO392OTU/DkbH/wAerzM4lyZdOXblf/k9M%2B48OKCxXGeGo/zqvH78Li/8j9E6KKK9M%2BHCiiigAooooAKKKKACiiigAooooAKKKKAMrwN/yJOj/wDYLt//AEWtatZQ8GaGmVga%2BhTJIit9WuY0X2VVkCqPYACl/wCEP0n/AJ%2B9V/8AB5d//HaANSisv/hD9J/5%2B9V/8Hl3/wDHaP8AhD9J/wCfvVf/AAeXf/x2gDw/xB/wTT/Z88S%2BI/jN4l1DV/Ewl%2BNunW1nrlumow%2BTogiUlpNNQwkQNNORczCXzUlmVSylfkL/AAV/wTu%2BHPhbxdH8QvEHxi8feKfEB%2BJ0nju81jxBe6f5l3qbeFZ/C/lslrZQxJbiwnLLHEkeJkRs7N0be2/8IfpP/P3qv/g8u/8A47R/wh%2Bk/wDP3qv/AIPLv/47QB85f8OpPgxZ%2BF9A8A%2BHPjP8SNI8O6RY%2BEIdU0HTtT08QeIJvDTWp0y7vGexaUTbbK2SX7O8EcqRKGT5Vx9A6x8OtI8W%2BB9d%2BHXxCvrnxHpPiKG%2BttStdUjhUNZXQdXsx5EcYMSxuY1LZkKgb3dssbn/AAh%2Bk/8AP3qv/g8u/wD47R/wh%2Bk/8/eq/wDg8u//AI7QB5n8Dv2PdL%2BBcmpazp3xz8d%2BINf1SHRbG68UeJp9NnvjpGlSSvaaSPLso4vsw%2B0XYZzGbljeTOZ/MKyLnfCX9ia4%2BD3jvx/4/wBB/ar%2BJd9dfEXUL2/1mPVoPD8pt7qZfLgkhnXSVuNtpEEitoZZZIY0QBo35z67/wAIfpP/AD96r/4PLv8A%2BO0f8IfpP/P3qv8A4PLv/wCO0AeR6T/wT/8AgLrB8QXv7R1kfjbqPiWfT31PUfi5oOkagAlglwlnHFa29jBaQiH7ZeFWSAOTdSlnbdxh6D/wTW%2BGPw//AGe9P/ZZ%2BCXxd8Z/D3wLBY6hZ61ongy00O2GuxXrs0/2l5NMkeNyrvGJbUwSBW%2B9uVWX3j/hD9J/5%2B9V/wDB5d//AB2j/hD9J/5%2B9V/8Hl3/APHaAPHPE3/BM/8AYe8SfFjwF8b0/Zv8Haf4p%2BHvieDXdL1vT/Cmni8vriDTLnT7dLy5eBp50hW4jnj%2BcOlxZWkgb91gr4q/YH8B/E1vFdz8bPi9458bXfiTw1deH9Ov9autPtpfDWnXFxFcyQ6f9gs7dUYz29pIZZxNKxsrfe7BMH2L/hD9J/5%2B9V/8Hl3/APHaP%2BEP0n/n71X/AMHl3/8AHaAPJdA/Yx1Xwrpeu3fhz9rj4n2ni3xRrtvqPiP4gCDw9Jqd%2BlvafZILMwyaS1jFbogDARWqOXBYuSz7tPwx%2Bxf8I/CWkfCvw9pd/rj6f8ItTudU8PWd1fpKt9qM9ndWr3t6WjLTTbb27kBUooknZ9vyoF9H/wCEP0n/AJ%2B9V/8AB5d//HaP%2BEP0n/n71X/weXf/AMdoA8/8RfstQeNfjTo3xc8e/G/xrren%2BG9dOs%2BG/At2dMi0fTb/AOyy2qzqYLKO8mKpPOVSe5ljDybtuUj2efRf8EuPga2hT%2BFtV%2BIvjm%2B0uy8MS%2BH/AAHYTajZRJ4G057%2Bz1BYdMMNojnZc6bpro1210yiwhTJTer/AED/AMIfpP8Az96r/wCDy7/%2BO0f8IfpP/P3qv/g8u/8A47QB5Cn7Bfw81H4a%2BKfh347%2BJ/jLxPN468Z6X4j8b%2BItYuLBL3XJLB7DyrOVbW0hto7R4NOt7aSKGGPfEZfmEkjSGf8Aai/4J3fsbfth3NtrPx1/Z98I6vrdtq%2Bi3o8TXPhTTrjU5ItN1KC/jsXubi3kc2krQmCaHOHguJ0BXfuHq/8Awh%2Bk/wDP3qv/AIPLv/47R/wh%2Bk/8/eq/%2BDy7/wDjtAHjd7/wT0%2BDGsfEnUfGfiLxT4p1LQb7VNX1eD4eXV7bDRLDVdUsZrHUNQgEdut0Jpre6vFKtcNEpvbh0jRn3Ct4K/4Js/s92FrdWfx0e%2B%2BNEU2haZollB8XtL0nU4NP07T2ne1t4oIrGGJir3ErGeVJLhyRulYKoHtv/CH6T/z96r/4PLv/AOO0f8IfpP8Az96r/wCDy7/%2BO0AecfBD9lT4Lfsa/s46t8FvgN4TtdI0MS6xqjQW1hbW%2B%2Be7lmuH3LbxRoQm9YU%2BXKxQxISdmaqeOP8AlIX8L/8AsjPjz/07eEK9RPgzQ3ws7X0yZBMVxq1zIjezK0hVh7EEV5d44/5SF/C//sjPjz/07eEKAPZqKKKACvn7/gpcdMH7Ndr/AMJp5f8AwhX/AAsLwv8A8LI%2B0f8AHv8A8I9/bNp9t%2B1Z4%2Bx%2BX/x87v3f2bz/ADP3e%2BvoGigD4L8EWnwv8ffsBfFr4X/D/wCMvgrwt4Ej8d6lq3gJtW1qO10Q%2BEYdYikeJ2Rv3Oh3U8GoWYmjBhFrMfKDRhFPmGh/Ff8AZV%2BG/wCyr448QftM/B74Hax4Q8R/HWWw/Zu8EnUrWTwU0kmg6ckz2N5fQQwJp8d9Hq00t8II1BF00COZIUk/UOigDyf9nTRfE/w%2B/Yr8CeGPhd4%2B0T4parongDS7LS/E9/4keGw8SSQ2sUf2s3sUd24jl2lxIEnYgjJYktWH/wAE6bjxLd/s3X114y0mxsNXk%2BLfxDbU7HTNRe7trec%2BM9a8yOKd4YWmQNkB2ijLAAlFzge6V4z%2Bwf8A8kQ1z/ss3xH/APU11ugD2aiiigAooqpruu6H4X0a68R%2BJdZtdO0%2Bxgae9v764WKG3iUZZ3diFRQBkkkACk2krsTairst1U17xBoPhXRrnxF4n1u003T7OIyXd9f3KwwwIOrO7kKo9ycV8leJv%2BCkHxH/AGivEF38L/8AgmR8Gz4%2BureY2%2BpfE7xGsll4V0l%2BhIlIEl66/wByIDIIZS4zU2gf8Espfi/rNt48/wCCiH7QniH4x6rDKJ7fwx5h0zw1YSdQIrGAjzCvTe5G8D5kNeS80liXy4Gn7T%2B83y01/wBvWbl/24n/AIjw3nM8W3HLaXtf77fLSX/b9m527U4y/wARpeOv%2BCun7Ni%2BIpvh5%2BzT4f8AFPxs8VRfKdJ%2BGWiyXlvET0aW8IECR8cyIzgdSKxF%2BH3/AAVY/a4YT/E74k6L%2Bzt4QnOT4e8FOureJJYz/BLfNiG3bph4fmGMFa%2BnNN0b4N/s8/D2RNI0zw14I8K6RCZZvIht9OsLOMYBdsBI4x0yTivnvxZ/wV4/Zxvtdn8D/sxeEfGXxr8RwnY9h8N/D0tzawsehmu3CxJH/wBNELgVyYpRp2/tLFWvtCF4J%2BWnNVl8rH0OReH/ABnxi5OlCpWhH4/ZRdKjD/r5WlKNl/jrU7roV7H/AIIxfsf6xdx6p8c9a%2BIvxVvY23C7%2BIvxAvbti/8AeKwtEp%2BhBFdld/sj/wDBMz9lnw//AMJn4m%2BBXwl8J2NsRt1vxLpdipRhyALi7Bbd7BsmuC%2Bwf8Fef2n%2BdQ1XwV%2Bzp4buOsFkq%2BI/EWw9QXOLWPI/iXa6k9OK3vhz/wAEkf2VdD8Rx/EP45DxB8Y/Fi8v4g%2BKmsvqmD1KpbNiBUz0VkbaAADWVLD0ZO%2BCwMV/fqJR%2Bdmp1H8%2BU%2BroeHHh5w6%2BfOcbRdRb0sJCOKqX7SxE7YeL81UrteZQ1n/gsH%2ByJ/aLeDP2etE8bfFvVbUCIaT8LvBdzerF2UeY4ji2Y/iVmAH0qsf2p/8AgqJ8WB5fwX/4J36T4OtZf%2BPfXPit46iUDPd7G0HnrjuNxr6r8O%2BGfDnhDSYtA8J%2BH7HS7CAYgstOtEghjHoqIAo/AVdr0fqWZVf42Ja8qcYx/GXPL8j0v9ZeCsu0y3JI1Gtp4utVrP19lR%2BrUV6XkujvufI3/DIH/BR/4z/vf2iv%2BCiTeFbGX/X%2BHfgz4ZjsNmevl6jcZuB6cqfWtbwd/wAEdf2G9G1dfFXxH8Fa38SddH39c%2BJPia61WaTud6Mywtk88x19R0U45Llt%2BapD2j7zbn/6U2l8ooir4m8aKm6WCxCwlN6cuFp08Mrdm6MI1JL/ABVpX633Oe%2BH3wk%2BFXwm03%2BxvhZ8M/D/AIatNoH2XQNGgs48DttiVRXQ0UV6cIQpx5YpJdlovwsfD4jEYjF1nVrzlOb3lJuTfq5OTfzbCiiiqMQooooAKKKKACiiigAooooAKKKKACiiigAooooAKKKKACiiigArxn9l/wD5Lf8AtHf9lmsf/UK8L17NXjP7L/8AyW/9o7/ss1j/AOoV4XoA9mooooAKKKKACiiigAooooAKKKKACiiigAooooAKKKKACiiigAooooAKK5z4u%2BI/iB4R%2BG%2BreJfhZ4J03xHr9nbiTT9G1fXm0y2uTuXd5l0lvcNEqpubIhkJ24C815tH%2B2ZYp%2BwX4d/bbvPh7P5nibwNomt6d4RttRV3e%2B1WK2%2ByaeLhkVTuuLqKHziigZ3lQPloA9sr85f%2BC5H%2BgfHr9n7xf0/4R8apqO7%2B7t8ReEEz/wCRK%2Bzv2bvjv4o%2BML%2BMfCPxJ%2BH1j4X8X%2BAfE66L4k0nSdffVLIvLYWmoQT211JbWzzRPb3sOS8EbLIsqbSEDN8af8F84JU0PSdetkLTaP8ACnxDfQgdcp4t8CAn8mNeTnv/ACJsQ%2B0G/us/0Pv/AApa/wCIl5RB/bxFOH/gzmp/%2B5D9F6KZbzxXVul1A%2B5JEDIw7gjINPr1j4Fpp2YUUUUCCiiigAooooAKKKKACiiigAooooAKKKKACiiigAooooAKKKKACiiigAooooAKKKKACiiigAooooAKKKKACiiigArxnxx/ykL%2BF/8A2Rnx5/6dvCFezV4z44/5SF/C/wD7Iz48/wDTt4QoA9mooooAKKKKACiiigArxn9g/wD5Ihrn/ZZviP8A%2BprrdezV4z%2Bwf/yRDXP%2ByzfEf/1NdboA9moopHZUUu7AKBkkngCgDhv2lP2h/hz%2Byr8FNe%2BOvxT1EwaTodoZDFHgy3cxO2K2iB%2B9JI5VFHTJySACR8x%2BEv2Uf2i/%2BCh11p3xd/4KG6hJ4c8Au0d94a%2BAmgXsiRFeHil1icbXnlAwfJG0KcfcO%2BMw%2BCVb/gqT%2B10vxYv1Nx8BfgvrbxeELdxmDxh4mj4fUCOkltbZ2xnkMxyCQ8iD7crwoQWdVHUqa0E7Rj0m09ZS7xvpFbOzk01yo%2Bap01xDVlVq3eFi7Rj0qNPWcv5oXVoRvyys5tSTiih4X8LeGfBHh608JeDfD1jpOlafAIbHTdNtUggt4x0RI0AVQPQCvE/2vP28/Bf7NmqWHwk8C%2BFbzx/8V/ES7fC/w40BwbmbOcT3L4ItLcYJMj9lYgEKzLwfx0/bf%2BKPxv8AiVf/ALJP/BOGxstc8VWb%2BT40%2BJt4nmaF4NUkhhvAK3V4MHbEu4BhyG2yKnp37IP7Dnws/ZI0y/1rTr698UeOfELed4x%2BIfiJ/O1PWJyQW3OxJiiyBtiU4AAyWYbjc8XWxsnQwFlFaSqW91W05YLaUltf4I9eZrlP23BcNZRwlg6eYcTwbqSipUcFFuE5pq8Z4hr3sPQas4wSVetH4I0qb9q/JvCn/BPb4t/tP%2BIrP4s/8FO/iXF4oa3mFzo/wg8MSyW/hnSG6r5wB338q92clfvLmRCK%2BsPCfg7wh4C0KDwv4F8K6boumWy7bbTtJsY7aCIeixxgKv4CtKiu3CZfhsHdwV5PeT1k/WT1%2BSsl0SPneIOLs84k5KeKmo0Kf8OjTSp0Ka7QpRtFPvOXPUk9Z1JNhRRRXafMhRRRQAUUUUAFFFFABRRRQAUUUUAFFFFABRRRQAUUUUAFFFFABRRRQAUUUUAFFFFABRRRQAV4z%2By//wAlv/aO/wCyzWP/AKhXhevZq8Z/Zf8A%2BS3/ALR3/ZZrH/1CvC9AHs1FFFABRRRQAUUUUAFFFFABRRRQAUUUUAFFFFABRRRQAUUUUAFFFFAGB8UdE8eeJfh9qugfDLxTpGia7eWpisNV17QpdTtLckgM0ltFc2ryjZuAAmjwSDkgFT4d4J/Yf%2BKFp%2Bw7o/7FPxN%2BPehapb%2BHPBWmaLoPifw74Dm024trvTGt202/aKfUbpHaJrWB3jyFkdSQY1OwfSFFAHmX7N3wH8U/B5/GPi74lfEGx8UeL/H3idda8SatpOgPpdirxWFpp8EFtayXNy8MSW9lDkPPIzSNK%2BQHCr8b/wDBYL4FfCjQ9U8T%2BL/BPwu8PaRrviT9nnxve%2BJdZ0rRILe71Z7XXvBksb3M0aB5ymHwXLEbjjqa/RWvjf8A4Kh6N/b%2Bt6ppoTcx/ZM%2BK8qLjq0dz4VkUfmorhzSHtMsrx7wn/6TI%2Br4ExP1PjnKq/8ALicO/wDyvS/zPqL4K6z/AMJH8G/CXiHfu%2B3%2BGbC43eu%2B3jbP6101eW/sOaz/AMJF%2BxZ8ItcL5a6%2BGWgyOf8AaOnwbh%2Bea9SrfCz9phac%2B8Yv74xf6nk59hvqWfYvD/yVqsf/AAGrVj/7aFFFFbnlBRRRQAUUUUAFFFFABRRRQAUUUUAFFFFABRRRQAUUUUAFFFFABRRRQAUUUUAFFFFABRRRQAUUUUAFFFFABRRRQAV4z44/5SF/C/8A7Iz48/8ATt4Qr2avGfHH/KQv4X/9kZ8ef%2BnbwhQB7NRRRQAUUV5D%2B2v8SPH3w8%2BE%2BkWXwy8StoWseLPH/h3wxD4iS0hnfSYtQ1O3t57mOOdHiaYQvIIvMR4xK0ZdHUFGAPXqK%2BUrD4y/tUT/ALIfxQsPBviDUfFXjv4ffEa78M2/ii10G1l1K%2B0uK%2BtWmv47OGJLee/g065lxEkQjmubUAQgSeVXnXws/aq/aE%2BOHjiP9lnw98bPHXh8Q/GbU9AX4meIPA2naf4lvdJtvCdhriI9heactrbXDXOorHmSxRja2ufKSSTzEAPvKvGf2D/%2BSIa5/wBlm%2BI//qa63Tv2W/2idZ8dfsV%2BE/2hPi1bXV1qUvh1ZfEDeGfD11eveXETmCWe2s7RJZ3WV0MixRq7BXA5xms//gnT4hsPFv7N194p0q3vorbUfi38Q7m3i1PS57K5RH8Z60wEtvcIk0DgHmORFdTkMoIIoA90r5J/4KHfFvx58W/Geif8E2f2cNbe18XfEG0a48d6/a/N/wAIt4YB23E7EfdlnBMUanruIypdGr6N%2BN/xV0L4GfBzxT8ZfExH2DwtoF3qlyhbBkWGJpNg/wBpioUDuWArwX/gll8Edc0T4NT/ALWfxhmOofE341%2BV4k8U6nNHtNvayrusrCIEkxwxQMmE7FiDwqgeRmMp4mrHA03bnTc31UE7NLzm/dT6Lme9jws1lUxleGW0nbnTlUa3VNOzS/vTb5E%2Bi53vY9%2B%2BDvwk8B/Ab4X6H8HfhjoiadoPh7T0s9NtU6hFHLMf4nZiXZjyzMzHkmvmj9tn40/Eb9or4sx/8E2/2UfEUthrWp2i3Pxb8b2fI8JaI%2BN0KMP%2BXy4U7UXOQrA8bt8fo/8AwUA/at1T9mD4PQWnw20sav8AEnxtqCaD8NfD6qHa71ObCiVlP/LKEN5jk4XhVJXeDV/9h39kXRv2RPhD/wAI9e6s%2BueM/EN0dW%2BIPi66Yvca1qsvzSyM7fMY1ZmWNT0XJPzMxOeKviqqy6h7sIpc7Wlo9IRts5Ja/wAsLveSP2PhbB4HhDJIcTYunGU7uGCotJxlUp2UsROL0dHDtxUItONXEcsXeFKon2nwE%2BAPwn/Zm%2BF%2Bm/B/4L%2BELbRtD0yILHDAg3zyYAaaZ%2Bssr4yztkk%2BwArsqKK9inTp0aahBJRWiS0SR8FjMZi8xxdTFYqpKpVqNylKTcpSk3dtttttvdt/okUUUVZzBRRRQAUUUUAFFFFABRRRQAUUUUAFFFFABRRRQAUUUUAFFFFABRRRQAUUUUAFFFFABRRRQAUUUUAFeM/sv/8AJb/2jv8Ass1j/wCoV4Xr2avGf2X/APkt/wC0d/2Wax/9QrwvQB7NRRRQAUUUUAFFFFABRRRQAUUUUAFFFFABRRRQAUUUUAFFFFABRRRQAUUUUAFfMf7Zujf8JH8f9O8PbN32/wDZj%2BKNvt9d934VXH619OV4d8V9Lj1z9u74eaLLjZefA74gQNn0fVPCKn%2BdZ1oe0pSh3TX3pr9Tsy/E/U8wo4j%2BScJf%2BAzhL/20pf8ABLDWf7d/4J2/CC%2B37tngq1t8/wDXHMWP/HK9%2Br5W/wCCJ%2BqSar/wTH%2BGLT5EttBqlrKp6qYtVvIwPyUV9U1w5NP2mUYeXenD/wBJR9R4k4b6n4iZxQ/lxWIX/lao/wBQooor0j4sKKKKACiiigAooooAKKKKACiiigAooooAKKKKACiiigAooooAKKKKACiiigAooooAKKKKACiiigAooooAKKKKACvGfHH/ACkL%2BF//AGRnx5/6dvCFezV4z44/5SF/C/8A7Iz48/8ATt4QoA9mooooAK534sfCfwD8b/AV78M/ibobaho9%2B8Ek0MV7NbSxywzJPBPDPA6SwTRTRRyxyxOskckaOjKygjoqKAPOPC37KPwX8EfD26%2BF/hCz8SabpF7aTw3Qs/HmsR3Urz3Ul1Pdm6F39o%2B2yTyySPe%2BZ9pct80pAAGXffsN/s06h8M7D4UyeENYisNN8QS67Z6rZ%2BNdXg1pNUljlilvTq8d0uoPcSRTzRPK05Z4pGjYlDtr1uigDK8C%2BB/CPwy8E6R8OPAHh%2B20nQtA0yDTtG0uzTbFaWsMaxxRIOyqiqo9hXl37B//ACRDXP8Ass3xH/8AU11uvZq8Z/YP/wCSIa5/2Wb4j/8Aqa63QB5b/wAFcdQvviJ8P/h7%2BxT4eupEv/jX8Q7HSb/yWxJFo1rIt3fzrjn5FSLI7q5FfU97eeGfAHhOXUL6e20vRtE05pJpXISG0tYY8knsqKi/gBXyl4J/4yP/AOCv/inxo37/AEH4BeA4NC049UGuarma4lQ/3ltgYXA6EDNWv%2BCpHjDxJ8S7LwV/wT3%2BF2qyW/iL406x9m127tj8%2BmeGrfEuo3J7Dcg8pQ3DgyKDmvnY4pUVisfa7clTgu/J7qS/xVJS%2B5vobeH2QS4v4snBz5Kc5uMqj1VOhh4ylWqPyilWl5yUI7yRlfsPeHdd/bS/aA1T/gpp8UdKng0OOKfQ/gToV9GVNjpIZkn1VkP3Z7ptwB6hNwyymMj7JrM8GeD/AA58PfCGleAvB%2Blx2Ok6Lp0NjpllCMLBbxII40HsFUD8K069XL8J9Tw/LJ3m/ek/5pPd%2BnRLpFJH0PF3EK4kzl1qMPZ4emlSoU%2BlOhC6pw85NXnUlvOrUqTe6sUUUV2nzAUUUUAFFFFABRRRQAUUUUAFFFFABRRRQAUUUUAFFFFABRRRQAUUUUAFFFFABRRRQAUUUUAFFFFABRRRQAV4z%2By//wAlv/aO/wCyzWP/AKhXhevZq8Z/Zf8A%2BS3/ALR3/ZZrH/1CvC9AHs1FFFABRRRQAUUUUAFFFFABRRRQAUUUUAFFFFABRRRQAUUUUAFFFFAHn/7Vfxquf2c/2b/G3xx0/QU1W88MeHLq%2B0/TJZjFHd3SofIhdwCURpSis4BKqScHGK8/%2BG37Q/x30bT/AIxeA/jHZ%2BEvEHjP4WaXBqlle%2BGraXRNM1m2udOe5t0dLy6uTZuJ4LiF3ad02IkvybjGnr3xc%2BFng344fCzxF8G/iHYSXWheKdFudK1aCGZopGt54mjfY64aNwGJV1IKsAQQQK808MfsN%2BC9O8J%2BNPCfj/4teNPHC/EixurL4g33iiXThca9ay2CafHBIbKyt1gjht0YRrbLDlppZJPMdy1AHG/8E6f2yfir%2B1Rf%2BK9I%2BJi6VN/YmheH9Ts7y08Bar4WuN2oxXTyW76dqs81xLDF9nTytRQi2ujJKsQzbSE7F/8AFz4UeOf%2BCm3gvwF4J%2BJ3h7WNd8MfB7xxF4l0XStaguLvSXk1bwl5a3MMbl4C2x8BwpO046Gu0/Z//ZW0j4EeJ9a8fah8W/GPjrxHrmi6Zo1z4g8aT2LXEWmae109paRrY2ltEFSS9u5DIyNLI0xLyOFQLmeOP%2BUhfwv/AOyM%2BPP/AE7eEKAPMf8Agi7/AKB%2BxrdeEOn/AAj/AMRvEmnbP7u3UJHx/wCRK%2BtK%2BS/%2BCSf/ABLvDPx48IHj%2Bw/2mPFtpGvom%2B3dT9DvNfWleTkX/InorsrfdKUf0P0DxV97xGzOp/PUU/8AwZSoVP8A3IFFFFesfn4UUUUAFFFFABRRRQAUUUUAFFFFABRRRQAUUUUAFFFFABRRRQAUUUUAFFFFABRRRQAUUUUAFFFFABRRRQAUUUUAFeM%2BOP8AlIX8L/8AsjPjz/07eEK9mrxnxx/ykL%2BF/wD2Rnx5/wCnbwhQB7NRRRQAUUUUAFFFFABXiX7EepWmjfs%2B%2BJdY1CXZBafF/wCJU07n%2BFF8aa2xP5A17bXyVo/jH/hX3/BMz44eNVl2Sab4j%2BL88DZx%2B9HinxB5Y/F9o/Gsq9VUaE6j%2Bym/uTf6GOJrLD4adV7RjJ/cm/0E/wCCNunS3v7HV1%2B0p4vkVNc%2BLfjPW/GHiGeVuImku5IUTcf%2BWaxQKwHQbzVL/gnZaXf7Unxz%2BI3/AAUq8TW0hsfEly/hT4Tx3CEG38OWUpV7hQeV%2B03Ks5HUMjjo1YHibxhP%2Byj/AMEGdM1Cw3w6pL8GtOsLCOIfvBf6rBFENgHJdZLstx/cJr6j/ZU%2BD0H7P37NXgT4KxRKr%2BGvCtlY3RTo9wkK%2Bc/Hdpd7fVq%2Bcy%2Bi6k8Lh5bUqcaj85z0i399SXq79D7Xg%2Bm%2BGvCGeMWlfHShhk%2BvsoU4YnEtedSrUoU5P%2BVSj1Z39FFFfUHyAUUUUAFFFFABRRRQAUUUUAFFFFABRRRQAUUUUAFFFFABRRRQAUUUUAFFFFABRRRQAUUUUAFFFFABRRRQAUUUUAFeM/sv/wDJb/2jv%2ByzWP8A6hXhevZq8Z/Zf/5Lf%2B0d/wBlmsf/AFCvC9AHs1FFFABRRRQAUUUUAFFFFABRRRQAUUUUAFFFFABRRRQAUUUUAFFFFABRRRQAV4z44/5SF/C//sjPjz/07eEK9mr53%2BMPjyz8L/8ABUL4D%2BFL1lB8TfCL4jWlqD1M0V74Tuf/AEXDLx/hUylGCu/6voTOcacby20/F2X4s5P/AIJt/wDEo%2BP37U/hHp5Pxwn1Hb/192sT5/HZX1pXyX%2BxWf7I/wCCj/7XXhQ8Kur%2BD9RjHr9o0mRmI/FRX1pXl5LpgOXtKovuqT/zP0LxO97i11f%2BflDBz/8AA8FhX/7aFFFFesfn4UUUUAFFFFABRRRQAUUUUAFFFFABRRRQAUUUUAFFFFABRRRQAUUUUAFFFFABRRRQAUUUUAFFFFABRRRQAUUUUAFeM%2BOP%2BUhfwv8A%2ByM%2BPP8A07eEK9mrxnxx/wApC/hf/wBkZ8ef%2BnbwhQB7NRRRQAVx3x4%2BNnhr9n74dS/ETxNpGp6pu1Kx0zTNF0SGOS91TUL26itLS0gWWSOPzJJ5o13SOkaAl3dEVmHY15f%2B1v8ABvxn8Z/hhYWPw1vNMi8TeGvGGi%2BJdAj1ueSKyurjT7%2BG5NrPJFHI8STRpJD5qxyGIyCQJJs2MAZn/Dbnwutf2bNe/aV17wv4j0u28MancaTr/hW9tbf%2B1rLVYbwWZsGWOdrcyNO0apIJzAyypL5vltvrm/8Ah4x4LltIdGsfgD8Q7jxrJ44vPCknw5QaMupw39rpiarMWuH1JdOaNbKWGXcl2xPmBAPMV0TmtR/ZA/aM8T/sv/Er4Va9L4KtvEXxN8Sz%2BJtbig1y7n0yWSXUIWk0GQtZpI1lLptrFZy3gUSMbid1tkwqnzuT/gmV8Tf%2BEIg0a9%2BAnwN1bwqPidqPiRP2c9R1O4HgvTba40a3sI0t5/7JfMiXUV1f7P7PSEy6lPhVkRZ2APsr4LfFrwf8fPhB4W%2BOHw%2BluX0Lxh4fs9Z0d7y2MMptrmFZo96HlW2uMjse5618PftWeJ7jwv8A8EaPjQbHLXWp/FrxzpdtEp5ka5%2BIupQFR/wB2P4V9b/A39n7WPBX7JHhT9m74r%2BPdU1q%2B0jwhZ6RrOvaNrt9p9zPJFEqs0N3DMl1GAVwsnmiUqBuYksT8S/Gbw9YWX7EXwx/Z70ie%2BuLbxN%2B21regD%2B09UnvrmS1Txzr0jPNcXDvNOwEKlpJHZ2J3MxJJry87k45RXS3cWl6ytFf%2BlHi8RSccixKW7g4r1laC/GZ63%2B3N4Yt/E/xL/ZY/YR03Elpd%2BM4Nc1uBBlW0zQLQSGOT0SRmAHqU45r7Pr5F%2BE3/F8f%2BCv/AMTfiK377Tfg98OtM8JaeTzH9v1B2vp5E/21RTE3oCAe1fXVZ5VFTqV662lPlX%2BGmlBfjzH61xtFZZleTZJHT2GFjUmv%2BnmLk8Q7%2BapfV4%2Bn3BRRRXsH5%2BFFFFABRRRQAUUUUAFFFFABRRRQAUUUUAFFFFABRRRQAUUUUAFFFFABRRRQAUUUUAFFFFABRRRQAUUUUAFFFFABXjP7L/8AyW/9o7/ss1j/AOoV4Xr2avGf2X/%2BS3/tHf8AZZrH/wBQrwvQB7NRRRQAUUUUAFFFFABRRRQAUUUUAFFFFABRRRQAUUUUAFFFFABRRRQAUV5h%2B2n8XvFXwD/ZM%2BIfxj8DR2p1vw/4UvLrR3voi9vDdCMiKWVQQWiRyruuRlVYZGcjzLwV8dviz8B9J/aC8MfE3x/qXxMk%2BD3h6DxHo%2Bt6tp9jZ31/BNpMl01jONPt4Lcus1rKVdIVPlXESsHZC7gH05XwH/wVJ8cT/C3/AIKd/sT/ABHRmSG31jxVpd5KPuxQajLoNi7N6L%2B%2BGT717J/wTz%2BOXjn4lW2o%2BHfjP49%2BIV94ym8K6J4ln0jxx4c0TT7WKxvxciO60tdLQuLSSWCdBDeyyXkIgQShS%2BX%2Bb/8Ags/rum/Fjxa%2Bk%2BCdM8RQeIfhj8IvFOvxXmqeENSsbUTWviLwZMZLW6uYI4L0CFJstbSSBMjcRuGfNzhzjldWcN4rmX/brUv/AG1nkZ%2B6kcmrzp/FCPMv%2B3HGf5Qa%2BZ7p8Bf%2BJJ/wV%2B%2BPmmdP7b%2BH3hbUcf3vJjkt8/rivrSvi/SfHFhoH/BV74efGIYGg/Hz4Dmy0KYnj7fZyLqG3PQg2si47kmvtCssnlF060V0qT%2B6TU196ldH6t4gNYmrlWOhrCtgMI0%2Bj9nCdGXzjKlyvzsFFFFeufABRRRQAUUUUAFFFFABRRRQAUUUUAFFFFABRRRQAUUUUAFFFFABRRRQAUUUUAFFFFABRRRQAUUUUAFFFFABRRRQAV4z44/5SF/C/wD7Iz48/wDTt4Qr2avGfHH/ACkL%2BF//AGRnx5/6dvCFAHs1FFFABRRRQAUUUUAFfnC80Xib4%2Bfs1/DGWQeU37Svxl8RXIPSMab4j1qVHb05c4PrX6PV%2BVuheKvJ/av13VvN%2BX4Y/Dn44eKt%2BeIXm8da9bZ9jtT8q8bPZqGCin1nD7lLmf4QZ52Y4WeYzwuBh8VfEYemv%2B360F%2Bh9Of8Eb7afxj%2Bzf4l/ah1WM/b/jF8TNd8TyGT78UBu2tYYfZUFuxUdg9fW1eA/wDBLHwr/wAId/wTu%2BEGkeVs87wVa32Mf8/WbnP4%2Bbn8a9%2BrbJqbp5TQT35It%2BslzN/NybP0jxKxcMb4g5rUp/Aq9WEF2hSl7GnFeUYUYx%2BXmwooor0z4gKKKKACiiigAooooAKKKKACiiigAooooAKKKKACiiigAooooAKKKKACiiigAooooAKKKKACiiigAooooAKKKKACvGf2X/8Akt/7R3/ZZrH/ANQrwvXs1eM/sv8A/Jb/ANo7/ss1j/6hXhegD2aiiigAooooAKKKKACiiigAooooAKKKKACiiigAooooAKKKKACiiigDM8aeDfCvxF8Hat8PvHWgWuq6Jrumz6frGl3sQeG8tZo2jlhkU8MjozKR3BNcX8Kf2T/gh8FrO5sfAmia1tv7mafVpNb8Y6pqsuqyS28NsTeyX1zM97tgt4YoxOZBEkYWPYMg%2Bj0UAed/Ar9lX4G/s3Tahd/CPwvfWlxqdnaWVzdar4k1DVJksrXzfstlFJfTzPBaw%2BdN5VtEVhjMrlUXcc%2BbftTfDy2%2BLv7Uvhz4U3iqYvE37OfxL0qTf0xcX3hOI5/77r6Nrxnxx/ykL%2BF//ZGfHn/p28IVM4RqQcJbNNP0aa/UipThVpyhJXTTT9Gmn%2BDZ8Rz%2BKde8Qf8ABHL4EftfaLZyyeJP2ffEunXd1bIP3xs9PvX0y6tW9FaARuw4%2BWOv040PW9L8S6JZ%2BI9DvUubLULWO5s7iM5WWJ1DI49ipB/Gvi/9hP4baF4l8OftWfsJeLExp1r8UNajig25NvpOtWwkgAHsPMYHjnmvQP8Agkb8Sdd8a/sUaH4D8avjxL8M9SvfBHiSAtkw3GmymGNDnnIt/I69818vkk5Ua1OMv%2BXlNJ/46LdOXzcLP5H1uSVJ554L4Sc3erllZ0Zd/ZYjm5flHE4aa8va262Ppqiiivqj5UKKKKACiiigAooooAKKKKACiiigAooooAKKKKACiiigAooooAKKKKACiiigAooooAKKKKACiiigAooooAKKKKACvGfHH/KQv4X/APZGfHn/AKdvCFezV4z44/5SF/C//sjPjz/07eEKAPZqKKKACiiigAooooAK/GTRvFDH/hvfx6zkDwlYeJ/CKyH%2BEar4y1yUoPr5n61%2Bzdfi4/hyS/8A2Uv20XgBWX4hfto3nhKJ14Zzb%2BKJJto/CU/ma%2Ba4oclgVbpzv7qU0vxkj3uB8DHMvFDhzDz%2BD67RlL/DTvUb%2BXK38j9bv2bPCv8Awgv7OvgHwT5Wz%2BxvBWlWOzGNvlWkUeP/AB2u1psUUcESwwoFRFCqqjgAdBTq%2BipQVKlGC2SS%2B5JfoeXjsVPHY6riZ/FUnKb9ZylJ/jJhRRRVnKFFFFABRRRQAUUUUAFFFFABRRRQAUUUUAFFFFABRRRQAUUUUAFFFFABRRRQAUUUUAFFFFABRRRQAUUUUAFFFFABXjP7L/8AyW/9o7/ss1j/AOoV4Xr2avGf2X/%2BS3/tHf8AZZrH/wBQrwvQB7NRRRQAUUUUAFFFFABRRRQAUUUUAFFFFABRRRQAUUUUAFFFFABRRRQAUUUUAFeM%2BOP%2BUhfwv/7Iz48/9O3hCvZq8Z8cf8pC/hf/ANkZ8ef%2BnbwhQB5LYalF%2Bzd/wWH1qPxNG1non7QfgOyOi6geIrjXNIVomtmPZ/srbh6l1UZJqH4W6xb/ALIP/BULx58J/FiPYeFv2gYrbxH4FvXAFs2u20Pl6jabu00uVmwevyKDlgD6d/wUW/Zj1v8AaZ/Z0ubT4c3Js/H/AIPv4fEvw61SIhZLbV7QmSJVY9BIN0RzwC6sQdorg7zTPBv/AAV7/wCCfOjeLtIvP%2BEd8YJsv9H1GLclx4U8V2RKsAfvoFmVlPRjFIGGCVI%2BWrUK1DFSpUlecZOtT/vJ6Vafrq7f4ot6Jnr%2BHOb5dkmfY3Ic2k44LMINOaV3T5qkJqol9p4fERjUlFayo1KqWtr/AFpRXg//AAT%2B/av1f9pv4S3ekfE/Sho/xM8Cag2hfErw%2ByhWttRiyvnqo/5YzhTIhGV%2B%2BoLbMn3ivosLiaWLw8a1N%2B7Jf8OmujTumujTROeZLmHDub1stxsbVaUrOzuns4yjJaShOLjOElpKEoyWj0KKKK3PKCiiigAooooAKKKKACiiigAooooAKKKKACiiigAooooAKKKKACiiigAooooAKKKKACiiigAooooAKKKKACvGfHH/ACkL%2BF//AGRnx5/6dvCFezV4z44/5SF/C/8A7Iz48/8ATt4QoA9mooooAK%2Bfv%2BClx0wfs12v/CaeX/whX/CwvC//AAsj7R/x7/8ACPf2zafbftWePsfl/wDHzu/d/ZvP8z93vr6BooA/O/UfFHw5f/gmZ8aPBHwx8T6fD4Km8cX7/Du30e4jazsfCk%2BtwW5v/ITJfQI7n7e7iMCF7CKVImEZQjySws9Hg%2BHNj4QXx98EV%2BC5/aT1Ya74yvPDez4W3a/8IlbT2Rt9KW%2BWFLBbzzbdoGvngbVYnn81pWS3H610UAeO/su%2BPfGnjP8AYh8EeO/h78FPD2g6vc%2BC7N9G8Ey3s2k6TbqsapFFHItrLJbWpjUNEPs7MsZQFAc4%2BAvDngzxTF8HPAHhLxnoFrpur/ET/gpB4m1vXNOsL17q3CW3iTVY7hIppIoWnjDW4CytFGWVQxRCdo/V%2Bvzl0LPij9qr9mn4fL80cfx9%2BOGuXa9k%2ByeItYMTH6uxArxs9pxqYGz3coR/8CnBP8Ez7zwypRXGtHFv/mHpYusv%2B3MHiXf75K3nY/RqiiivZPgwooooAKKKKACiiigAooooAKKKKACiiigAooooAKKKKACiiigAooooAKKKKACiiigAooooAKKKKACiiigAooooAKKKKACvGf2X/wDkt/7R3/ZZrH/1CvC9ezV4z%2By//wAlv/aO/wCyzWP/AKhXhegD2aiiigAooooAKKKKACiiigAooooAKKKKACiiigAooooAKKKKACiiigDzD9tP4veKvgH%2ByZ8Q/jH4GjtTrfh/wpeXWjvfRF7eG6EZEUsqggtEjlXdcjKqwyM5Hn3wp%2BPXiP4B3Xxy8NftMfGzUPFugfB7TLLxFN451nSbK3vV0ybTHuriGePTreCB3he2ndTHCrGOaJWDspd/ffGng3wr8RfB2rfD7x1oFrquia7ps%2Bn6xpd7EHhvLWaNo5YZFPDI6MykdwTXIfBz9lv4N/AXe/w00/XoJri9lvL%2B71Xxpqup3GozvBDb%2BZdzXtzLJdlIbeCKLzmfyUjCx7BkEA8H/wCCXH7aut/tb%2BKPjHa%2BK/2gfBni%2B40bxbp11oeh%2BD9Z029i8OaXe6PZXKWPnWRb7V5M73EL3Ls4knhnCFUVY07O/wDid4b8Y/8ABTbwX4M0nTfEMN54e%2BD3jiO/m1XwjqNjaSl9W8JYNtdXMEcF6BtOWt3kC5G4jcufafC3wx8D%2BCvFfibxv4Z0P7NqnjHUoL/xJdfaZX%2B2XENpDZxvtdiseILeFMIFB2biCxJPm/jj/lIX8L/%2ByM%2BPP/Tt4QoA9mr4i%2BId54m/4JZftN%2BJ/wBoBPDM%2BofAD4r6zDe%2BNjpcTPL4J11wI31EwqCWtbglTIwyQ2AMFY0l%2B3aq65oei%2BJ9Fu/DfiTSba/0%2B/tnt76xvIFlhuIXUq8bowIZWUkEEYINcOOwbxUIyhLlqQd4y3s7Ws11i1pJdVtZpM87MsA8bTjKnLkqwfNCVr2drNNdYyWkl1WqaaTPmD9pb9lDxH8QPFdh%2B3r%2BwF8Q9P0n4m/2XC5kW5Emi%2BO9NCKY7W8Cna2UCiOcHIwoJGEePtf2PP27Ph7%2B1NbXngnW9Lm8GfEzw85t/GHw212QJf6fOoG54wcG4tzkFZVGMMu4KSAfGU%2BD37V//BMTVtR1X9lbwfP8VPgbc3r3tx8Lxdt/bvhXeS0v9lu%2BRcwZJb7OcvkgAZLynduvDf8AwT1/4K4eHbfx/wCB/FEum%2BPdBH%2Bi69olydJ8W%2BGbhDjbKv8ArMIxIw4eLO7Yc/NXiUqtalim6KUKz1nSk7Rm%2Bs6ctrvut9PaQTXMfe5Fx1knEeBpZBxhGVKtSjy0a8YqdSnFfYs3H61hVe8YqSr0LtU/dvSPr2ivje0%2BK/8AwUq/YmjOj/G74UP%2B0F4FsjiDxx4DRIPEkFuOhutNbi6cAYzEeQNzOSa9b/Z9/wCCiv7HX7S8iaT8OfjVpkGumQxTeFfED/2dqsMoOGiNtcbXdlPBMe5c969ahm2Eq1FSqXp1P5Z%2B6/k37svWMn6HXmnh/wAQYHCSx2DUcZhF/wAv8O/awS6e0jFe1ovvGtSp21XM7XPbaKKK9M%2BICiiigAooooAKKKKACiiigAooooAKKKKACiiigAooooAKKKKACiiigAooooAKKKKACiiigAooooAK8Z8cf8pC/hf/ANkZ8ef%2BnbwhXs1eM%2BOP%2BUhfwv8A%2ByM%2BPP8A07eEKAPZqKKKACiiigAooooAK/N/9lq/s9Z/4KYaDYX04WHwdpfxb1tiQTsN18R9ZshgDucAADk1%2BkFfmh/wTf8A%2BKt/4KGfHnxB9/8A4RLxFrGh7v7n2r4i6xe7fbOM15Oa%2B88PT71Yf%2BS88v0R%2BgcA/uYZxi/%2BfeAxH31Xh6K/9OSXzP0a/wCEw0n/AJ9NU/8ABHd//GqX/hMNJ/59NV/8Ed3/APGq%2BdvH3/BZH/gm98L/AB3rXw08c/tG/Ydb8O6tc6ZrFl/wiGsS/Z7q3laKWPfHaMj7XRhuUlTjIJHNZP8Aw/L/AOCWn/R0P/lk63/8hVUs8yWEnGWJppr%2B/H/Mzo%2BFviZiKMatLJMXKMkmmsPVaaaTTTULNNNNPqmn1Pp//hMNJ/59NV/8Ed3/APGqP%2BEw0n/n01X/AMEd3/8AGq%2BdvAP/AAWR/wCCb3xQ8d6L8NPA37Rv27W/EWrW2maPZf8ACIaxF9ouriVYoo98loqJud1G5iFGckgc1337f3xg%2BJn7Pv7E3xT%2BOPwbtNNm8T%2BEvA%2Boaro66vMyW6ywQtJvfbHJu2qGYJtw7KELIGLr14XG4PGxcsPUjNLfladvWx8/nnDPEnDFaFLOMFVw0ppuKq0503JJ2bSmk2k9G110PS/%2BEw0n/n01X/wR3f8A8ao/4TDSf%2BfTVf8AwR3f/wAar571P9tz42%2BFfiH458F/EL4FeBNC0/4ZfDy08TeOfE938VLo2Nu93FqjW9tbY0cSzqH0%2BMSyukRRLgtHHM6CKTmfht/wUq1f4q6p4Z0PVvhPq/hfW4vjRL4O8Q6Qst5bQyIfB%2Boa/DPt1jR7S9eF0hiTb9ntJBKgZZZIVK3HSeGfVX/CYaT/AM%2Bmq/8Agju//jVH/CYaT/z6ar/4I7v/AONV88/slft8/En9ofT9EuPHP7MH/CP3fiz4TaL8QfCel%2BHvGsOqz3WnXzBHgnNxBZRW9xCXiYqHkR0fIcMpjrqf2q/FnxV1L4tfC/8AZ4%2BFvxX1DwI3ja61i61bxXo2m2N1exW9hZCRbaBb%2B3uLdWkmmhZmeJz5UEqrtZhIgB67/wAJhpP/AD6ar/4I7v8A%2BNUf8JhpP/Ppqv8A4I7v/wCNV85QftCftI/E/wD4JkeEPj/8PrS5/wCE513SPDs3iG78K6Gt7cW9pLf2kWsahp1lIsgnlSzN5c28BWXcyxrsnOI34vwF8cf2lfjR%2BzV8QdQ8C%2BLvjbqGu/DP4lX%2Bh6Vc%2BHfCnhfTPEniizFjaXlvLeWevWcNpBsF6EZI4raZvIH7tXLRUAfYP/CYaT/z6ar/AOCO7/8AjVH/AAmGk/8APpqv/gju/wD41XwtB%2B2h%2B0z4y8BQ/tBaT8cdPjsvA3gT4aarq3h7w3ols2leM7jXZEfUpS95bm8hhaGQR2axPA8cqs0wmB8pfZ9O8QfHNf219T%2BCXgn9pvXvFWlyeEdW1Hxrbah4d0j7J4CuLiWH%2BxIrWW2tIpHndDct9nupLkvFAJXMYaPzQD6B/wCEw0n/AJ9NU/8ABHd//Gqv2F/aanaJfWM4kikGVYAjvgjB5BByCDyCK8F/Yo8d/E/xf40%2BJei6n8Z9Y%2BJHgXw9rVrpnhXx34g0vTra5vtSiSVNWto2061tbe5treZYYlmWEHz/ALXEXfyePa/B/wDyCZv%2Bwpff%2BlctAGrRRRQAUUUUAFFFFABRRRQAUUUUAFFFFABRRRQAUUUUAFFFFABRRRQAUUUUAFeM/sv/APJb/wBo7/ss1j/6hXhevZq8Z/Zf/wCS3/tHf9lmsf8A1CvC9AHs1FFFABRRRQAUUUUAFFFFABRRRQAUUUUAFFFFABRRRQAUUUUAFFFFABRRRQAV4z44/wCUhfwv/wCyM%2BPP/Tt4Qr2avGfHH/KQv4X/APZGfHn/AKdvCFAHs1FFFABXhH7SP/BOD9lX9pvXx8QfFHg258PeNImD2nj3wXftpesQSAYWTzouJWA4BlV8Dpivd6KwxGGw%2BLp%2BzrQUo9mr/wDDPzTT8zmxWDwmOpeyxEFOPZq/zXZ9mmmujPj%2BH4Yf8FbP2ZV%2BzfCz4zeDfjr4atz%2B40v4hwPpevLF2jS9hJimf1ln5Oenp5l8ev2hf2VPilbvZf8ABTv/AIJY%2BOPCF8qbLvxWfCv9q2cAAwRHrGnFZiB6IMYAr9DaK8utkzlTdOnVfL/LNKrH7p%2B8vlJmWWxz3h7FxxWR5jWw9SOzUnK3kpc0KiXl7RryZ%2Ba/wssP2aZYopP%2BCfH/AAWz1bwajYOn%2BD/Hms2%2Bq2UY7RQ2Wq%2BTNGp6fxMOte1ab8RP%2BCxXw2sY766%2BFXwb%2BNWlbd1teeEPEs2iX10nqxug1uGP%2BxkV7p8UP2Nf2TPjVJLc/FX9m7wTrtzNnzL6%2B8N27XOT1InCCQH3DCvGdQ/4ItfsNWd5Jqnws0Pxh8PryVtzXfgfx5qFowb1CySyIv0Cge1ed/ZWaYb%2BBZf4Kk4L/wAAqKrD5JpH2n/ETOOq2mdYHA5l3lVpezqv/uLTVKo2%2B7nN%2Bbd24R/wVI8YeBR5P7RH/BO/44%2BEmT/j4v8ASPDcet6dD65ubdxke4U5rY8I/wDBZL/gnH4ru/7Lm/aMttEvlO2ex8TaLfac8LejNPCqA/RiKxx/wTa/aD8Hjb8Hf%2BCp3xq09U/1KeMJ7XxAqegImRNw9qx/Fv7IH/BUHULT%2Bz9Y/bG%2BFPxJt0GEg%2BIXwatoVcejC2LY/Cn7fiShvBy9Y05fjTqQf/kof63cEYn/AH7hrE0H3wuNhUj8oYiEn8lP5n0f4L/au/Zd%2BI4T/hX/AO0d4E1oyfdTS/FtnO302pISD7EZrvYpYp41mgkV0YZV1OQR6g1%2Ba3jP/gnF%2B1tqpc%2BMf2Bf2OPEqHO6Twpb6roVxJ7koEUMfUVwUn/BPT47eCpGm8Kf8EoNU0d85a5%2BGn7U72JU92VLxpPyo/tzNqX8TCt%2BiqL/ANtn%2BYv7Q8JsR/zEZlhn2q4GnWS9ZYfEJ/dA/WiivyV/4Vt%2B3F4G%2BbSfh/8Att6Fs6W1n8XtN8RW8fssZiTI/Hml/wCF/wD/AAUn8FECy%2BI37XVgidRrP7L2k61Fj0aYXSkfUDNH%2BtKh/Fw01%2BP5wiH1fw4q/wAHiOnH/r9gswo/fahXX6H600V%2BS3/Dy3/gob4R/wCQh8TtVn2df%2BE0/Zsv7HP%2B99jkfH4Uq/8ABcb9rrwuP%2BKt8SfAyWNf%2BfjwT4zs5j9c2zoD9KP9ccpj8anH1iv/AJJB/Y/DFT%2BDxHlsv8WJnSf3VsJD8Wj9aKK/KPTv%2BDiX4h2%2BBd/Dv4W6zjr/AGd4p1Sw3fT7XZDH410Okf8ABxfqEx26z%2ByNoKqOstn8b9Mbd7hZIEI/GtI8Y8PS/wCXrX/bsv0uXHheNVXoZpl1T/DmWC/Kdam/wP07or85bP8A4OKvhJEobxD%2BztqEH977B4/0W5x9P36Zq/af8HIn7Gqyrb6v8H/iVHI3/PhaaXdKPxS/H8q2XFfDr3xEV63X/tptDgfP638B0Kn%2BDGYGX5Y5H6F0V8M6T/wcF/sNaoAZfCfxMtQf%2Be/hFGx/37nat%2Bx/4Lt/8E%2BLkBr7xV4tsR3N14IvTj/vhGrePEeQz2xMPv8A80hPgTi69o4Vy/w1KE//AEjFTPseivku2/4Lkf8ABMOZhHeftGT2bnol34L1hf1FoR%2BtbFh/wWW/4Jm6jj7P%2B1dpC5/576TqEX/oduK2jnmSy2xNP/wOP%2BY/%2BIf8dWusrxD9KUn/AOk8x9OUV8%2BWP/BVv/gnRqGPs/7Xfg9c/wDPe8eL/wBDUVr2X/BSP9gG/wAeR%2B2R8OFz/wA9/FtrF/6G4raOaZZLavD/AMDj/wDJGU%2BBuN6avLK8Sv8AuXr/AKUme2UV5TZ/t2/sQ6hgWP7Y3wrlJ/hT4g6aT%2BXnVq2f7Wn7K2oY%2BwftMfD6fPTyfGdi2fylrVY3BS2qxf8A29H/AOSOGpwzxLR/iYGvH1oVl%2BdFHoNFclafH34E3%2BPsPxq8JTZ6eV4ktW/lJWnafEn4dX%2BPsPj7RZs9PK1WFv5NWqrUZbST%2Ba/zOGpluZUv4lCa9YTX5wRtUVWtdY0i%2Bx9i1S2mz08qdW/kas1aaexySjKLtJWCiiimSFFFFABXjPjj/lIX8L/%2ByM%2BPP/Tt4Qr2avGfHH/KQv4X/wDZGfHn/p28IUAezUUUUAFFFeQ/tr/Ejx98PPhPpFl8MvEraFrHizx/4d8MQ%2BIktIZ30mLUNTt7ee5jjnR4mmELyCLzEeMStGXR1BRgD16ivkLW/wBpH9oDwl%2BxF8W7%2BD4jf2t45%2BH3xAu/CGg%2BK7vTLRLvW2a/tYrTZBHCtodReO9jtYx5SW73ioWjSNmRfHfiT/wUq%2BKXwQ/Zl8f%2BAPid8f4vBPxObxzrOi%2BEdV%2BLzeH7PV/DthaaHYanJLfCzA0m9vSLxPsiWgmjcajYCVXMV2FAP0fr86P%2BCQnh4/8AC9v2w/HZT/j%2B/advdOV/%2BvXxFqDEf%2BTH619lfBT49eH/ABZ%2ByV4S/aG1DxJL4mtNQ8GWGpX2p%2BE9Ll1Z72R4EMrQW%2BnRyPM3mFvkhRsEEBRjj5m/4I/WtnqHwh%2BOvxHsbS9ih8V/tieM9QtF1LTZ7O5W3/4SFY0SW3uESWBwUfdHIiujEqyqQQODF0/aYrDv%2BWUn/wCSSX6n1uQY1YPIM4jfWrRpU/k8VSm//TaPuaivmLx//wAFNf8AhAvHet%2BBf%2BHfP7T2tf2Lq9zYf2xoHwn%2B02F/5MrR%2BfbS/aR5sL7d6PgblZTgZrI/4ew/9Y1P2tP/AAzf/wB1VlLOssjJxdTVf3Z//Kz85lxDk0JOMquq0%2BGp00/59H1pWL8R/h54M%2BLnw%2B1z4VfEbQYtV8P%2BJdIudL1zTJ2ZUurS4iaKaIlCGAZGYZUgjOQQea%2BfPAP/AAU1/wCE98d6L4F/4d8/tPaL/bWr21h/bGv/AAn%2BzWFh50qx%2Bfcy/aT5UKbt7vg7VVjg4r2b9pPxh8Tvh58AvF/xB%2BDPhy01nxPoOgXOpaPot7C7pqUkCGU2oCOhDyqjRo27Cu6sQwBU9eGxmGxkXKjK6W%2Bkl/6VGP6nbg8fg8wi5YeXMlo9JLz%2B1GP4XMaD9jX9nhfCvinwdqfhDUtXs/Gvhu30HxVL4i8V6nqd1qVhB9p8mOS5u7mSfen2ufEocSjcvz/Im3O8D/sFfstfD3Ul1zw/4C1KbUh4uHiiXVta8Y6tqV5cauNIm0YXc1xeXUss7DT55bfEjMu0qcbkRl8N8R/8FH/ib8SPC1z4x/ZcbQ9VsPEfjubSPhRLF4SXVG8QadYaQt1qt7I1zrelW0McV358Adrhdos3ASVpB5fE%2BDf26viN8XPEeifHiy%2B02unePPhl%2BzvqsfhRtfvfsOlT%2BIvF2u21/JB9mni3OYvJRmOUnW1hWZJYl8o9J2H2H4Y/ZO%2BBHgmx0Sw8HeE73Sl8OeBrTwdok2neI9QhmtNFtXjeC1WVJw52mKPMhYyMAQzsGYHR%2BN/7PXwp/aJ0TT9D%2BKWj6jMNI1E32kX%2BieIr7SL6xuDDLAzw3lhNDcRboZponCSAOkjKwKkivk34J/tU/tQfG79qT4QeMNT8VeEf7E8d/C3x/rfhz4e6VdXuntayWd/o0FtBq0pmuEupY/NKNcJbRG2ke4RYpM5Pt37b%2BreJJ9M%2BFHw3l8Var4d0jx38V7DQ/GepeG9duNPuobM6ff3SQQ3tu0U9v597a2dr5kbRyMtwVUqXFAHoUn7O/wALE8Bj4YaNY6xougReHLDQrLTPDPivUdKj0%2BxsyTbpafY7iI2bqDtMsBSV0REZ2WNFXnbv9iX9n6f4ead8LbGw8W6XpGm3V5cg6B8S9e027vZ7tzJcy3t3a3sdxfvK5Lu1zJKWY7iSea8v%2BEWo/tC/FP8A4Jt%2BN9D%2BE/xJu5/GlnqXjvw54B8Waxqpa4uLfT9e1TT9MuJLyUOWlNrbQD7W4cu2J237jniv2fbP4q/FnTvjf8Cz4L8fWFh4S8U6MfBPh7xx%2B0Jq1pqsN/LpUU93p934g0m6vrpIxuS6EKzXW1bpNyqrLFEAfQmp/sL/ALK2p%2BJfC/ihvhSlpL4O03SdP0Kw0vWL2z08WulzGfTIZ7GCZLa8SzlJltxcRyCByXj2Mc1B4O/YR/Zz%2BH/iDxf4k8H2njWxn8eXmp3niq3T4r%2BImtby51AFbq4W2a/MMExXCpJEiPCEQRGMIoHw5P8AGr4ueL/2aNS1/wAYftJeMtM1f4Xfs1%2BIvFPhq/0vxZd2wvfE%2BnaxqNnM1w8Mw/t2CzewsrZftHmxXaXglkjL3C7fWfBXx6%2BKd1%2B2xrnjf44eEPEcej2Hxm0/4f8Ah2HTvixf2UOkzXXh2zvIVfw9AFtNShkkupZXurl3nj81SkXlW4cAH1P%2Bzl%2Byz8Hf2UPB6/D/AOCNt4ks9DhtLa1stK1vx3rGswWEECFIorVNRupxaoFbG2HYGAXcDtXHYeD/APkEzf8AYVvv/SuWtSsvwf8A8gmb/sK33/pXLQBqUUUUAFFFFABRRRQAUUUUAFFFFABRRRQAUUUUAFFFFABRRRQAUUUUAFFFFABXjP7L/wDyW/8AaO/7LNY/%2BoV4Xr2avGf2X/8Akt/7R3/ZZrH/ANQrwvQB7NRRRQAUUUUAFFFFABRRRQAUUUUAFFFFABRRRQAUUUUAFFFFABRRRQAUUUUAFeM%2BOP8AlIX8L/8AsjPjz/07eEK9mr5w/aP1f416P%2B3h8J5/gd8P/C3iLUm%2BEfjtbu08V%2BMLnRYI4P7U8JEuktvp96zvu2jYY1GCTvyApAPo%2BivGf%2BE4/wCChf8A0a/8Gf8Aw/Grf/MvR/wnH/BQv/o1/wCDP/h%2BNW/%2BZegD2aivGf8AhOP%2BChf/AEa/8Gf/AA/Grf8AzL0f8Jx/wUL/AOjX/gz/AOH41b/5l6APZqK%2BcdJ/aO/bt1j4z6/8Drf9lD4SLqnh3wvpGu3ly/x11TyJINRudSt4UQjwxuLq2lzlgVAAePBYlgvUf8Jx/wAFC/8Ao1/4M/8Ah%2BNW/wDmXoA9morxn/hOP%2BChf/Rr/wAGf/D8at/8y9H/AAnH/BQv/o1/4M/%2BH41b/wCZegD2aivGf%2BE4/wCChf8A0a/8Gf8Aw/Grf/MvXL%2BAf2jv27fiJ4r8b%2BENH/ZQ%2BEkNx4D8URaFqslz8ddUCTzyaVp%2Bph4tvhgkp5OowqSwU70cYwAzAH0dRXjP/Ccf8FC/%2BjX/AIM/%2BH41b/5l6P8AhOP%2BChf/AEa/8Gf/AA/Grf8AzL0AezUV4z/wnH/BQv8A6Nf%2BDP8A4fjVv/mXo/4Tj/goX/0a/wDBn/w/Grf/ADL0AezUV84/CL9o79u34y%2BFLvxf4c/ZQ%2BEltb2fijW9CkjvfjrqiuZ9L1W60ydxt8MMNjTWkjIc5KMpIU5UdR/wnH/BQv8A6Nf%2BDP8A4fjVv/mXoA9Z1Hw34d1fP9raDZXWev2i1R8/99A1h3/wN%2BCeq5/tT4PeFrnPX7R4ftnz%2BaVwX/Ccf8FC/wDo1/4M/wDh%2BNW/%2BZej/hOP%2BChf/Rr/AMGf/D8at/8AMvUSp05/FFP1S/yM5UaU/iin6pP80zo779kb9lHU8/2l%2BzF8PLjPXz/Bdi%2BfzirIvP2B/wBhjUMm7/Yz%2BFTk9W/4V9poP5iHNU/%2BE4/4KF/9Gv8AwZ/8Pxq3/wAy9cv8Ef2jv27fjx8GPCHxx8K/sofCS10vxn4X0/XdNttQ%2BOuqLPDBd20dxGkgTwwyhwsgDBWYZBwSOaxlgsFLelF/9ux/%2BROeWX5fP4qMH/25D/5E6C7/AOCa3/BP69z537G3w5XP/PHwpbR/%2BgoKzLr/AIJU/wDBOm8z537IPgwZ/wCeWnGP/wBBYVt/8Jx/wUL/AOjX/gz/AOH41b/5l6P%2BE4/4KF/9Gv8AwZ/8Pxq3/wAy9ZPK8slvQh/4BH/5Exlk2Ty3w1P/AMAh/wDInJ3P/BIL/gmvd5839krw6M/88p7pP/QZRWfc/wDBF3/gmNdf639lPTR/1z13Uk/9BuRXef8ACcf8FC/%2BjX/gz/4fjVv/AJl65f43ftHft2/Af4MeL/jj4q/ZQ%2BEl1pfgzwvqGu6lbaf8ddUaeaC0tpLiRIw/hhVLlYyFDMoyRkgc1m8myh74en/4BH/IyfD%2BQy3wlL/wXD/5E524/wCCHn/BLe5/1n7LcY/65%2BMNZX%2BV4KqT/wDBCf8A4JfSjEf7O1zF/wBc/Gur/wDs10a9V/4Tj/goX/0a/wDBn/w/Grf/ADL0f8Jx/wAFC/8Ao1/4M/8Ah%2BNW/wDmXqHkWSPfDU//AACP%2BRK4c4fTusJTXpCK/JI8dn/4IJf8EyZfufBXVI/9zxjqJ/nMaqTf8EAf%2BCakv3Phnr8f%2B54uu/6ua9t/4Tj/AIKF/wDRr/wZ/wDD8at/8y9H/Ccf8FC/%2BjX/AIM/%2BH41b/5l6h8PZE/%2BYWn/AOAo3jk%2BVw%2BGil6cy/KaPCJf%2BDfH/gm/J9zwf4pj/wBzxXN/UGq0v/BvJ/wTpk%2B5pPjJP93xSf6xmvWPi7%2B0d%2B3b8GvClp4v8R/sofCS5t7zxRomhRx2Xx11RnE%2Bqara6ZA53eGFGxZruNnOchFYgMcKeo/4Tj/goX/0a/8ABn/w/Grf/MvUvhvIH/zCw/8AAf8Agm8cDh4fDzL0nVX5VkfO8n/Buv8A8E8n%2B5/wnaf7viZP6wmox/wbsfsGRHNl4p%2BJVt6eR4ogGPztjX0Z/wAJx/wUL/6Nf%2BDP/h%2BNW/8AmXo/4Tj/AIKF/wDRr/wZ/wDD8at/8y9T/qzw9/0Cw%2B7/AIJqqNlpUqf%2BDq//AM0HzvH/AMG9/wCx3bn/AEH4y/GK39PI8YWwx/5KVZh/4IH/ALNNr/x5ftNfHeDHTyfHdsv/ALZ17/8A8Jx/wUL/AOjX/gz/AOH41b/5l65fx9%2B0d%2B3b8O/FfgjwhrH7KHwkmuPHniiXQtKktvjrqhSCePStQ1MvLu8MAhPJ06ZQVDHe6DGCWUXDWQrbDx/H/wCSJlhoS3nUf/cav/8ANB5pb/8ABDb4M2f/AB4/tmftGQf9cfiNAv8AKzq/B/wRi8E2YxYft9ftOw46eX8Uoxj8rQV7J/wnH/BQv/o1/wCDP/h%2BNW/%2BZej/AITj/goX/wBGv/Bn/wAPxq3/AMy9WuH8ljtRX3z/APkzmnlWCqfFzP8A7i1v/l55JF/wSGitf%2BPH/gpH%2B1PDjps%2BLGP5W4qL4Ffsl3/7Ln/BQ3wd9s/af%2BKnxHXXfgz4y8sfE3xWdUOneTq3hbP2bKL5fmeaN/8Ae8qP%2B7XsH/Ccf8FC/wDo1/4M/wDh%2BNW/%2BZeqHgfwP%2B1Z4x/as8OfG743fDj4e%2BGdG8M/D3xDocMPhX4h32tXV3dalfaJcIzJcaRYpFGiaXKCwd2LSoAuMkdFDKcvw1VVKULNf3pv8HNr8AoZTgMNWVWnBqS6uVR/hKpJfgz3WiiivRPRCud%2BLHwn8A/G/wABXvwz%2BJuhtqGj37wSTQxXs1tLHLDMk8E8M8DpLBNFNFHLHLE6yRyRo6MrKCOiooA8stf2Lv2crT4U3vwS/wCEL1CfwxqVvIl/p174q1O4NxNJevfPevLLcNK18bpzOb4t9q8wK3m5RcangX9l/wCCnw5%2BG/iL4UeG/DN6%2BkeLpbmXxTJq/iK/1G%2B1eW4t0tpZbm%2Bu55LqaQwRxQh3lLJHFGilVRQO/ooAo%2BF/DWieC/DOneDvDVl9m03SbCGz0%2B28xn8qCJAkabnJZsKoGSSTjkk14B%2BxD4Z07wt%2Bzx4svLHzCL39obx/qd87DOD/AMJ5qm9uB0VIx%2BC19G18lfsleLP2ztP%2BHviiz%2BGPwD%2BGGr6Enxp%2BIv8AZ%2Bo698XdR027mX/hM9ZLGS2i0C5SIhtwAEz5AByCdoTSbT7FxqVIwlBPSVr%2Bdndfc9T6g/4TnwT/ANDhpf8A4MI//iqX/hOfBP8A0OGlf%2BDCP/4qvLf%2BE4/4KF/9Gv8AwZ/8Pxq3/wAy9H/Ccf8ABQv/AKNf%2BDP/AIfjVv8A5l6ZB6l/wnPgn/ocNK/8GEf/AMVR/wAJz4J/6HDSv/BhH/8AFV5b/wAJx/wUL/6Nf%2BDP/h%2BNW/8AmXo/4Tj/AIKF/wDRr/wZ/wDD8at/8y9AGpffAz9ijVPhxpPwd1P4O/C248I6Be/bNC8Kz%2BHtNfTdNud0jedBbFPKhk3Syneig5kc5%2BY50NP%2BHH7KOk2trZaV4D%2BHttDZWmk2llDb6XYotvBpc8lxpkSAKAiWk8sstuowIJJHeMKzEnzP4I/tHft2/Hj4MeEPjj4V/ZQ%2BElrpfjPwvp%2Bu6bbah8ddUWeGC7to7iNJAnhhlDhZAGCswyDgkc11H/Ccf8FC/wDo1/4M/wDh%2BNW/%2BZegDVsfgf8AsVaX4p1vxzpnwg%2BF1vrfiWC6h8R6xB4f01LrVY7rH2lLmUJvnWXavmByQ%2BBuziug8b6V8APiZ4Iufhl8SNN8HeIPDd5CkV34e1yG0u7GeNGVkR4JQ0bKrKpAK4BUEdBXFf8ACcf8FC/%2BjX/gz/4fjVv/AJl6P%2BE4/wCChf8A0a/8Gf8Aw/Grf/MvQB1Q8E/swjw9b%2BER4R8BjSbTw3P4etdL%2BwWX2eHSJxGs2nJHt2rayCGIPAB5bCJAVO0Yw7r9nz9hi%2B%2BFtr8Dr34IfCebwVZX5vrPwfL4a0xtLgujvzOloY/JST94/wA4UN87c8muJ%2BN37R37dvwH%2BDHi/wCOPir9lD4SXWl%2BDPC%2Boa7qVtp/x11Rp5oLS2kuJEjD%2BGFUuVjIUMyjJGSBzXUf8Jx/wUL/AOjX/gz/AOH41b/5l6AN3xB8Jv2QPFlj4Y0vxV8NPhtqdt4Jljl8GW%2BoaNp80egOgQI1kroRalRGmDFtI2LjoKuXXgb9l6%2B%2BKlv8dL3wf4Bm8b2lmbS08Yy6fZNqsNuVZTEl2V85Uw7jaGxhmGOTXLf8Jx/wUL/6Nf8Agz/4fjVv/mXo/wCE4/4KF/8ARr/wZ/8AD8at/wDMvQB6j/wnPgn/AKHDS/8AwYR//FUeDDv0MzqDsmvruWIkY3I9zIyt9CpBHsa8u/4Tj/goX/0a/wDBn/w/Grf/ADL1y/xd/aO/bt%2BDXhS08X%2BI/wBlD4SXNveeKNE0KOOy%2BOuqM4n1TVbXTIHO7wwo2LNdxs5zkIrEBjhSAfR1FeM/8Jx/wUL/AOjX/gz/AOH41b/5l6P%2BE4/4KF/9Gv8AwZ/8Pxq3/wAy9AHs1FeM/wDCcf8ABQv/AKNf%2BDP/AIfjVv8A5l6P%2BE4/4KF/9Gv/AAZ/8Pxq3/zL0AezUV84%2BPv2jv27fh34r8EeENY/ZQ%2BEk1x488US6FpUlt8ddUKQTx6VqGpl5d3hgEJ5OnTKCoY73QYwSy9R/wAJx/wUL/6Nf%2BDP/h%2BNW/8AmXoA9morxn/hOP8AgoX/ANGv/Bn/AMPxq3/zL0f8Jx/wUL/6Nf8Agz/4fjVv/mXoA9morxn/AITj/goX/wBGv/Bn/wAPxq3/AMy9cvq37R37duj/ABn0D4HXH7KHwkbVPEXhfV9ds7lPjrqnkRwadc6bbzI5PhjcHZtUgKgKQQkmSpChgD6Oorxn/hOP%2BChf/Rr/AMGf/D8at/8AMvR/wnH/AAUL/wCjX/gz/wCH41b/AOZegD2aivGf%2BE4/4KF/9Gv/AAZ/8Pxq3/zL0f8ACcf8FC/%2BjX/gz/4fjVv/AJl6APZqK%2BcdJ/aO/bt1j4z6/wDA63/ZQ%2BEi6p4d8L6Rrt5cv8ddU8iSDUbnUreFEI8Mbi6tpc5YFQAHjwWJYL1H/Ccf8FC/%2BjX/AIM/%2BH41b/5l6APZqK8Z/wCE4/4KF/8ARr/wZ/8AD8at/wDMvR/wnH/BQv8A6Nf%2BDP8A4fjVv/mXoA9morxn/hOP%2BChf/Rr/AMGf/D8at/8AMvXL%2BAf2jv27fiJ4r8b%2BENH/AGUPhJDceA/FEWharJc/HXVAk88mlafqYeLb4YJKeTqMKksFO9HGMAMwB9HUV4z/AMJx/wAFC/8Ao1/4M/8Ah%2BNW/wDmXo/4Tj/goX/0a/8ABn/w/Grf/MvQB7NXjP7L/wDyW/8AaO/7LNY/%2BoV4Xo/4Tj/goX/0a/8ABn/w/Grf/MvVv9lb4c/GnwfrHxQ8d/HTQPC%2Bk6p4%2B%2BIUWuWeleE/Etzq1va2sWg6Ppiq9xcWVmzSNJp0rlRFtCyINzHOAD1uiiigAooooAKKKKACiiigAooooAKKKKACiiigAooooAKKKKACiiigAooooAK%2BV/2nv2tPi58MPjH4s1rwD4d8HyeGPg/4f8P3vjU61pFxNquqW%2Br38qXMFhcR3EaWXkW1nHcZkinFzIUjIh8vzT9UV4z8Z/2Ifhx8bvikfiZrnjnxVpcWo2ukWvi/w1o11app3imDS72S9sYr5ZbeSYLHNNLn7PLAZY5DFMZYwqAA9mooooAKKKKAPmPw5%2B0r8TIf2/8AxR8H/iNrHh7wn4bXxBaaJ4Mi1H4Rayl14xgGgQajiDxG12unNLHd3OoAWgheTy7SYBQWaRfpyvK/Fn7LUHj/AOMmkfFPx78b/Gur6V4e12PWtA8AXB0yLRrHUI7d4I5w0Nkl7Ls8ySRUmupIxI%2B7Z8iBfVKACiiigDxf/goL8Xfjh%2Bz9%2ByP40%2BPXwCvfCkeseCdCu9cuoPGGi3N9bXdpa20sz26JbXVsySuyIokLlUBYlH4Fef8Ajz9rT4ueC/jx4t1Pwp4d8IRfDzwh8Y/CPw%2B8ZWc2kXB1vVdV12DRUj1CG7S4WGOOD%2B3NJjMUlvK8iQz4lj2oK9h/ax/Zxsv2tPgRr37PutfFXxT4R0nxPZS2OuX/AIQXTvtdzZSxPFNbbr%2B0uo0R1flkRZAVG115zxcH7APg6f4i2fxF8VfHHx9rrHWdJ1zxNo2oS6VFY%2BJ9c0xI0sdWvY7awiZbiIQWmFtmggY2NsXiYx5IB73RRRQAV4v%2B2T8Xfjh8ErXwD4x%2BFl74U/sbUPiZ4c8PeL7HxBotzc3Vza6rrNjpoNnLDdQpbSRrcyyb5EnUlEXZyTXtFeVftXfstv8AtVeG9C8Lz/H3xv4Gt9C8SWGuo3guHR2e7vbG8gvLNpTqWn3g2xXFvG4WMIG5WTep2gA84/Z5/aV%2BJmt/tVeLfgj8UNX8PeE9Oh8U63b%2BCfCUnwi1nTLnXraF0lN/b61cXf2DUHYyTSyxW0BfkuxXDE/TleS6T%2ByiH%2BMmi/GX4j/tAeO/Gs3he7vLvwnoXiEaTDYaPdXNvJayXES2Gn20sr/Z5p4V8%2BSVUWd9oBII9aoAKKKKAPD/ANu74ufHj9n74Nav8dfhR4x8C2On%2BFtFuby90XxZ4Zvb%2B58Q3uUWz0yzktr2D7PNcSkW6N5V0zSzxBYWPyt5/wDBH9r74z658S/BX9reDPCWkfDTxv8AE/xR8NvCvhrTtLmj1fRL/QIdW3zz3IuGt5oJG8P6miwx28RjVrY%2BZJlgPT/2lf2QYP2kvHngj4gTftA%2BO/CFz4Bu7m90Wx8MRaNPZyXsqCNbyaDU9OvEeeGPzFhkAUxieUj5myKvgP8AYa%2BHvgP4y2/xdh%2BIvi7UoNO13U9e0TwhqVzZf2TpWt6jG8eoapAkVqk/nzie7LK8zwo19cmOKPzOAD2uiiigAr5f/a5%2BPH7S/wAFviJp/hTSofAHjXR/HMOtW2i/DmLwffSawlraaHdXcl/cTi9eK6thdRW9tJCLWIH7fCgmMjIkn1BXh037E1xH%2B0f4r/aa0T9qv4l6dq/i3TYdOudLhg8Pz2mn2cMDRw21m1zpMtzbxLK73WxZtrzuXcODtoAZ%2Bwh%2B0H43%2BPfw9vLr4r%2BPtGvvF2nCzbX/AA3ZfC7V/CN5oDz2yyiC5stXup7hwW3%2BXcAJHIqHaG2k17pXm/wO/Zu074M%2BJ/EnxD1j4peKfHHirxXFY2%2BseJ/FzWC3L2lmJvstqkWn2trbRxRtc3LjbCGZriQszZGPSKACiiigD45/4KCftx/FT9jDxz/aeuaLoHjHwi%2Bjajrdv4Vl%2BHOp2Utumm6Nfakkn/CRTXT6ZPd/a9NGyxWBLoRzLKBthaRvXv2aPi78c9W%2BKnjf9nr9o658Kah4n8I6ToetR614K0i5sLG5sdUF5GkRgubm5dZYrjTrtS/m4kQxNsjJKit8df2EvBH7TmtXVr8f/i3418UeC7mS4kX4ZXkmmw6LFJNYzWTNvt7KO%2BkAjuJmCS3ToHfdt%2BRAvT/s%2BfszaR8A7zXvEV38UPFnjjxH4kNnHq3irxrcWb30ttaRGK1tR9jtreFYog8rDEe9nnld2dnJoA9KooooAK%2BI/wBqf9sr9rP4N/GrxB8KPB3hvw5411Ow0W413wwE%2BB/iCOTRQNR0y1Qwt9uceJpBY6pced/ZflPC0JWURiYR19uV4fr37Fup%2BJfHp%2BJ2tftc/FGbW9PgvIvBt4U0ADwqt1NDJP8AZIxpOydmjgW33Xq3TLEzhSruzkA6r9lj4sP8ZPhHB4svfiZo3iq/h1G6stUvtG8GX3h0W1xFKytazabqFxPdWc8YwrxzOHz821QwFejVw3wD%2BAvh74AeGdT0bSvFOt%2BINR1/XrjW/EniTxHNA17qt/MERp5RbxQwJiOKGJUhijjVIkAUYJPc0AFFFFABRRRQAUUUUAFFFFAFHxR4hsPCXhrUfFeqhza6ZYzXdyIly3lxoXbA7nCmvnP9ib9pP41%2BP/FOj%2BDPjZ4e8GWY8dfC2y%2BI3hmHwZpVxaDTI7y4Ju9PuzNcSi7mje5tn%2B2IIBO0sxMEe0F/pa7tLW/tZbG9t0mhmjaOaKVQyupGCpB4II4xXkP7M37FfgL9mDVX1fQPiD4t8Sy23hix8M%2BHR4svbWYaBoVm8j2%2Bm2pt7eEtGpk%2BaWczXEgji8yZ/LXAB7FRRRQAVwv7UHjz4i/Cz9mj4ifE74P%2BFF17xb4c8C6vqnhbQ2sZroajqNvZyy21sYYGWWYSSoieXGwdt2FIJBruqzvFuiX/AIl8Mah4f0vxXqOhXN7aSQ2%2BtaQsDXVi7KQJohcRSxF1PIEkbpkfMrDIIB5d%2BxT8Wp/ih8M76y1b4heH9Z1Pw7qq6deaZonww1Pwc%2BhoLaCSKzuNK1S5nuYXCOJFdvLR4pYtiYG9/Yq88%2BA/7O2k/A688S%2BI7n4ieJPGPiTxfqMN54i8U%2BK3sxd3Rht0t4IhHY21tbRRRxoAqxwpks7MWZmY%2Bh0AFFFFAHy5%2B1R%2B1j8UP2cPi944sviVo3hLxF8L7D9nfxf49ttCt9EuE1V20QaWs9tcXMly9vNFOt9OAgtkKhEy75YV2/7M/wAX/j5qnxc8Zfs6/tLP4SvPFHhjwx4e8Sx6r4K0m5sbKSy1Z9St1tjDc3Ny5lhuNIuwZRIFkR4m8uM7lqD4x/sK%2BHfjp8dW%2BMvjz47eOZdNm8Fan4Rvvh7DBov9iXejaktt9vtJC%2BmtekTtaQOzi6DqUIRkRmQ9J%2Bzv%2By7of7Pt9rXiOf4oeLfG/iHX7Wwsr/xP42ubSS9NhYpItnZj7JbW8flRGe4cEoZHe5ld3dmzQB6fRRRQAV8ifGv9pf8Aa28Ga7%2B0B4Et/CvgzxZe%2BAvD/hTxJ8NrHSfh/qd/Oseo6rqUIS8tYrx5dRngXTY51NsLclyQq/KrV9d14XL%2BxR4hi%2BOnjb4/6F%2B2h8VtK1bxvpFjplzY2Vn4Ya0022sri5ns0thLoryfujeXSgzPKXWciTzCqFQDq/2VPi3N8ZfhSPE2o/E7RvFOo2uq3Njq11o/gi/8NmzuIm%2Ba1n0zUbie6tJ0UruSZgxDK21VYV6TXCfAP4B6B8AdC1mx0/xbrniPVfE3iCXXPE/ibxJLbte6rfyQwwebILaGGCMLBb28KpFFGipCgC5yT3dABRRRQB8bftLftd/tLfs8fGaD4baynwz8a32twQTeEYdO8LXtpL4LvNS8Q6Z4e0ibU5XvphdRTtq84LRLZyOLG6WMMvmGL3H9lX4v/Ej4jDx/8PvjEdEn8VfDTx43hrWdV8NadNZ2Gp%2BZpenatb3ENvNPPJb5tdUt0eNppcSRyYYgjHC23/BNXwk118Q38Q/tL/E7Wbf4k68dc1i31I6F5lnqUVxDPp9zbXUWlpdKbB7e3FpG80kUSwoGR%2Bc%2BsfAP4C6H8A/D2rabZeL9c8Sat4i16bWvE/ijxK9sb/V76SOKHzphawQQLsggt4ESKKNFjgjULwSQDuqKKKAGXP2n7NJ9j2edsPlebnbuxxnHOM18QfFb9rn9tP4afETXPhtb23gPxnr3hi98NW%2BreOvBHwV1/Vo/DlvqzXj3thLpVnqU93czRw2VjdExTp%2B7uoWlgQGJpPt67hkuLWW3hupIHkjZVniCl4yRgMu4FcjqMgj1Br57%2BDH7AXiD4CfDa4%2BGnw7/AG6vjFFHdas%2BpzazeWXhOfUJbuV5ZLmeaZ9CP2mSd5d0kk4kfMabCgGCAes/AT4h2XxW%2BDvh/wCIVh8QNG8VJqeniR9f8P6TNYWl3ICVkKWs800tsVdWRoZJHeNlZWO5SB19cl8C/gv4S/Z9%2BF%2BnfCnwVc39xZWEt1cTX2q3Imur67urmW6urqZwqhpZrieaV9qqu6Q7VVcKOtoAKo%2BJ4fElz4b1C38G6nY2WryWUq6XeanYPdW0FwUIjklhjliaaNWwWRZIywBAdSdwvVm%2BMdBv/FHha/8ADul%2BLdS0G5vLV4oNa0cQG6sXI4miFxFLEXU8gSRuhx8ysMigD4e%2BG/7dn7Wvxg%2BKet/BL4Wab8Pk8Z6ba67fSeM/Ffwu1rQ11TTNItdFlSxl0S8vk1DT5Xu/EOxJp5nj8qGS4SF1nQH7G%2BAXxa034%2BfAnwV8ddG02Wzs/GvhLTdetLOZ9zwRXlrHcLGxAGSokAJ9RXi2r/8ABMjwPrWuX3xFu/2lPimnxA1ZLy11r4k217pEOrX%2BmXVta202mFE00WcNsUsrRh5FtFKskCyrKHLMfoPwX4P8NfDzwdpPgDwZpMWn6PoemQafpNhDnZbW0MaxxRrnnCoqqPpQBp0UUUAcv8adR8caN8Lda1v4c%2BIbHS9WsLM3UN9qHg%2B98QIkcZDygadYzwXN5I0SuqRQyBy7LhXPyN8W/CX/AIKI/H7xJ400PU/G9x4R8CeDNSnnXxB44vPgZ4imttYv4dfutIRLmVb6NPDM8lraWv7jVGklgeVY3zsCV9t/EzwZrvj3wlN4c8N/FLX/AAbeSSxvFr/hmKxe7g2sCVVb%2B2uYGDAFSHibgnGDgjxW6/4JzeFNQ8H3Hw21b9pD4m3fhjXNQmv/AB5oE1xo4i8YXc9411cTX0q6aLiLzSywtHZy2sQhiSNUUbtwB9E0UUUAFFFFABRRRQAUUUUAFFFFABRRRQAUUUUAFFFFABRRRQAUUUUAFFFFABRRRQAUUUUAFFFFABRRRQAUUUUAFFFFABRRRQAUUUUAFFFFABRRRQAUUUUAFFFFABRRRQAUUUUAFFFFABRRRQAUUUUAFFFFABRRRQAUUUUAFFFFABRRRQAUUUUAFFFFABRRRQAUUUUAFFFFABRRRQAUUUUAFFFFABRRRQAUUUUAFFFFABRRRQAUUUUAFFFFABRRRQAUUUUAFFFFABRRRQAUUUUAFFFFABRRRQAUUUUAFFFFABRRRQAUUUUAFFFFABRRRQAUUUUAf//Z\">"
            ]
          },
          "metadata": {
            "tags": []
          }
        }
      ]
    },
    {
      "cell_type": "markdown",
      "metadata": {
        "id": "Ep8tlZ1uMiQb"
      },
      "source": [
        "# Submit a linear model"
      ]
    },
    {
      "cell_type": "code",
      "metadata": {
        "id": "lR4gmF-4MiQb"
      },
      "source": [
        "## GRADED PART, DO NOT CHANGE!\n",
        "# Testing shapes \n",
        "grader.set_answer(\"9XaAS\", grading_utils.get_tensors_shapes_string([W, b, input_X, input_y, logits, probas, classes]))\n",
        "# Validation loss\n",
        "grader.set_answer(\"vmogZ\", s.run(loss, {input_X: X_val_flat, input_y: y_val_oh}))\n",
        "# Validation accuracy\n",
        "grader.set_answer(\"RMv95\", accuracy_score(y_val, s.run(classes, {input_X: X_val_flat})))"
      ],
      "execution_count": 132,
      "outputs": []
    },
    {
      "cell_type": "code",
      "metadata": {
        "id": "3iVl2n4yMiQd",
        "colab": {
          "base_uri": "https://localhost:8080/"
        },
        "outputId": "530a77f3-7132-43ae-eeed-3f1efcdc0e02"
      },
      "source": [
        "# you can make submission with answers so far to check yourself at this stage\n",
        "grader.submit(COURSERA_EMAIL, COURSERA_TOKEN)"
      ],
      "execution_count": 133,
      "outputs": [
        {
          "output_type": "stream",
          "text": [
            "Submitted to Coursera platform. See results on assignment page!\n"
          ],
          "name": "stdout"
        }
      ]
    },
    {
      "cell_type": "markdown",
      "metadata": {
        "id": "73hrIKQEMiQe"
      },
      "source": [
        "# MLP with hidden layers"
      ]
    },
    {
      "cell_type": "markdown",
      "metadata": {
        "id": "ni8LHm_xMiQe"
      },
      "source": [
        "Previously we've coded a dense layer with matrix multiplication by hand. \n",
        "But this is not convenient, you have to create a lot of variables and your code becomes a mess. \n",
        "In TensorFlow there's an easier way to make a dense layer:\n",
        "```python\n",
        "hidden1 = tf.layers.dense(inputs, 256, activation=tf.nn.sigmoid)\n",
        "```\n",
        "\n",
        "That will create all the necessary variables automatically.\n",
        "Here you can also choose an activation function (remember that we need it for a hidden layer!).\n",
        "\n",
        "Now define the MLP with 2 hidden layers and restart training with the cell above.\n",
        "\n",
        "You're aiming for ~0.97 validation accuracy here."
      ]
    },
    {
      "cell_type": "code",
      "metadata": {
        "id": "OQftT1CrMiQf",
        "colab": {
          "base_uri": "https://localhost:8080/"
        },
        "outputId": "9854d979-811a-48df-ff82-fd216051beee"
      },
      "source": [
        "# write the code here to get a new `step` operation and then run the cell with training loop above.\n",
        "# name your variables in the same way (e.g. logits, probas, classes, etc) for safety.\n",
        "### YOUR CODE HERE ###\n",
        "\n",
        "\n",
        "\n",
        "#Perceptron multicapa\n",
        "\n",
        "hidden1 = tf.layers.dense(input_X, 256,activation=tf.nn.sigmoid) #capa 1\n",
        "hidden2 = tf.layers.dense(hidden1, 256,activation=tf.nn.sigmoid) #capa 2\n",
        "\n",
        "logits = tf.layers.dense(hidden2, 10) #Definir las estimaciones de clases usando el MLP\n",
        "probas = tf.nn.softmax(logits) # pasar valores a intervalo [0,1] tipo probabilidad\n",
        "\n",
        "classes = tf.argmax(probas,1) #indice de clase mas probable\n",
        "loss = tf.reduce_mean(tf.nn.softmax_cross_entropy_with_logits(labels=input_y, logits=logits)) #funcion de perdida\n",
        "step = tf.train.AdamOptimizer().minimize(loss) #paso"
      ],
      "execution_count": 134,
      "outputs": [
        {
          "output_type": "stream",
          "text": [
            "WARNING:tensorflow:From <ipython-input-134-1970ee21cbad>:7: dense (from tensorflow.python.layers.core) is deprecated and will be removed in a future version.\n",
            "Instructions for updating:\n",
            "Use keras.layers.Dense instead.\n",
            "WARNING:tensorflow:From /tensorflow-1.15.2/python3.7/tensorflow_core/python/layers/core.py:187: Layer.apply (from tensorflow.python.keras.engine.base_layer) is deprecated and will be removed in a future version.\n",
            "Instructions for updating:\n",
            "Please use `layer.__call__` method instead.\n"
          ],
          "name": "stdout"
        }
      ]
    },
    {
      "cell_type": "code",
      "metadata": {
        "scrolled": false,
        "colab": {
          "base_uri": "https://localhost:8080/",
          "height": 308
        },
        "id": "_RnQMu1VKjB1",
        "outputId": "f175bbac-5fb9-4661-bbc8-33fd497533f2"
      },
      "source": [
        "#Entrenamiento del MLP\n",
        "\n",
        "s.run(tf.global_variables_initializer())\n",
        "\n",
        "BATCH_SIZE = 512\n",
        "EPOCHS = 40\n",
        "\n",
        "# for logging the progress right here in Jupyter (for those who don't have TensorBoard)\n",
        "simpleTrainingCurves = matplotlib_utils.SimpleTrainingCurves(\"cross-entropy\", \"accuracy\")\n",
        "\n",
        "for epoch in range(EPOCHS):  # we finish an epoch when we've looked at all training samples\n",
        "    \n",
        "    batch_losses = []\n",
        "    for batch_start in range(0, X_train_flat.shape[0], BATCH_SIZE):  # data is already shuffled\n",
        "        _, batch_loss = s.run([step, loss], {input_X: X_train_flat[batch_start:batch_start+BATCH_SIZE], \n",
        "                                             input_y: y_train_oh[batch_start:batch_start+BATCH_SIZE]})\n",
        "        # collect batch losses, this is almost free as we need a forward pass for backprop anyway\n",
        "        batch_losses.append(batch_loss)\n",
        "\n",
        "    train_loss = np.mean(batch_losses)\n",
        "    val_loss = s.run(loss, {input_X: X_val_flat, input_y: y_val_oh})  # this part is usually small\n",
        "    train_accuracy = accuracy_score(y_train, s.run(classes, {input_X: X_train_flat}))  # this is slow and usually skipped\n",
        "    valid_accuracy = accuracy_score(y_val, s.run(classes, {input_X: X_val_flat}))  \n",
        "    simpleTrainingCurves.add(train_loss, val_loss, train_accuracy, valid_accuracy)"
      ],
      "execution_count": 135,
      "outputs": [
        {
          "output_type": "display_data",
          "data": {
            "text/html": [
              "<img src=\"data:image/jpeg;base64,/9j/4AAQSkZJRgABAQEASABIAAD/2wBDAAIBAQEBAQIBAQECAgICAgQDAgICAgUEBAMEBgUGBgYFBgYGBwkIBgcJBwYGCAsICQoKCgoKBggLDAsKDAkKCgr/2wBDAQICAgICAgUDAwUKBwYHCgoKCgoKCgoKCgoKCgoKCgoKCgoKCgoKCgoKCgoKCgoKCgoKCgoKCgoKCgoKCgoKCgr/wAARCAEgA2ADASIAAhEBAxEB/8QAHwAAAQUBAQEBAQEAAAAAAAAAAAECAwQFBgcICQoL/8QAtRAAAgEDAwIEAwUFBAQAAAF9AQIDAAQRBRIhMUEGE1FhByJxFDKBkaEII0KxwRVS0fAkM2JyggkKFhcYGRolJicoKSo0NTY3ODk6Q0RFRkdISUpTVFVWV1hZWmNkZWZnaGlqc3R1dnd4eXqDhIWGh4iJipKTlJWWl5iZmqKjpKWmp6ipqrKztLW2t7i5usLDxMXGx8jJytLT1NXW19jZ2uHi4%2BTl5ufo6erx8vP09fb3%2BPn6/8QAHwEAAwEBAQEBAQEBAQAAAAAAAAECAwQFBgcICQoL/8QAtREAAgECBAQDBAcFBAQAAQJ3AAECAxEEBSExBhJBUQdhcRMiMoEIFEKRobHBCSMzUvAVYnLRChYkNOEl8RcYGRomJygpKjU2Nzg5OkNERUZHSElKU1RVVldYWVpjZGVmZ2hpanN0dXZ3eHl6goOEhYaHiImKkpOUlZaXmJmaoqOkpaanqKmqsrO0tba3uLm6wsPExcbHyMnK0tPU1dbX2Nna4uPk5ebn6Onq8vP09fb3%2BPn6/9oADAMBAAIRAxEAPwD9/KKKKACiiigAooooAKKKKACiiigAooooAKKKKACiiigAooooAKKKKACiiigAooooAKKKKACiiigAooooAKKKKACiiigAooooAKKKKACiiigAooooAKKKKACiiigAooooAKKKKACiiigAooooAKKKKACiiigAooooAKKKKACiiigAooooAKKKKACiiigAooooAKKKKACiiigAooooAKKKKACiiigAooooAKKKKACiiigAooooAKKKKACiiigAooooAKKKKACiiigAooooAKKKKACiiigAooooAKKKKACiiigAooooAKKKKACiiigAooooAKKKKACiiigAooooAKKKKACiiigAooooAKKKKACuN%2BOP7QHwm/Zx8JW/jT4veJ5dPtL7U4dN0u2stLub%2B91K9lDGO1tLO0jluLudlR2EUMbvtR2xhWI7KvFv2u/gP8VPiX4h%2BGfxl%2BBd14fl8X/CrxjPrWmaJ4tu57bTdYhudLvdMubaW4ghmktH8q9aSOdYZtrR7TGyu2ACjpH/AAUr/Y71rxm3w8tvHviCDW7fSodU1bTtR%2BHOvWkmi2EhuAt3qXn2SDTIAbWcNLdmFEKYYqWUGbwn/wAFH/2NfGfg/wAQ%2BOtM%2BLFza6f4Y0e11fVBrnhPVdMuJNPuXMdreWtvd2sU19bzyAxwy2ySpM5CRlmIB86vP2GPjP8AHW0/aRP7Qt74V8My/tB/CPTvBskfgrWLrUzo7RWusWsr%2BbcWtqZ1VNRiZDsXeyygogxuy9Y/Y2/at%2BM%2Btaz8UP2lPh38G9X1e0%2BE6eBtB8E6d4n1QaRrSy6jaXt5fXd2bBJ9PYmyg%2BzxQw3BtnDP50hIwAeyX/7fP7N2k%2BAbH4h6tdeOLSHVPED6Jpeh3Xwj8SR67e3yW5uXjh0dtPGoShYAZTIluUCKzFsA49P8JeOfDfjbwTY/EPRbi5i0rULBbyCTVNPnsZY4iu7MsFykcsDAfeSRVZSCGAIIr41tv2Gf2tJfgpJ4W8feGPCnjS%2Bh%2BIcut%2BC9B1n9ofxXb3fgOxOmxWoi0/xbHp7atcSGUXcreZDGBHeGENsjGfUvB/7Bmq%2BKfgJo3hb9pz46%2BOPEfj5PhtdeFtf8Q6T8Q9at9Muhc2tzbyTPpa3SWN5MiXTBbq4tmmdoopWKuibADc8Mf8FJP2MvF/h7xJ4s0b4tXK6Z4W8GXni6/vr7wlqtpFe6BaruuNU09p7VBqtogK5nsvPQmSMAkyIG4n40f8FdP2YfAf7M/wATf2gfhW%2Bs%2BM7v4b%2BDYfEjeGW8L6xps2r2Nw7R2t3avNYFrixlkRh9vgjmtkVWdnCqSPHfC/8AwSh%2BNC/BPxf8LPFnh3w9J4h/4UL4j8A%2BC/Hmo/tD%2BNvECSXGpWEdp5h0jVUkttGtpDDE8scEl0yeVGqFggz6P%2B1L/wAE5vih%2B0BYeKtE0Pxj4d0q2179le%2B%2BGlrLM87GDVpLiOWGdo1iANqNhBIbzBnhO9AHqkv/AAUU/ZZt/E3hrwJeav41tvEni7TpdQ0HwpefCTxLDq8tnFd/Y5LmSwk08XNvCkxG6SaNEVGWUkRsrmXwN/wUT/Y7%2BJGqarpXhD4tyXB0rQ9Q1lbufw1qVvaapp1iwS8u9NuZrdYdVhhYqHeyedVLqCfmGcXwR8APjz4x/apsf2oPjn4f8HeH5JPg5f8Ag/VNE8J%2BK7vVTBcy6tHcpJDcz6fZl4mgiUsTGjJIdoV1USHwGb9hz9pf4bfs8%2BF/Cnxo1rwIPCP7N3wP8SaB4L1PwrfXcmpeKd2hHTLe4vbeW2ii04JZozSQxS3QknZXDxqgQgH0D4U/4Kl/sL%2BNPBus/ELQ/jLdrouheDj4tutRv/BmsWcdzoIKB9Vs/PtEN/ZxmRBJPbCWOLcPMZc167a/GD4c3vxcuPgVZ%2BIxN4qtPDUGv3emRWsrCHTp55beGd5QnlL5ksE6ohfe3kyEKQjEfFX7I/7P3xC8WfBL4Q/Hb9t/Uvhlovww%2BG/7L9z4fgk07W5wmr6bqmnaWby%2B1X7VBDDpkEVppyq0CS3CZleRplWNVrsP%2BCK3wr8d6P8As76n8evit4tbxFrHjW%2Bg03w54hlgaOS%2B8I6JF/ZWiXBD8/6VDDNqhPd9WcgKCFAB9lUUUUAFFFFABRRRQAUUUUAFFFFABRRRQAUUUUAFFFFABRRRQAUUUUAFFFFABRRRQAUUUUAFFFFABRRRQAUUUUAFFFFABRRRQAV4jpH/AAUY/Y91K716z1P4pXnh5vDnhy58QahJ418I6roMc2k27pHPf2smpWsC31ujyRK0tsZUBljGcuufab2K5ms5YbO6EEzxMsUxj3%2BWxHDbT1wecd6/MTV/%2BCOX7cvxf1bwvrnxu%2BOOhvrfhrwfqFnqHijUPit4m8TjxDrf2zSr611E6XfRQ2Wk20lzpi%2BfYWQCiOTassgVAoB9sv8At/8A7MNr8NG%2BLGseIPFWlaW2uQaNY2eufDLX7DVNTv5kMkMFlptxYpe37SIGdfs8MgZUdgSEYjovAf7VnwP%2BI%2Bv2XhPw54h1SHV7/wAKT%2BJIdI1rwrqWmXaabDd/ZJZZYby3ikgdZ/kMMirL32bea8m%2BJ3wc/bd%2BMTfD342654N%2BFWh/EP4UeOptY8P%2BGbXxxqV/ouuWdxpN3plzHcXz6VDNYzFL2SSN0tbgRmIKfMEjYq/En4Dftwa/8ZfDv7TXgfRvhXaeLL74Yar4L8Y6FqXivUpLDSFuL%2BG6tb%2ByuE04SagYhG6yW8sVoJS4xLFjkA7jSf8Ago3%2ByB4j17wL4W8K/EbVdZ1P4k%2BDdK8W%2BDdO0TwPrN7PeaHqL7LXUZEgtGa1t92PMknEa24ZTN5QYE7Hw1/bc/Zu%2BK/xGufhP4Z8X6tZ6/b6Xc6nDZeJ/BmraIt/Y28iRz3dlLqNrBHfwRvLEHltmkRfMQkgMpPlH7Cn7CXxY/Zh1/4caz488QeGrs%2BDv2UvCPwxv30i5nlZtW0t5muZovMgj3Wrb02MxV22/NGmBXjXw0/4JV/tjeJ/ij4X8TftTfGGz1SLT/AHivwv408TQfF/xJrV54il1exS2/tO10y%2Bhj0/QjlSxtLRSi5UCZxGq0AfUvhP/gov%2ByP410WPxVoPjvXP7DuNV0vT9P8AEt78P9btdK1GXUr2OyspLS%2Bns0tryCW5mijFxBI8IMqFnCsCfS/C3xd%2BHnjX4geKfhd4X8Q/a9c8FyWcfie0S0mC2Ml1B9ogjMrII3doSshRGZkWSMsFEibvmHxx4E%2BIvhX/AIJ7eNPgR/wUM8T/AAq8EeAtB%2BGkWgW3xM8O%2BLbsM06RpbWupPaXVnAmmzLMLeSGCO4umM5REcnaG7X/AIJX/D74seG/2RNK%2BKv7RVglv8TvixfS%2BOviJCtu0X2e/v1jMNpsb5k%2By2MdlZ7TkgWuDQB9G0UUUAFFFFABRRRQAUUUUAFFFFABRRRQAUUUUAFFFFABRRRQAUUUUAFFFFABRRRQAUUUUAFFFFABRRRQAUUUUAFFFFABRRRQBz3xX8e33ww%2BHmp%2BPNN%2BHmveK59NhWRPD3hkWpvrzLqpWL7XPBCCAxYmSVFCqxzxg4Pg79oHTPiP%2BzR4e/ac%2BHXw78S63Y%2BKfCWna/ofhqzhtV1S4hvYIpoYSstwlukoWVd26cRqQxMmBure%2BK4%2BILfDnWIvhX4d0bVvEEtm0em6f4g1yXTbOV2IU%2Bbcw2108QCliCsMmSAMAHcPD/gR8Ov27fgl%2BwN4d%2BAegeDfhRb/ABG8F/C6x8PeHdRm8caleaPPqNnbRWkNxP8A8SqGYQskZnZFUsGxECQfOAB6p8Af2gND%2BP2k6/LaeC9e8M6x4T8RvoXinwz4mjthe6XfLbW92sbtaTz28ge2u7aZXimkUrMvIYMo5T49eP8A9ov/AIaL8C/Aj4C%2BM/BXh9Nf8FeJde1fU/F/gu71ok6dd6Hbwwwx2%2BpWPlhv7UlZmZnz5aABeSbX7Evwe%2BIHwQ%2BC7eD/AIqeF9GsvEU%2Bs3F/reraX4xn12XxBdzhHn1K7uZtOsCtxLKXHkpD5UUccSRlUVYo%2BH1vwV4Z8Bf8FVvh7rWmah4gmu/F3wY8fzXseq%2BL9SvrWKSDVvB%2B1bW1ubiSCyUiRyy26Rhtq7gdowm0ty4QlUdo9m/u1Z2H/CD/APBQv/o6D4M/%2BGH1b/5qKP8AhB/%2BChf/AEdB8Gf/AAw%2Brf8AzUV7NRTIPGf%2BEH/4KF/9HQfBn/ww%2Brf/ADUUf8IP/wAFC/8Ao6D4M/8Ahh9W/wDmor2aigDxn/hB/wDgoX/0dB8Gf/DD6t/81FH/AAg//BQv/o6D4M/%2BGH1b/wCaivZqKAPGf%2BEH/wCChf8A0dB8Gf8Aww%2Brf/NRR/wg/wDwUL/6Og%2BDP/hh9W/%2BaivZqKAPGf8AhB/%2BChf/AEdB8Gf/AAw%2Brf8AzUUf8IP/AMFC/wDo6D4M/wDhh9W/%2BaivZqKAPGf%2BEH/4KF/9HQfBn/ww%2Brf/ADUUf8IP/wAFC/8Ao6D4M/8Ahh9W/wDmor2aigDxn/hB/wDgoX/0dB8Gf/DD6t/81FH/AAg//BQv/o6D4M/%2BGH1b/wCaivZq8%2B%2BIHj/4GfDQan4w%2BPvjjwp4f0861Fp9lqXjDVLa0g8w2kcqwRyXLKu8gSvtByQrHHBxM5wpxcptJLq3Zfe7I2w%2BHxGLrxo0ISnOTsoxTlJvsoxUpN6PRJvTY5r/AIQf/goX/wBHQfBn/wAMPq3/AM1FH/CD/wDBQv8A6Og%2BDP8A4YfVv/moqv8A8Nf/APBOD/o6L4I/%2BFto/wD8do/4a/8A%2BCcH/R0XwR/8LbR//jtc31/Af8/of%2BBw/wDkj2v9UuLP%2BhdiP/Cev/8AKCx/wg//AAUL/wCjoPgz/wCGH1b/AOaij/hB/wDgoX/0dB8Gf/DD6t/81Fdh8NPEn7OXxo0KXxT8Hdf8E%2BLNMt7trWfUfDV1Z38Ec6qrtE0kBZQ4V0YqTkB1OMEV5P8AEH9tn9k74Q/Gv4ifCL4seB9Q0O0%2BGngbTvFPiHxbJ8P7%2B40qKyuRfMxa5gtHij8tLInLP%2B8Z2jj3PDKq9MJwqRUoNNPqndfero8XEYfEYSvKjXhKE4uzjJOMk%2BzjJRknqtGk9djqP%2BEH/wCChf8A0dB8Gf8Aww%2Brf/NRR/wg/wDwUL/6Og%2BDP/hh9W/%2Baiom/ab/AGULabw3HrHhPXtKh8V3ENvpF/rnwf1uwtFmmvXsreO5ubiwSGyea4UJEtw8TS%2BbCyBlmiZ%2BZ139un9inwFaE/Emaxt7tr3xWsNr4b8D6trBFn4f1U6bqN1KLfTd8KQStEJmZfKQuxSWaJRO1GJ1f/CD/wDBQv8A6Og%2BDP8A4YfVv/moo/4Qf/goX/0dB8Gf/DD6t/8ANRXfaBH8GPFdxPaeF4/DGozW0ME1zDYrbyvDHOnmQu6rkqJE%2BZScbl5GRXh/7P37VWifGj4paN4X1z9m7RND8MeOdN13UPhn4kh1VLufVrfSr2G1mN3am0jFi0yTx3MCpLcboQ/mGF1EZAOy/wCEH/4KF/8AR0HwZ/8ADD6t/wDNRR/wg/8AwUL/AOjoPgz/AOGH1b/5qK43xZ%2B1Vonhr48aj4Ht/wBm7Q7nwJ4e%2BImi%2BA/E/jVtVSO8tNf1W0s7i0SLT/shWe1zqWmwvOblGWS6IETiJ2rb%2BEPxX8W/EnX/AIweAtY/ZZ8JaX4k%2BGupx2uhafbeJ1uYNdE%2BnpeWjTTmwj%2BxM/mIjqEnEeSQ0mMUAa//AAg//BQv/o6D4M/%2BGH1b/wCaij/hB/8AgoX/ANHQfBn/AMMPq3/zUV5xoX7Xl34k%2BAvw08b6Z%2Byv4Qj8c/E34h6p4N07wveeKxFpFnf6edXad5dU/s4ymIxaNcGPbZl3eWJNigs61PEX7apj/ZVtP20PAX7LfgzWvAmnaNeXnjZ5fGSQ39pPZXktneWmmRR6fLFqkqy28yxbprVZz5SocyYUA9S/4Qf/AIKF/wDR0HwZ/wDDD6t/81FH/CD/APBQv/o6D4M/%2BGH1b/5qK5rx9%2B0Xovw2/bF8J/sua/8ACL4cXcXjW4ZdEj0bxktx4mhtVsridtSutFbT0EOnrNay2xulupAHaL5cuUSPwd%2B0daeHviB4s%2BH37V3wE8E%2BA5fC3w%2Bj8aXWp6D4nGt2lvpJmuIX%2B1s%2Bn2jW06m3chFWVJAsmyRjGwoA6n/hB/8AgoX/ANHQfBn/AMMPq3/zUUf8IP8A8FC/%2BjoPgz/4YfVv/morzjwD%2B1T41%2BJ/7L%2BvftG6J%2ByH4G8Ny%2BFfEmu2fijQviH41k07%2By9P015d9zLNa6Rd4n2RhpLfZtiO9RNJsDNg6h%2B3nqmjfD/SvH%2Bv/sUaJYpo3wk0D4h/GWwufE6LP4Q0vVZblUhth/Z%2BNTuYUsb%2BSWNjahVtxtZmkVaAPZf%2BEH/4KF/9HQfBn/ww%2Brf/ADUUf8IP/wAFC/8Ao6D4M/8Ahh9W/wDmoqhoHxeiX9qbxp8AfiN8AfC%2Bh6J4c8FWvifR/FdvrK3cmoWclxcQSefamzjFoUa3cjbNNuXk7DxXlPgb/goR4M8e/s/6v%2B0NoHwT%2BGF/YPqfhvTvC%2Bh6L8Sba81KG61zUYLGyi16NLAJobK13bySqr3bIvnABmjCuAey/wDCD/8ABQv/AKOg%2BDP/AIYfVv8A5qKP%2BEH/AOChf/R0HwZ/8MPq3/zUV474p/4KI/Czwh4MWx8Q/C74YaR47tviJqXg/XdO8RfEGCw8N6Vd2FtHd3FxLrUlju8jybizVR9k80z3ccTRJtkdOk8XftfeDNC%2BOHhH9nbTPh78H08T6v4c0bV9fXxF8S4NNtsajLNFFa6M/wDZ8kmt3GbW6cL5dspQQMzIZ1VQDvv%2BEH/4KF/9HQfBn/ww%2Brf/ADUUf8IP/wAFC/8Ao6D4M/8Ahh9W/wDmormLb9pDQbD9s6H9kfxV8Jvhs8t9p99f20vhfxmmpavpdnBGkkd3q%2BmNYQ/2bbzBwiSieZTI0aDO/cvP/DD9szQ/jZ4N%2BLPjnwB%2Bz/4G0vS/h5qlodD1vx94vTSNN1vRZrOK8GsT3KafOdPgaB2miBSbfF5Tu0RkZYwD0f8A4Qf/AIKF/wDR0HwZ/wDDD6t/81FUPA/jj9qzwd%2B1Z4c%2BCPxu%2BI/w98TaN4m%2BHviHXIZvCvw8vtFurS602%2B0S3RWe41e%2BSWN01SUlQiMGiQhsZBl/Zw%2BL3hD9pn9l1Pj/AKJ8OtI0WW4/taK0m0a7S8tJ2srq4tlvrC9WKI3VnOYBPb3Ajj82GWN9q7sVa8cf8pC/hf8A9kZ8ef8Ap28IUAezUUUUAFebftZftK6V%2ByN8EdW%2BPXiP4X%2BK/Fek6DDJc61aeD4bN7mzs44pJprtxeXNuhijSM5CuXJKhUYnFek14z/wUE%2BE/wAavj5%2Bx/48%2BA3wE0bwtd69438N3uhed4v8R3OmWllDdW0sTXPmW9ldvI6FlIi8tQwJ/eLgZAOw%2BPXx08P/AAB8HWnifV/DWsa9e6rrdpo/h/w54ejga%2B1a/uX2xW8P2iWGFTgPIzyyxxpHE7s6hSa8n8R/8FNfhBofgfTvGem/Cnx/rM0mk69qnifQdI0yye/8KWWiXn2HVpr9JLtEJtrrdD5Vq9xLOY3Nuk6qWrY%2BNnwx/aX%2BM3grwl4oHg7wLo/jbwH4x0zxPomkjxpeXWmX86Q3FteWc13/AGZHLAht7qdY51t5DvKO0QClD41e/sB/tW%2BGfDWoa/8ADnXPh/P4u%2BIHhrxrpHxAj1fVr2Ow0eTX9Yk1OK6sHS0d70WPnzQeTKlt9qGxzLbEFSAfamm6lp%2Bs6db6vpN7Fc2t3Ak1tcQuGSWNgGV1I4IIIIPvXzx8JvFX7d/x10fXvHfhf43/AAk0DS7f4heKtD0vSr/4P6pf3EVrpevX%2BmQtLcJ4igWWR47NXZlijXc5AUACvZrf4R%2BGIvg/Z/BN7/WI9Is9Dt9KS40zXLrT70QwxrGrJdWkkU0L4QfPG6nrzzXj37Dnh3T/AAr%2Byle%2BD9Mub%2BWztPjT44sUk1LVbi9uZYf%2BE81aMiW4uHead2TIaSR2dySWYkk0AdH/AMIP/wAFC/8Ao6D4M/8Ahh9W/wDmoo/4Qf8A4KF/9HQfBn/ww%2Brf/NRT9f8A2oP%2BCfvhTXb3wt4p/aI%2BDmm6npt3Ja6jp2oeLtKhntZ42KSRSRvKGR1YFWVgCCCCMiqn/DX/APwTg/6Oi%2BCP/hbaP/8AHa5XjsCnZ1Yf%2BBx/%2BSPehwrxTUgpwy/ENNJpqhXaaeqaaoNNNNNNNpppptNMsf8ACD/8FC/%2BjoPgz/4YfVv/AJqKP%2BEH/wCChf8A0dB8Gf8Aww%2Brf/NRT9A/ag/4J%2B%2BK9dsvC3hb9oj4OalqepXcdrp2naf4t0qae6nkYJHFHGkpZ3ZiFVVBJJAAyavftV/Ev4Vfsofs3%2BNf2kvFPwuXVtP8FeHrjVbrTdI0QTXFysS52IscbEZOMuRtRcu5VVZhrSr0K6bpzUrdmn%2BTZ5%2BOyvM8rnGGNw9Sk5K6VSE6ba2ulOEG1fS6TV9L30M7/hB/%2BChf/R0HwZ/8MPq3/wA1FH/CD/8ABQv/AKOg%2BDP/AIYfVv8A5qKoaT%2B1n%2Bx/rnjeX4a6X4a1%2BXxDbeHF17UNF/4U1rq3Wn2Dx3bxS3UbaeGtWl%2Bw3KxRzBJJnjEcau7orO0z9pz9mDxNJ4d/4RXTLBDrPjqbwre2HiXwlqOj6jY30ejXWrmFrK5sBMkptbdZlW4W3jeGTzFlZjFHNqcJd/4Qf/goX/0dB8Gf/DD6t/8ANRR/wg//AAUL/wCjoPgz/wCGH1b/AOaiqHwU/a//AGF/2gtGm8R/DbxNpf8AZ0Xh/T9dS/8AEXhG70WC50u%2BZltb2CTUbaBbm3kdSgliLqHwhIYgVd/aN%2BIjfCvX/B/w0%2BEHwA8NeLvGfja9vE0rS9a1VdIsYLWztWuLm5nuks7p0A/cxKqwuWkuI87EDuoA7/hB/wDgoX/0dB8Gf/DD6t/81FH/AAg//BQv/o6D4M/%2BGH1b/wCaiue1/wDak%2BFsH7Fvhr9r/wAJ/BSyvB4vHh230bw7qhgs/Iv9Yv7TT4ILu5Eci28cVzeIs0qrJtWOQosh2q3FWv7bi%2BIr6y%2BFngn9mbwFefEpPF3iDQPEWjX3jlbbQtOn0e1t7u52aoNNeSdmgvLR0jNpG3zTeZ5Qgc0Aerf8IP8A8FC/%2BjoPgz/4YfVv/moo/wCEH/4KF/8AR0HwZ/8ADD6t/wDNRXl3i39sbV7v4P8Awn/aM%2BBf7LXgHxT4J%2BLknhaDQRq3jWTTtZE%2BszRKUW0i0i5gkW2gka4kb7SvyW8%2BANgLdL4q%2BOPxF8CftV6R8AfEf7JHga%2B0XWvD/iHX7XWPDHjCa91aLS9MWBVll06TSIY1lnnu7SBYlu2%2BaVyrOI2yAdZ/wg//AAUL/wCjoPgz/wCGH1b/AOaij/hB/wDgoX/0dB8Gf/DD6t/81Fef/sB/tm%2BAv24rnX7e0%2BDvga0j0XQ9H1Nr/wAHeKotftbd78XJOl3sn2O2NnqtsLcG4s9snlLcQnzDvxX0j4MGzQzApOyG%2Bu4ogTnaiXMiqv0CgAewoA8u/wCEH/4KF/8AR0HwZ/8ADD6t/wDNRR/wg/8AwUL/AOjoPgz/AOGH1b/5qK9mooA8Z/4Qf/goX/0dB8Gf/DD6t/8ANRR/wg//AAUL/wCjoPgz/wCGH1b/AOaivZqKAPGf%2BEH/AOChf/R0HwZ/8MPq3/zUUf8ACD/8FC/%2BjoPgz/4YfVv/AJqK9mooA8Z/4Qf/AIKF/wDR0HwZ/wDDD6t/81FH/CD/APBQv/o6D4M/%2BGH1b/5qK9mooA8Z/wCEH/4KF/8AR0HwZ/8ADD6t/wDNRR/wg/8AwUL/AOjoPgz/AOGH1b/5qK9mooA8Z/4Qf/goX/0dB8Gf/DD6t/8ANRR/wg//AAUL/wCjoPgz/wCGH1b/AOaivZqKAPGf%2BEH/AOChf/R0HwZ/8MPq3/zUUf8ACD/8FC/%2BjoPgz/4YfVv/AJqK9mooA8Z/4Qf/AIKF/wDR0HwZ/wDDD6t/81FH/CD/APBQv/o6D4M/%2BGH1b/5qK9mooA8Z/wCEH/4KF/8AR0HwZ/8ADD6t/wDNRR/wg/8AwUL/AOjoPgz/AOGH1b/5qK9mooA8Z/4Qf/goX/0dB8Gf/DD6t/8ANRR/wg//AAUL/wCjoPgz/wCGH1b/AOaivZq4L4jftT/szfCDevxT/aD8F%2BHpI87oNX8TWsEufQI7hifYAms6lWlRjzVJKK7tpfm0deDwGPzGsqOEozqzf2YQlN/dCMn%2BBy3/AAg//BQv/o6D4M/%2BGH1b/wCaij/hB/8AgoX/ANHQfBn/AMMPq3/zUV594h/4LQf8E7dJ1BtE8PfGy68T6iPu6f4V8LahfO/%2B6yQeWf8AvqqP/D03xH4v/d/BL/gnb8fvEu7/AFV7qPg5NKspfTbPPIf1UYrznnmUJ2jWUn/dvL/0mMj7On4W%2BIUoKdXLalGL61uSgrd716tHT0TPT/8AhB/%2BChf/AEdB8Gf/AAw%2Brf8AzUVb/ZW%2BI3xp8Yax8UPAnx01/wAL6tqngH4hRaHZ6r4T8NXOk291ay6Do%2Bpqz29xe3jLIsmoyoWEu0rGh2qc58mH7Vn/AAVQ8S/N4Y/4Ja6do8L/AOqufEnxk05iR6tFDHuX6Zrof%2BCdmr/GXXtb%2BPOrftA%2BD9I0DxdN8ZoDq2kaFqDXVrb48I%2BGxEElYAuTCI2b0ZmA4Fb4bH0cXNxhGa0veUJRX3yS/I8nO%2BEsxyDCqviq2Hld8vLSxNCtNaN3caU52StZtysnZdT6ToooruPlwooooAKKKKACiiigAooooAKKKKACiiigAooooAKKKKACiiigAooooAK%2BX/2gdY/sz/grL%2BzVZb8f2h8L/iZb49cS%2BF5cf%2BQv0r6gr42/bD1c6X/wWN/YyhLYS98M/FC3Y5/6cNGcD80Fc2Mn7OjzecfxlFfqe5w7h/reZ%2By/6d1n/wCA0K0v/bT7JooorpPDCiiigAooooAKKKKACiiigAooooAK4nxX8IvhP8aINX8LfGL4YeHfFmmW/iCK6g07xNosF/BHOtlCiyrHOjKHCu6hgMgOwzgmu2ryf47/ALVvwC/Y%2B8Naj8S/2i/Hv/CO6JfeK4dMtb3%2By7q733T6ekqx7LWKRxlIZTuKhflxnJAOOInh6dCUq7SglrzWtbzvpb1GsfLKn9bjWdJ09edScHHpdSUouO%2B6kt99RP8Ahgf9hX/oyz4S/wDhudM/%2BMUf8MD/ALCv/Rlnwl/8Nzpn/wAYryT/AIfm/wDBLL/o6L/yydc/%2BQqP%2BH5v/BLL/o6L/wAsnXP/AJCrxfr3Cv8Az8of%2BU/8jT/iKWJ/6Hs//Cyr/wDNB9JfDT4RfCf4L6FL4W%2BDvww8O%2BE9MuLtrqfTvDWiwWEEk7KqNK0cCKpcqiKWIyQijOAK8V/aV/YX8V/Hjxd8StT8P/GfTdC0f4q/C%2Bw8IeJdOvfCEl9cQtZS6nJbXdtOt7CqDOpyCSJ4pN4iTa8ZLE%2Bk/s0ftW/AL9sHwJd/Ev8AZ08e/wDCRaJY6vJpl1e/2XdWmy6SKKVo9l1FG5wk0R3BSvzYzkEDH%2BJX7Zfww%2BFfizxL4F8S6Drz6x4cl8MRx6fa2sDSat/b9%2B%2Bnae1pumUODdxTROXMezyXY/IAx9rDzw9ShGVBpwa05bWt5W0t6Gbx8s1f1uVZ1XU153Jzcul3Jyk5bbuT230PKv2vv%2BCY8v7Vnx6t/jLc/FLw7ZxQy%2BGJrePX/h2msalo8mj6sdQI0m9e7jGmpd5EVxthd3CghxgKNjw7/wAE7F0HXdV1s/F8Tf2noPxM03y/%2BEe2%2BV/wl3iKHWd%2BftBz9k8ryNvHn7t%2BYsbDzXx6/wCCsfw78HeG/j34G%2BGmlW8fxL%2BEfwl8W%2BL9J0zW9a0nULTUDosPzmaHS9SmurZPOltcw3S2kzpMdgyknl95q37eGg%2BH/iP4k%2BFOm/DrxX418S6f8QLnw/pfhnwno1nBdGG20TTNUurky3moJDLDEuowgys0Ds88cKQOyiSXYR6p8Gfh94j%2BFngTSPh3qfimy1Sw0Hw/p2mabJBpL20x%2Bz2ywySSsZ5FfeyBlVVTYDtJk%2B9Xjnwd/YV8c/B/xrZ%2BILL46aZqGmeCtC8Rab8ItGuvBjqNCGrXcVyzahIt8DqYtxBFbxLGLM%2BR5gdnkYTL2X7EH7SOqftPfsy/Dz4u%2BLNHNnrni3wDpviLUYrHRLy3sIzdITsikmDKGBVswmRpUBUuAGUnzvwT%2B2N8bNe%2BPOgy6tpvhYfDbxj8YvEnw20HT7fTbldas7/R7TVJX1Ge6a5MMsMs%2BiX8Qt1t0ZFlt3Mr/OoANzxR%2Bw34g8R/HS/8br8ZLaDwP4g%2BIWiePPFPgz/hGC13eeINKtLO3tZIb/7UFt7UnTdNmeA28jtJakiZRK4q/wDCX9nD9pf4b/Gz4t/FzVP2gvAupQ/EbZcaNplv8Lr23bRry3tYrSykmlOtSC8iSGIebEqW7SuSySQD5K5T9pr9sb42/Cv4p%2BMX%2BHmmeFm8G/CbRfDep%2BO7bWdNuZtR1iPVL64imjsZo7mOO0a2tbfzw0kVwJ5JRFiEKZDzPwz/AG8v2hviJ%2B17qX7P0Wl%2BF7S1n13xfo%2Bk2t94O1S3js20lmS0ul1t7k2OtPPhHm0%2BzRLi0EkiykNay5AOo8CfsM/G3w/%2ByZd/szfEH4rfB/xu03i2%2B1eGfxV8Cri70kw3d9cX8sM%2Bmy64/nSLc3DGOYToEVEBjdgXOXqf/BOL4o6BoPwr8B/CD9oXwtZeE/ho9zqtx4X8YfDKbU7TXPEk1213/bEyWeq2KqYp5Z5obba0MUsolALwwNFr%2BE/jz%2B1v4i0f42fDuw8Z/DPVfFPwzGnrpfjyx8FahFob3csBubzTbjTzqckr3NtCsbMY7xQft0G4IUdTzXxO/bd/aH0j4I/Ab4taPLofhvS/iD8Pm8Q/ETxZL8Ide8V6foMn9n2Vyg8jTLyF7OBnuJ8z3EjIiQ/M3BagD134h/s6/F/4r/G/wv4y8b/GnQB4L8GeLU8ReH/Duk%2BB5bfV/tSWc9ssU2pvfyRvB/pErMsdpE7rtjL7d%2B/gvg9/wT08ZL4M8ceBf2wvjNoPxMi%2BIOsW%2BseJde8NeFtV8K61d39tdxXFmTfW%2BtzPDb2oghjggtxCI1j5Zi8pk6/xL8cvjHo/7Wnws8D6N4k8Far8OPiJ4c1OZZbPR7htRa6tbVLhbmG7F4YPs0iyKBH5Ltjnzegpvw5%2BLX7SWvftLfGj4BeJdT8Dyr4Z8K6Hrnw8u7HQLyA266nNrUMcOol7yT7UUOmQszwrb5EsiheFagDlNA/4JleG/Cv7NPj/APZh0X4yeIp9G%2BJHxBm1vxJc%2BIdU1LWZpdIuNRinvNIDX99M/wDpFosto9xuy3ntM8bvkHc/ab/Yb1v4%2B%2BPdf13w98Ybfw7oXxB8Gad4R%2BKeiT%2BGTey6xo1ld3lxHHZzi5iFhM6ajfwSSvHcBo51witErV5z4q/bi/aM%2BHHh3x7oXivxL8N7%2BTwd8RtB8M33xetvC99Z%2BGdFW%2BiSS8kvrN9RlfdZbokkIvUj3XsPmPD5coHCePP%2BCs3xhj%2BCvh7xt8Of%2BEXu5yPHsWs%2BJdM%2BHWs%2BIbLVbjw7ew29u1rYWF2txZ2N9FKbk6jNLLa2YEcckknnxSsAfSM/7MHxm1X9snWP2hPEPxl8IXfgnW/BKeFbzwMPh7dpfmwRriZT/af9rGPzDPcuWb7HgxARhVb97XDfCf8A4JveJ/hf4QuPDFx8VvBOvrpnwpsPhz4MsdZ%2BFXmaZFoNrNvVdXtBqAGrTsgCFke0iGZGSFPMYGz4h/bq%2BJF/%2B0h8F/hR8PPCfhybQfFGuw6T8UdWa7a9XT7%2B78MalrdpYadcQSLFLKiWCSzSsHXyLu1KKTPvjdqP7V37Sfw80T9p248aab4H1/UPg9ov9seCbXSrSfSYbmGXTJr2G2vprq7lVnBRVadfIQgn5FxmgCn4U/4JkQfDHw54W8Q/CTxv4N0X4heGvGmqeJE1pvhmDoJk1DTxps9rBpEF7C1rbpZxWkUIS63qLRC7y75Q%2BRc/8ElNM0nwZY/DfwB8ZbSw0fUfhn4c8DePp9U8Gpd6hqmnaNd3NzbS2E6XMKaXOWvLgbjFcIgEBjRGhDNkfDD9v/8AaT%2BKItvhR4duvCX/AAlmv/Fu38I6B4q1/wCF%2BtaDFa2x8M3Gv3FzeeG9Qvk1GMrHZzW8W%2B4iWdpY5VxGrbp/G3/BS74uwfBHwRqfgDwN4bufHMnjK10z4nxXKXEmm6NYxeLB4Yu7iFUlWQSXN4k/2NJH%2B5DcSN5v2ZkkAPWPid%2Bxv40/aH%2BJ0Gq/tIfFjRNa8D6XFr1vo/hTw14SutHv5LXVLGfT5be91NdSleeNbW5kH%2BjxWpMqwzZDRIBl/Cb9gLVv2ZfE3xF8b/sx/G/ULHVPHN7pL2UfxHvte8W2mmW9naR2zQtHd6ysk7PsLLKJYmjUpH86Rhaj%2BH37U/xd1L9uHxX8CPin4m0Twx4dtvFLaX8P9F1D4T63BceKoF0O0v3mtfEEt2NOuJVmkvg1tFA0oisZCQNrOPpWgDyf4M/Aq9/Z6/Z817wZrHjNNe1PUtQ17XtY1G30z7Dateajc3F5Otta%2BZJ9ngWSZgkZkkbAy7u7M5o%2BOP8AlIX8L/8AsjPjz/07eEK9S8c/8iTrH/YKuP8A0W1eW%2BOP%2BUhfwv8A%2ByM%2BPP8A07eEKAPZqKKKACiiigAooooAK8F/Y/8A%2BTetX/7L345/9WBqte9V4L%2Bx/wD8m9av/wBl78c/%2BrA1WgDrNf8A2Jv2MvFeu3vinxT%2ByP8ADHUtT1K7kutR1HUPAOnTT3U8jF5JZJHhLO7MSzMxJJJJOTVT/hgf9hX/AKMs%2BEv/AIbnTP8A4xXnfj//AILKf8E3Phf471v4aeOv2jvsOt%2BHdXudM1iy/wCEQ1iX7PdW8rRSx747Rkfa6MNysVOMgkc1kf8AD83/AIJZf9HRf%2BWTrn/yFXgzxvDCm1KdG93e/s736303ve5p/wARNxND90s8nHl0t9bqq1tLW%2BsK1rWtZWtaytZezaB%2BxN%2Bxl4U12y8U%2BFv2R/hjpup6bdx3Wnajp/gHToZ7WeNg8csciQhkdWAZWUgggEHIrW/aa%2BCdl%2B0n%2Bzp47/Z71DX5dJh8b%2BEdQ0N9VggEr2f2q3eETBCQHKFw20kBtuMjOa8a8A/8FlP%2BCbnxQ8d6L8NPAv7R327W/EWr22maPZf8IhrEX2i6uJViij3yWiom53UbmYKM5JA5r3H46/GHw5%2Bz78HvEfxv8ZaZqN1o3hXSpdT1lNKhSSeKziG6eYK7oGWOMPKwznbG20M2FPoYGtltaEng5QaT15OW1/PlS1t3JlxJU4k/ezxrxPJpd1ZVeW%2BtryqVLX3smr726nkfiL9ib4heP9B%2BLsvj34%2B2sXiT4t/DvTfDN9rXhPwrNpsOmyWY1ELcxRSX08jI4vwGiMwOImxIPMGzhvgj/wAEpovhF4ih8TQ/EnwhYbfi4PHL6D4C%2BF8egaRAw8I3nhw2dtapeSmEN9qF20rPIzOjKR84dPRfjP8A8FEPg78FtL8Xa5qnhvU9QsfBXi2z8N6xqI8QaDpVo9/cabFqISG41fUrOGTZBPAGAffvmCor7JCnI2v/AAUd0nxT4%2Bjv/BNxaXHgLXPBnwk13wjqsWhST3l1/wAJh4g1bTSsyPdwrHGIrOzKsAXgaSZ2S5wsFdxJ1fwN/Yo8Q/AKPwJd%2BEfi5ZXN/wCBvgbpXw6t5dQ8Lu0N39jkgY3zRpdqy71hYCEOdhcHzG27W6z9o34BeOPip4g8H/Ez4P8AxP07wj4z8E3t4%2BlaprXhp9XsZ7W8tWt7m2ntUurV3B/cyqyzIVkt4870Lo3mHg3/AIKNH4mftFeD/BHhD4P%2BJrLwD4j8FeLNftPFmqaEs7eIYdJuNOhjn0uOyuZpzG/2qVvKnt0nmDQNChBOfSf2pPjR8QPh7o3gXwt8HE0iHxR8SfG9v4d0LUPE%2Blz3FlpubK81Ce5ntY5reWbba2FwFiEsRMjICyjNAFPw7%2ByxrHgL9l21/ZW8GeKfC%2BoaHpngew0Kx/4TvwS2sR3k8e4XdzqEC3kEd3HcJtzAgh2OZG3urqied2f/AATXi8N/s8v8F/CN78JHvNW8ZTeJPEc/ib4Hw6joyXbwJbxHTNJF/FHpxt4IbaKAvJcbUg%2BcSs7Oeh0r9rr4pv8AsE%2BNf2j3%2BHdlrHjjwL/wlemX2iaPDcCz1DU9D1K%2B02WaGMGSdbeWSyM4iBklWN9mXcZPJ/BH9sz4j/Hrwf8AEzR/BX7TXwgur/4YahZXeofFLS/A17feGdR0efTzdM0dsmsqySwyJPG8i3s0Y8g5UOzRxAHpHhX9ijwn4Kvfgbonh/xXcf8ACJ/AnQLm18P6BeWolmvdQOnx6ba6jLcbgN8VnJqKFfLPmPfl9yeXtfV1H9lq18R/F/4kfFnxT48vJZvHXgWy8I6XFp0H2abw/psIvHlME29t08s97JKZQqYENupDeUGPg/jP9p3/AIKBaZ/wTy8EftU6f4h%2BFuleO/FGi6YIPBur/DLU549S1fWb2G30izXZrkb2X/H3apcBjclGEzghV211Fv8At1axrX7bGt/s7/8ACxfDHhzRvB3irTPC%2BqRar8PtXvJdf1W70q11IJDqsVxHYaSWS9hihguBPNPJFKFABQsAdf8AsnfsfeM/gF4wufHvxI%2BLej%2BJtSTwDongzSU8OeCjoVtDpemPdPA08Ru7nz7lmuny6tHEqgCOGPc%2B72Twf/yCZv8AsK33/pXLWpWX4P8A%2BQTN/wBhW%2B/9K5aANSiiigAooooAKKyPGvxA8B/DXRH8TfEXxtpGgabF/rNQ1rUorWBfrJKyqPzr5z8Y/wDBYb9iXR9bk8I/DLxR4g%2BJ2ux/8wX4Y%2BGLnVpX7DbIqrC2T6SGuTE4/A4P%2BPVjG/RtXfotW/kmfQ5JwlxRxJd5XgqtZLeUIScI/wCKb5acfPmqRt1sfUdFfIz/ALX/APwUf%2BMw%2Byfs6/8ABOuTwpbT/wCp8S/GbxNHYpDnoZNOt83J9flY46Ukf7EP7eHxmJv/ANp7/gpD4h0WKUc%2BHfgvpcWiw2wPULeurTyj0LrkVyf2q6umGoTqeduSP/gU%2BX8Is%2Bh/1Bhl6vneZ4bC/wB1VPrNX/wVhfapP/HWifV2veIvD/hbTX1nxPrtnp1nF/rLu/ukhjT6s5AFeI/Eb/gqJ/wT3%2BFUkkPi79rXwc8kWfMh0bUTqbqR1BWzEpB9sZrj9C/4Iy/sLRakniD4meEvEvxD1WPpqnj/AMZX1/Kx77lEiRtn3Q17d8OP2W/2afg%2BiL8K/gB4M8PNHjbLpHhq1gkJHcuiBmPuSTRzZ5V2jTp%2BrlN/%2BSqC/EXsPCzAfHXxmLf9ynQw0PvqyxFS3/bifkeDD/gsj%2Bzj4j%2Bb4MfBn4zfEZG/1Uvgn4Y3c6yemDP5VL/w8K/az8UfN8LP%2BCUfxTu1b/V/8JbrFjoRP%2B8Ji%2B2vrSij6nmk/jxVv8NOC/GTkxf6x8CYb/dshU/Ovi8RP740oUI/c0fJf/C%2Bv%2BCv/iz/AJF/9gb4feEt33f%2BEp%2BKUd/s%2Bv2JBn8KBov/AAW68S/Pf%2BNf2cPDUbfdTTNN1m8lQf7RmIUn6cV9aUUf2XOXx4mq/wDt5R/9Jgg/18w1H/dclwFP1oTqv762Jl%2BKZ8l/8M8/8FdNZ%2BbU/wDgon4K0Ut1XR/hJb3IX6efIM/jR/wxr/wUyu/n1T/gr3e7j1Wz%2BCOjQgewxIa%2BtKKP7Gwr%2BKdR/wDcWp%2BkkH/ESc%2Bj/Cw2Dh6YDB/nKlN/ifJn/DC/7e13xq3/AAVu8XOO/wBj%2BHGl25/NWNIf%2BCcP7ROsfJ4x/wCCqHxpnQ9RostppzfmiNivrSij%2Bxcve6k/WpUf/t4f8RO4uj/DlQh/hweDj%2BWFZ8kt/wAEdvgX4nOz44ftD/HD4kwn79p41%2BJ9zLCR3XbAsRA9s13vw5/4Jff8E%2BfhV5beEv2SfBrvFjy5tZ03%2B05FI7h7wysD75zXvNFaU8myqlLmjQjfu1zP75cz/E5cZ4k8f4%2Bi6NXNK6pv7EKjpQ/8AoqhD/yUoeHvC3hjwjp66T4U8OWGl2qfdttOs0gjH0VABV%2BiivRSUVZHxlSpUqzc5ttvdttt%2BrbbfzYV4z%2By/wD8lv8A2jv%2ByzWP/qFeF69mrxn9l/8A5Lf%2B0d/2Wax/9QrwvTIPZqKKKACiiigAooooAKKKKACiiigAooooAKKKKACiiigAooooAKKKKAMf4gfET4f/AAm8HX/xE%2BKfjrRvDPh/S4hJqeu%2BINTisrO0QsFDSzTMqRgsyjLEDJA70608feBNQ8CRfFGw8a6TP4Zn0ldVh8RQ6lE1hJYNF5wu1uA3lmExESCQNtK/NnHNZfxu8ReHvCXwn13xF4p0LVNTsrWyLSWWi%2BGrvWLqRywEflWdnDNPMwcqcRxsVxu4Ckj5D8I23ij4mf8ABGTwT8E9B%2BE3jseJvDvwn8Jx%2BI/B%2BvfD/VdKuryPSm0/%2B09MVL%2B2hEsssdtcwLFk%2BcHBXcjbqAPsj4a/FP4Y/Gfwhb/EH4PfEfQfFmgXbutprnhrWIL%2BzmZGKOEmgZkYqwKnB4IIPIr4x/4KM6n/AGJ/wVm/Yh1PdjNz44tc/wDXeLRYsf8Aj1e4/sTwatrvjX41/GSDwbr2g%2BG/HfxMt9S8LWfiXw9daReXMMPh/SLGe8eyvI4ri2ElzaTqFljRnEIlxiRWPyZ/wVN/4Wv4Z/4Km/sc%2BIPG3jXw9f6FceP9Tg8N6fpXhiezu9Pjlv8AQIpFurmS9mS7Lb0wyQ24XDZDbht83N5cmXzl2cf/AEumfa%2BHdD61xhh6P88a6%2B/C4v8AyP0uooor0j4oKKKKACiiigAooooAKKKKACiiigArK8P/APIW1z/sKJ/6SW9atZ974Y0i/u3v5BcxSyACR7W/mg34GAWEbqGIHGTzigDQorL/AOEP0n/n71X/AMHl3/8AHaP%2BEP0n/n71X/weXf8A8doA1K8p%2BKv7Hnwq%2BMH7Rvw9/ac8UX%2Bsxa58ORef2fp9jdxpYaoZoysRvomjZp/szNJLBtdPLkkZvm4x6F/wh%2Bk/8/eq/wDg8u//AI7R/wAIfpP/AD96r/4PLv8A%2BO0AfNWof8EkvghrGl%2BIfDOsfGj4k3Oh638PfGfgzTtCfUtNW20HS/E80U2pfZNliJHmEkKGOa5e4ZeQ5kGAO18VfsE%2BAdZ8far8WfCXxY8b%2BEvFmqeM7nxEfEXh27sDPbNc6TYaVc2UaXVnNEbWWDTbR2V43kWWMOkiEKF9g/4Q/Sf%2BfvVf/B5d/wDx2j/hD9J/5%2B9V/wDB5d//AB2gDk/2cv2ePD/7MXwr8LfBXwH418QX3hvwh4TstB0ix1ua2mby7YMq3MkqQJJJO6lVclvLIjUqisWZuX0D9h74deHfjmvxqs/HviuS3tPEmo%2BJNE8FTXVodG0jXb%2B1ktbzVLdRbC58%2BWK4uwUkneFWvLhliVpCa9U/4Q/Sf%2BfvVf8AweXf/wAdo/4Q/Sf%2BfvVf/B5d/wDx2gDyH4kfsH%2BBPir40s/Gvi34s%2BNWebStE0/xvp9tPp8Vr41j0m7e7sjqSLZ5UrPLMz/YzarKsrRSBogsa1NJ/wCCfPgXQvGsnizRvjZ8QLa1tNa8Ra54S8PpeacbLwtrOti7%2B3alZFrIztMWv75o0upbiCI3UgWILtVfaf8AhD9J/wCfvVf/AAeXf/x2j/hD9J/5%2B9V/8Hl3/wDHaAPGfhB%2Bwo/wT/Zv1b9mbwf%2B1f8AEyTS9QtBBY65e2fht9T0wvI8l1NHIujrHcz3TSSNPPeR3Ejs7SBlkYuXaT%2Bw/rWgfs7%2BF/2adA/bO%2BLNjonhnQpNEbULaPw4t9qemmKOGK2uJP7H2p5MUflxy26QzYdmaR3ww9k/4Q/Sf%2BfvVf8AweXf/wAdo/4Q/Sf%2BfvVf/B5d/wDx2gDyPxB%2Bw7od78Ufhh8QvBPx68d%2BENM%2BEukx6b4X8FeH4tFk0p7URrDLHO15ps92wlt444GKXCFUQGMxyFpC62/Yx1Sz%2BOfj/wCPVl%2B1t8T4dQ%2BIPhePQrrTIYvD6Wuk28BvWsnsyNJE6y2r39y8TSyy7i484TBVA9a/4Q/Sf%2BfvVf8AweXf/wAdo/4Q/Sf%2BfvVf/B5d/wDx2gDyH4J/sU6l%2Bz/8An/Z%2B%2BHX7W3xMhs4TD/Y%2BvT2HhptR0wrK0szIw0cQ3Mly7O08t3FcSyM7vvV2LnL1f8A4Jx/DeTQ9Es/BHxo%2BIXhPWNM0vXtP1PxVoWoae%2Bo69DrV3He6p9sN3ZTwl57uJZ/MhiheJsrC0SHZXuX/CH6T/z96r/4PLv/AOO0f8IfpP8Az96r/wCDy7/%2BO0AeJav/AMEuP2ENT8cfDv4k2v7NXg%2Bw174aa3ZaloutWnhewa9vGs9Mm060ivLqWB57iOGOSKWPLh1ms7Vw37oAtvv%2BCefhjxJ4n%2BLWsfEL9or4j%2BJNL%2BMelNYeI/DOoHRbezsUVRHbSWclnpsF1FJbRfu4meeTIO6USuA49v8A%2BEP0n/n71X/weXf/AMdo/wCEP0n/AJ%2B9V/8AB5d//HaAPEZP%2BCenhK8iufEusftBfEW%2B8fS%2BKbLX7P4pTy6Qus2F1aWM%2BnwpDFHpy6eIhaXd7C0bWjB1vJi25mDLn%2BPf%2BCS37CXxS%2BE%2BifC74kfAnQNfudD%2BwiHxnrvh7Tr7XrgW%2Bp/2nIst5cWzsUublrhp0UKri8uAoTzMj37/AIQ/Sf8An71X/wAHl3/8do/4Q/Sf%2BfvVf/B5d/8Ax2gDzy//AGUdP1/4y6F8V/GPxo8Zazp/hPWJNV8IeBLpdLh0bRr1rOayEsf2axiupdkFzcKiT3EqKZiwXKRlPV6y/wDhD9J/5%2B9V/wDB5d//AB2j/hD9J/5%2B9V/8Hl3/APHaAE8c/wDIk6x/2C7j/wBFtXl3jj/lIX8L/wDsjPjz/wBO3hCvUT4M0N8LO19MmQTFcatcyI3sytIVYexBFeXeOP8AlIX8L/8AsjPjz/07eEKAPZqKKKACud%2BK/wAV/APwR8BXvxM%2BJuuNp%2Bj2DwRzTRWc1zLJLNMkEEEUECPLPNLNLHFHFGjSSSSIiKzMAeiryD9tf4b%2BPviH8J9Ivvhl4ZbXdY8J%2BP8Aw74nh8OpdwwPq0Wn6nb3E9tHJO6RLMYUkMXmukZlWMO6KS6gG3ZftW/AS%2B%2BBd1%2B0injpofCFjJPDfXt5pF3b3Ntcw3JtJLSSyliW6S6Fypg%2BytEJjLiMIXIU413%2B3P8As2WXgax8eyeJvEEkeo%2BIJdDtNCtvAOtTa62pRQPcS2raPHZnUEkSBGnYNbjbFtkOEZWPlnhX4E%2BO/E/7O3xQ8PfGT9n7xnbXfjvxveeONP0Dw5r%2BjLqWl3CX8EmnW8M7Xv2ZdSiNha3pLObQSybPOlAbPkDfsR/tFNpR%2BJ3xI%2BG/xN8YJ4n%2BOl54y8QeH9O%2BIWl6R46sbf8A4RS20G0kXU9OvLCzgdms980NjdQp5FxHEGlWOVJQD71%2BHXxD8FfFvwFo/wAT/hx4ig1bQNf02G/0jUrbOy5t5UDo4DAEZBGQQCDkEAgivHv2P/8Ak3rV/wDsvXjn/wBWBqta/wCyz8GPil4F/Yg8EfAvxp4ol8JeKNJ8G2mm3GoeFYbB5dJaNAqJEJbaS0kkjQKjN5DRuwZlXBFZP/BPfw1Jafsx6j4V8R%2BIb3X5Lf4tfEKC61bVEgS5vnTxprQM8gto4olkYjcfKjjUMflVRgAA96orK/4Q/Sf%2BfvVP/B5d/wDx2l/4Q/Sf%2BfvVf/B5d/8Ax2gDUqpr2haP4o0O98M%2BItNivNP1G0ktb6zuE3RzwyKUeNh3VlJBHoarf8IfpP8Az96r/wCDy7/%2BO0f8IfpP/P3qv/g8u/8A47QB8/eCf%2BCYPwo%2BGnwj8B/DD4efGr4j6VqHw%2B1vU9U0vxyup6fc63eS36TRXQupLmykgk3RTeUrrCksaQxCN02kmx4G/wCCYnwD%2BH/hrw94V0Txb4wktvDXhr4eaHYNd6lbPI9t4N1W71TS2kb7ON0ks95Ktw3AdFQRiFgXb3n/AIQ/Sf8An71X/wAHl3/8do/4Q/Sf%2BfvVf/B5d/8Ax2gDxD4bf8E7vAvwp%2BIml/EDwl8dfiIq%2BF/Deu6F4D0K4vNNksPC1nqs1tNMlohsd8pie0g8k3T3GxU2Hcny16R8c/gHonx38G6X4c1fxpruiapoGtWuseHvFmgParqOmahAGVbmITwS27Fo5JonSSF43jmkUpg8dP8A8IfpP/P3qv8A4PLv/wCO0f8ACH6T/wA/eq/%2BDy7/APjtAHF/Db9m2w%2BEXwwh%2BFfw9%2BKviqwtU07V1uNRJsJry61TUrpry41qR5bRlN79pluJgAoti9zJugcCMJzNz%2Bwr4A134K/EH4O%2BO/if4y8RzfFVtvj/AMXapc2Meqatb%2BRFbG0P2a0itoLc2sX2fy4YIxsllYYlkeU%2Btf8ACH6T/wA/eq/%2BDy7/APjtH/CH6T/z96r/AODy7/8AjtAGB8TfgX4P%2BK/iLwLr3ie8v0i8AeKP7f0nS7SSNLW6vFsrm0i%2B0KUJdIhdPKiqyYljic52AVxfi79iD4c%2BMPjJP8WLrx34qtLHUfFmleKfEHgmyuLNdI1nXdNit4rHUbjdbNdebEtlY/JHcRxN9hgLxttbd6n/AMIfpP8Az96r/wCDy7/%2BO0f8IfpP/P3qv/g8u/8A47QBqVleD/8AkEzf9hS%2B/wDSuWsrxvd/DL4aeGLrxr8RfHTaFo9im%2B81TWPFU9tbwr6tJJMFH4mvmmb/AIKZ6j8Wb1/h/wD8E3v2Zte%2BK72krQ3Hi%2B7ZtI8NWbgncTeXChrhwckooBfqrNmuLFZhhMG1GrL3ntFXcn6RV2/uS8z6XIeEOIuJITq4GhelD46s3GnRh/jrVHCnF9lzOT6QZ9gV5z8dP2u/2Y/2Z7YT/Hf45eHPDUjpvisr/UV%2B1Sr6pbpmVx7qprwhv2Uv%2BCk37RQ8z9qH9ty0%2BH%2BjXH%2Bv8IfA/SzbS7D/AA/2pdZnRscEKrKSTXo3wH/4Jp/sXfs83Z17wd8FNP1PX5H8y58UeKydV1KaU9ZPOudxjY9/LCA%2Blcv1rNMT/Ao8i/mqPX5Qi2//AAKSPe/sHgTJVfNczeKqL/l1g43j6SxNeMKf/gqjU8meezf8FdfAnxFzY/sgfsxfFb4u3Mp22eo6N4UlsNIZu3m3t2F8lT/eMZFRjwP/AMFdv2lf3njj4o%2BCv2f/AA/P10rwnZjX9d2HrHJcykW8bdhJDyOuPX68VVRQiKAAMAAcAUtH9nYqv/vWIk12h%2B7X4Nzf/gSBcZ5HlX/IiyijTl0qYhvGVF5pVFDDxfpQnrsfLfgf/gkH%2ByNp%2Bup44%2BOEPiX4weJgPn174p%2BIZtUbk5KiAlYNmeisjYAAzX0d4M8BeBfhxoqeGvh54L0nQdOi/wBXYaNp0VrAn0SJVUflWtRXZhsBgsH/AAKai3u0tX6t3k/m2fO53xbxPxJZZpjKlaMdoym%2BSPlGnHlpwS6KNOKXQKKKK6z54KKKKACiiigAophurYT/AGU3CCUjIj3jdj1xTmZVUszAADkk9KAForLk8ceC4bg2k3i/S1lHWJtQjDD8N2akfxX4Wjj82TxLp6of4jeIB%2Beannh3X3ke0p9196/zNCismPx94Elk8qLxrpDN/dXUoif/AEKrS%2BI/DzqGTXbMg9CLpP8AGhTg9mvvBVKb2a%2B9f5lyisy%2B8aeDtMTzNS8WaZbr/env40H6muT8W/tX/sueAYjP44/aQ8B6OoGc6n4vsoM/QPKM/hUTr0KavOaXq0vzaIqYnD0lepOKXm0vzaO/or5i8bf8Fiv%2BCfHhK%2BGh6L8cv%2BEt1aTP2fSfBGjXWqzTn0VoIzHn6uKxk/4K1aUV%2B1Sf8E9P2pRZvzBfj4RExSJ2YH7RkA9Rx0rglnWUxlb20X6Xl9/LGSXzZ5kuIsjjJx%2BsRbW/LeVvXkjNL5tH1tXjP7L/APyW/wDaO/7LNY/%2BoV4XrzD/AIe4%2BE7j5dG/YQ/ac1F%2B8dl8InZgfT5pxXRf8E6/itL8b9b%2BPPxQm%2BGfirwc2qfGaDPhzxtpP2HVLTy/CPhuIefBuby94j8xeTlHQ98VvhsxwWMm4UZ8z32l%2Bbil%2BPyOjCZtl2PqOnh6nM0r7SWnq4RX438j6TooortPRCiiigAooooAKKKKACiiigAooooAKKKKACiiigAooooAKKKKACiiigAr85f%2BC3P%2Bg/tU/su%2BLOn9gaxqOobv7u3XvCiZ/wDIlfo1X5y/8F6/9Bv/AAR4s6f2D4E1zUN393b4r8Dpn/yJXk57pk1d9ot/c4v9D9A8KdfEnKofz1ow/wDBkatP/wByH6NUUUV6x%2BfhRRRQAUUUUAFFFFABRRRQAUUUUAFFFFABRRRQAUUUUAFFFFABRRRQAUUUUAFFFFABRRRQAUUUUAFFFFABRRRQAUUUUAFeM%2BOP%2BUhfwv8A%2ByM%2BPP8A07eEK9mrxnxx/wApC/hf/wBkZ8ef%2BnbwhQB7NRRRQAUUUUAFFFFABXjP7B//ACRDXP8Ass3xH/8AU11uvZq8Z/YP/wCSIa5/2Wb4j/8Aqa63QB7NRRRQAUUUUAFFFFABRRRQAUUV4b%2B1Z%2B3/APBH9lm%2BtfAV0NQ8XfEHVgF8P/Dfwjbm71a%2BdhlC0aZ8iM9d744DFQ5GKwxGJw%2BEpOpWkoxXV/kurb6JJt9Eepk2SZvxDj44LLaEqtWV3yxV7JauUm7RjGK1lOcowitZSSPbNR1LTtH0%2BfVtXv4bW1tomlubm5lCRxIoyzMzEBQAMkngV8oePP8AgptefFLxVefB3/gnL8JLj4v%2BJraTydQ8UiQ23hbRX/vT3xwJyB8wjhPzjO1yRisfS/2Nf2mv269St/Hn/BR7xR/YHg5ZluNJ%2BA3g/U2W0AByh1W8jIa7kHBKIQgIBUrlkr6dWT4EfswfDWGxa48LeAfCWkxbIEklt9NsbZRzgZKIvcnuTzXmSq5hjouUX7Cl/M7e0a7pP3aa85Xl/dR9pUocEcFRbxso5ji47wjNxwdJ9p1YuM8S11jSdKhdWdaort/PPgT/AIJl6j8WPFVp8Yv%2BCj/xZl%2BLniW2k87TvCSxm38K6Ix/hgshgXBA%2BUyTD5xjchI3V9W6Nouj%2BHNKt9C8PaTbWFjaRCK1s7OBYooUHAVEUAKB6AYr5X1//grj8H/Fmuz%2BC/2PPhD45%2BOGs28nl3EngnRHj0u1f0mv5wsaDphlDqc9arn4jf8ABZb4wr5fhH9nf4UfCGzm4a48a%2BKptcvoUP8AEi2KiIv3w4x2NYYXFZRhLrCRlUk95RjKbk/71R2T/wDA7Lolsfn3EHiXjeKakVWqyrwp6U6dCm1Qpr%2BWnCChQgu7TcnvOc3dn1zSO6RoZJHCqoyzMcAD1r5Gj/4JsfHn4rONR/a0/wCCj3xR8Qyt8x0jwDLD4Y05D/dMduHMoXsxKk9T3qUf8EVv2JdTIXx4vj7xXESDLB4i%2BImoypN7MI5UyK6/rea1NYYZJf3qkU/moxlb72fO/Xs7q608Gkv79WKfzUYzt97PWviX%2B3p%2BxZ8HrlrD4jftR%2BB9NukOHsT4igluE%2BsMbM4/Fa8x1j/gtj/wTJ0e4%2Bx/8NNQ3k2flj0zwvqtzn6GO1K/rXpnwx/YE/Yo%2BDkCxfDr9lvwRYyKMC7k8Pw3FyR6GeZXkP4tXqOj%2BHfD/h2D7L4f0KzsYv8AnnZ2qRL%2BSgU%2BTPJ6udOPpGcvxco/kHJxJU1dSjDyUak/xcofkfKx/wCC1X7E9/8Au/B6/EDxDM3%2Bqt9F%2BHOou8p9FDxIPzIpB/wVH8b%2BIv3vw2/4JpftEapbjpdap4Mj01JB6p5sxLD34r62oo%2Bq5tP4sSl/hpx/9ulIPqWeT%2BPGJf4aMf8A26cj5K/4eJ/tSy82n/BKb4tlfWa%2Bsoz%2BRaj/AIeDfte3H7rTv%2BCT/wATmlP3VudfsIU/FySBX1rRR9RzD/oLl/4BT/yD%2Bzc0/wCg6f8A4Lpf/InyV/w19/wVA13934Z/4JM/Ykb7t3rvxp0qML9Ykj3/AJGmv4w/4LU%2BPcWOjfB74G%2BAI5P9Zfa74gvtUlhX/YS2AVn9N3y19b0Uf2bXl8eKqP0cI/8ApMLh/ZGJn/ExtZ%2BjhH/0mnf8T5HX9hr9vP4jZufjr/wVJ8U2yyfe0v4a%2BE7PRUgHdVuBukf/AHmGacP%2BCN37Ouufvfix8bPjR48mb/Wz%2BLfifdytJ658kR8V9bUUf2Jlsv4kHP8AxynL85W/AP8AV3J5fxabqP8AvznP/wBKnb/yU%2BTR/wAEO/8Agl%2B0Biuv2annkY7nuZvGesmVm9SwvB/hTV/4Ief8E0mIju/gTqNzbg5W0n8c6wYlPsBdg/rX1pRR/YWS/wDQNT/8Aj/kH%2BrXDv8A0B0v/AI/5Hy9F/wRf/4JjxW4tl/ZS0wqOhbW9SZv%2B%2Bjc5/Wo0/4Iq/8ABMNJPNH7Kthn0PiHVCPyN1ivqWiq/sXJv%2Bgan/4BH/Iv/V3IP%2BgSl/4Lh/8AInzDJ/wRl/4JlSR%2BW37KOkgeq6xqAP5i4zVVv%2BCJ3/BL923H9laz59PE2qj/ANuq%2BqKKHkuTPfDU/wDwCP8AkD4d4fe%2BEpf%2BC4f/ACJ8u2X/AARc/wCCY1g/mQfsp6axz/y313UpR%2BT3Jrq/Cf8AwTC/4J7eCphPov7H3gSRwcg6noUd9g/9vPmV7vRVwyjKabvHDwX/AG5H/IunkWR0neGFpr/uHD/5ExfBfw1%2BHXw2sm034d%2BAdE0C2bG630XSobVDj1WJVFbVFFd0YxhG0VZeWh6cIQpx5YpJdlovwsFeM/sv/wDJb/2jv%2ByzWP8A6hXhevZq8Z/Zf/5Lf%2B0d/wBlmsf/AFCvC9UUezUUUUAFFFFABRRRQAUUUUAFFFFABRRRQAUUUUAFFFFABRRRQAUUUUAFFeRft9fELxp8KP2KPin8SPh5rMmmazovgbUbqy1eGMM%2BmlYG3XihgVJgXdMNwK5j5BGRXkXg7xlffAjw1%2B1F4M0L4z%2BLLnwn8NfDcGraF4n1zWLrxPqOhXMugNd3USTXs0k135YSC8SCSRub3apWNo1UA%2Buq/Pn/AILraP8A254Umstm7Z8BvF9xj/rl4n8DS5/8crv/APgmBqXxr0L4l%2BOvhV8b9evzf2/w/wDBfiC10ZvihqHjK0jW%2BXVY5L9NS1ELPDNcyWbB7FFNtCtrFJDJL9okK8T/AMFStd8SePPF3i7whq3wg8Q6JZ6L%2BzD8R5bDXtVudOe01oJqPhOUvbLbXcs6BPKGftEUB%2BYbQ3zY87N4e0ynER7wn/6TI%2Bx8O8T9T8Qcor/y4rDv/wAr0v8AM%2B6fA2sf8JD4K0fX9%2B77dpdvcbvXfGrZ/WtSuB/ZT1j/AISH9l34ba/v3fbvAOj3G7132ULZ/Wu%2BrsoT9pQhPuk/vSf6nzua4b6nmmIw/wDJUqR/8BnOP/toUUUVqcAUUUUAFFFFABRRRQAUUUUAFFFFABRRRQAUUUUAFFFFABRRRQAUUUUAFFFFABRRRQAUUUUAFFFFABRRRQAUUUUAFeM%2BOP8AlIX8L/8AsjPjz/07eEK9mrxnxx/ykL%2BF/wD2Rnx5/wCnbwhQB7NRRRQAVm%2BMPGXhD4eeF7/xx4/8V6boei6XbNcanrGsX0dta2cKjLSSyyEJGgHVmIArSrxD9v7w34i134J6Nq2ieFNS1%2B08N/Evwrr/AIg0PR9OkvLq802x1q0ubgxW0StJcvCsf2kQorSSfZ9qK7lVIB6Zpnxh%2BEetfDIfGvR/il4cu/Bp0978eLbbXLeTTDaICXuPtSuYvKUK2X3bRtOTxWZ/w0r%2Bzl/wqT/hf3/C/wDwT/wgecf8Jt/wlVn/AGR/rfK/4/PM8n/WfJ9/73y9eK%2BZPDXw9tPiT%2Byf8W/D3i/QvHXhHTvE/wAS7/x54Ttv%2BFZapdXdnaxazBd2sr6aLfzJmuL2ze8k07C3Lw3ZDxxtIceSp8Iv2pr%2Bez/aR8c%2BMPHNh4f1P9py88V3WpeEPg1cJrNhpx8ExaLBqFt4cu4L%2B4tQdRt5FEc8FzMsd39pdFZ2kiAP0c8K%2BK/C/jrw1YeNPBHiSw1nR9VtI7vS9W0q8S4tryCRQySxSxkpIjKQQykgggg15R%2Bwf/yRDXP%2ByzfEf/1Ndbq9%2Bz3qv7Sfjj9kXw7q3jt9O8N/Ei%2B0INNPr3hl5IoZd58ua60%2BG4gZJHiCSSW6zR%2BXI7JkbcVh/wDBOm38S2n7N19a%2BMtWsb/V4/i38Q11O%2B0zTntLa4nHjPWvMkigeaZoULZIRpZCoIBdsZIB7pRRRQAUUUUAFFFFABVHxN4n8N%2BCvD954t8Ya/Z6VpenW7T3%2Bo6jcrDBbRKMs7u5CqoHUk4rz79rT9rz4I/sW/Ca5%2BLvxv8AEotLRCYtO063w95qlxjKwW8ZI3ue5JCqMsxUAmvzGf43ftqf8FevH6a5ov7Od7r3gTTr/f4f8H39/Jp/hC1kRvludWvRsk1aVCMm2g2qAVKnBdG8LNc9oZfUWHpr2laW0Fd/OVk2l%2BL6W3X0GW5ZlMMOswzzFLDYXW1o%2B0xFdreGGoJ81WV9JVJezw9Ju9Wtdezf1V47/bO%2BO37bK6loP7E%2BuW/w6%2BFGmu8fiv8AaJ8XQCCFo1O2RNJhnKhyOQZ5Cqqc8xkIzcZ8BP2gf2LP2ZtU1LwJ/wAE7vgf4z/aH%2BJt9IR4n8babG1w15cMcs99rdwvlRRscH90GiJwT82SfTPAH/BKdviNLpniX9v74xXPxKl0tU/sf4e6LD/ZPhDRAgwkcFjBt84IAFDvt3KMMhr6y8HeCfBvw78O23hDwB4S0zQ9Js022mmaRYx21vCvokcYCqPoK4sNl%2Ba4qqsRXahLo2lKUfKELunT9W5zf2n0Ms6424gzbASynI6KyvLXa8E1VxNe208TUXLGcuqhd0ab0hRuud/KY%2BGX/BW/9pUiX4m/G3wf8BvD83LaJ4CsP7Z1to%2B8ct5OfKif/ppB6dK2vA//AAR//Y90vXovG/xmsvE3xc8SR8nXfip4km1VyepHkkrAVz2aNsAYzX1LRXqxybAuSlXTqy7zbl90XaK%2BUD4qGQZc5KeITrS71G5/dF2gvlApeHfDXhzwfotv4b8JaBZaXp1omy1sNOtUghhX%2B6iIAqj2Aq7RRXqJKKsj2UlFWSsgooopjCiiigAooooAKKKKACiiigAooooAKKKKACiiigAooooAKKKKACiiigArxn9l/wD5Lf8AtHf9lmsf/UK8L17NXjP7L/8AyW/9o7/ss1j/AOoV4XoA9mooooAKKKKACiiigAooooAKKKKACiiigAooooAKKKKACiiigAooooAivbKz1Kzl07UbSK4t7iJo54Jow6SIwwysp4IIJBB4INcj4A/Zy/Z6%2BFGkWegfC34EeDPDVhp7XTWFloHhe0s4bY3IUXBjSGNVQyhEEmAN4Rd2cCuzooA5T4T/AAI%2BB/wF0q70L4GfBrwp4Lsb%2B5%2B031n4T8O22nRXE20L5kiW6IHfaANxBOABXzx/wUM0f/hIPiJc6CE3G9/ZO%2BLMAHu03hdR/OvrKvnb9pnR/wDhIf2sPDGgbd3279nb4lW%2B3133/hNf61hiYe0w1SHeMl98Wv1PUyPE/U87wmI/kq0pf%2BA1acv/AG06L/gnNq/9ufsD/Bq%2B3btvw00aAn3is44j/wCgV7PXzd/wSE1j%2B3P%2BCbPwlvd2dnh17fP/AFxupov/AGSvpGufKp%2B0yuhLvCH/AKTE9jj3D/VOO82ofy4rEL/yvV/zCiiiu8%2BTCiiigAooooAKKKKACiiigAooooAKKKKACiiigAooooAKKKKACiiigAooooAKKKKACiiigAooooAKKKKACiiigArxnxx/ykL%2BF/8A2Rnx5/6dvCFezV4z44/5SF/C/wD7Iz48/wDTt4QoA9mooooAKKKKACiiigArxn9g/wD5Ihrn/ZZviP8A%2BprrdezV4z%2Bwf/yRDXP%2ByzfEf/1NdboA9mooooAKKKp%2BIvEWg%2BENAvfFfirWbbTtM020kutQv72ZY4baGNSzyO7EBVVQSSeABSbSV2JtRTb2Rcrw79t39vT4QfsReCYL/wAVrPrvi3W2Fv4O8B6OfM1HW7pm2IiIoYpHvIDSlSB91Q7lUb5b/al/4LiaxqN7p3wz/wCCfHwU1HxrrPiXUTpnh3xXrOnyw2N9c52sLG3bbLebD96RvLjjO0tuDDPsn7Bf/BOO6%2BC3iSf9qn9rHxa3xB%2BOfiCPzNT8R6i4mh0NXXBtbIEBUwp8syKF%2BXKRhIyQ3z8s4lmNaWGyx3a%2BKo17kL9tueT6Je71btvlyZnXwNPG4alahUb5Ks01CfK7S9lH3ZVlF6SnG1FP3XVlK8F5X8A/%2BCaXxi/bC%2BLFv%2B2f/wAFWLiPUNROJPCfwigY/wBnaJb53JHcrkhuxMAJ3EAzM5LRr9/abpunaNp8Ok6RYQWlrbRLHb21tEI44kUYCqqgBQBwAOBU9Fejl%2BW4bLoNU9ZS1lJ6yk%2B8n%2BS0S2SQQpNVHWqyc6kkk5y3aWiSskoxitIwgowitIx1cpFFFFegbBRRRQAUUUUAFFFFABRRRQAUUUUAFFFFABRRRQAUUUUAFFFFABRRRQAUUUUAFFFFABRRRQAV4z%2By/wD8lv8A2jv%2ByzWP/qFeF69mrxn9l/8A5Lf%2B0d/2Wax/9QrwvQB7NRRRQAUUUUAFFFFABRRRQAUUUUAFFFFABRRRQAUUUUAFFFFABRRRQAUV5h%2B2n8XvFXwD/ZM%2BIfxj8DR2p1vw/wCFLy60d76Ivbw3QjIillUEFokcq7rkZVWGRnI8y8FfHb4s/AfSf2gvDHxN8f6l8TJPg94eg8R6PrerafY2d9fwTaTJdNYzjT7eC3LrNaylXSFT5VxErB2Qu4B9OV4v4/hjuP8AgoJ8MreZdySfBfx6rqe4OreEAa4//gnn8cvHPxKttR8O/Gfx78Qr7xlN4V0TxLPpHjjw5omn2sVjfi5Ed1pa6WhcWkksE6CG9lkvIRAglCl8vo3/AMTvDfjH/gpt4L8GaTpviGG88PfB7xxHfzar4R1GxtJS%2BreEsG2urmCOC9A2nLW7yBcjcRuXICbTujlf%2BCIc0sf/AATZ8DaDcOWl0fUdcsZSeuU1e8I/RhX1jXyX/wAEbf8AQf2aPFnhPp/YPxi8T6ft/u7bzfj/AMiV9aV5WRf8ibDrtBL7rr9D7/xWSfiXnE19vEVJ/wDgzlqf%2B5Aooor1T4AKKKKACiiigAooooAKKKKACiiigAooooAKKKKACiiigAooooAKKKKACiiigAooooAKKKKACiiigAooooAKKKKACvGfHH/KQv4X/wDZGfHn/p28IV7NXjPjj/lIX8L/APsjPjz/ANO3hCgD2aiiigAoor5%2B/wCClx0wfs12v/CaeX/whX/CwvC//CyPtH/Hv/wj39s2n237Vnj7H5f/AB87v3f2bz/M/d76APoGivgvwRafC/x9%2BwF8Wvhf8P8A4y%2BCvC3gSPx3qWreAm1bWo7XRD4Rh1iKR4nZG/c6HdTwahZiaMGEWsx8oNGEU%2BUW/wDwvvxZ%2Bxv8V/B3wu/Z0s9Y%2BDHib4laxNDY/A7xDph0ay8LweG9NMtnpkupT6alxp91rKXyzzQRgOgv1jixPE4AP1Lrxn9g/wD5Ihrn/ZZviP8A%2BprrdRfsgeIfiFf/APBP34Y694R%2BHMUXiH/hWOjfYPD3ivWks43dbOFVE1zZpeiJGUbwyJKQGUFQ2Qtb/gnTceJbv9m6%2BuvGWk2Nhq8nxb%2BIbanY6ZqL3dtbznxnrXmRxTvDC0yBsgO0UZYAEoucAA90ooooAK/Mr/gqJ%2B2jpHx48Uah%2Bz14Te91H4ZeD9cgsfG0WiTMLnx54kLg2vhayZMsUDgPcyLkoFOPmWNZfoH/AIKzftoXn7OXwgg%2BEPwz8UQad4%2B8fQXEFhqTuceH9LjQtfavJtyyiKLcEx8zSEFAxQqfK/8Agkj%2BxDZapa%2BHv2tviJ4Rm07Q9H057f4KeFNSQebaWkvM%2BvXY5DX96f3m7kIhUKSiwiP5LOcVXzHGLKsK9XrUfRLs/Lq19puMNnM9jh7IsBnlavjs3v8A2Xg3H2yT5ZYmtJc9LA05LVc6XtMTNfwsMntOrTT9m/YI/Ya1n4SXr/tMftJiw1L4ta9psdqsFjAq6f4O0xVxFo%2BnRjKxRxrhWZfvEEAkbmf6ioor6PB4OhgaCpUlovvb6tvq31fyVkklWf5/mPEmZSxuMavZRjGKUadOnFWhSpwWkKcI2jGK2V23KUpSkUUUV1HihRRRQAUUUUAFFFFABRRRQAUUUUAFFFFABRRRQAUUUUAFFFFABRRRQAUUUUAFFFFABRRRQAUUUUAFeM/sv/8AJb/2jv8Ass1j/wCoV4Xr2avGf2X/APkt/wC0d/2Wax/9QrwvQB7NRRRQAUUUUAFFFFABRRRQAUUUUAFFFFABRRRQAUUUUAFFFFABRRRQBmeNPBvhX4i%2BDtW%2BH3jrQLXVdE13TZ9P1jS72IPDeWs0bRywyKeGR0ZlI7gmuL%2BFP7J/wQ%2BC1nc2PgTRNa239zNPq0mt%2BMdU1WXVZJbeG2JvZL65me92wW8MUYnMgiSMLHsGQfR6KAPO/gV%2Byr8Df2bptQu/hH4XvrS41OztLK5utV8SahqkyWVr5v2Wyikvp5ngtYfOm8q2iKwxmVyqLuOed8cf8pC/hf8A9kZ8ef8Ap28IV7NXjPjj/lIX8L/%2ByM%2BPP/Tt4QoA8x/4JRf8S1/2jPCbcf2b%2B094pMK/3YZPszp/WvrSvkv/AIJ1/wDEp/ad/ar8J9PJ%2BL0WobfT7VZI%2Bfx219aV5OSaZZCPZzX3VKh%2BgeKPvcb4ir/z8hh5/wDgeEwj/RhRRRXrH5%2BFFFFABRRRQAUUUUAFFFFABRRRQAUUUUAFFFFABRRRQAUUUUAFFFFABRRRQAUUUUAFFFFABRRRQAUUUUAFFFFABXjPjj/lIX8L/wDsjPjz/wBO3hCvZq8Z8cf8pC/hf/2Rnx5/6dvCFAHs1FFFABRRRQAUUUUAFeM/sH/8kQ1z/ss3xH/9TXW69mrxn9g//kiGuf8AZZviP/6mut0AezVzPxl%2BL/gD4BfC3XPjH8Uddj03QfD1g93qN0/JCrwEUfxOzFUVRyzMqjk101flP/wUw/ad8Q/tgeMpvB3wpt21XwD4N8XQeHPCVhCA8fjzx5KdsUYB%2BWWysVYyvnMbuFU5WZGXyM5zSOV4NzSvN3UV3ff0WjffSK1kisNhMxzfNMNlOWxUsVipqnSTdopvWVSb%2BzSpQUqtWW0YQet2jkf2ZfhZ8RP%2BCtv7b%2Bv/ABY%2BNOlTQeE7a5trzxpZSOSlrpsT%2BbpfhdCOMsVW6u8dWABEUq/N%2Bwdvb29nbx2lpAkUUSBIoo1CqigYAAHAAHavLf2Lf2XPDP7H37POh/BnQ5hd30MZu/EussSZNW1WUBrm6dm%2BZiz8LuyQiouflr1WschyuWXYVzrO9ap7031u9bfK/wB93tY%2Bm4jxuW06dDJMok5YHB80YSatKvUk718VUX/PzEVFzJO/s6MaFFWVNplFFFe6fLhRRRQAUUUUAFFFFABRRRQAUUUUAFFFFABRRRQAUUUUAFFFFABRRRQAUUUUAFFFFABRRRQAUUUUAFFFFABXjP7L/wDyW/8AaO/7LNY/%2BoV4Xr2avGf2X/8Akt/7R3/ZZrH/ANQrwvQB7NRRRQAUUUUAFFFFABRRRQAUUUUAFFFFABRRRQAUUUUAFFFFABRRRQAUVx37Qfxm0L9nf4HeLPjn4k0y6vrPwpoFzqUmn2O3z7xooyyW8W4hfMkYLGu4gbnGSBk1zX7Pf7Q3i/4kav40%2BH/xq%2BHGl%2BDPF3gS6tP7asNK8Ttq2nyWd1arcW91DdyWtqzKf30Tq8KFJLaTG5NjsAerV4t46nhX/goj8LbZpVEj/Bfx6yITyQNX8Hgn8Nw/MUz9jj9seL9r29%2BIM%2Bm/DafQdK8JeKbfT/D%2BoXWo%2Ba%2Bv6dcabaX9tqXleWn2ZJorpXSIs7eWUZijM0SeEf8ABRP4zXnwE/4Kg/sfeOZp2j0jU7bxr4c14jO0Q6hN4dgiZz/Ci3HkOSePlFYYnEQwtF1Z7K1/m0vwuc2MxVPBYd1p/CrX%2Bcoxv8uZM6/9jf8A4lP/AAUx/a58NnhHu/BeoQj%2B95ukS7z/AN9ACvrSvkv4G/8AEm/4LB/HXTen9tfDfwxqGP73kh4M/rivrSuDJtMNOPapVX/lRv8AU/SfEn388wtb%2BfB4GX/lpTg/xpsKKKK9Y/PwooooAKKKKACiiigAooooAKKKKACiiigAooooAKKKKACiiigAooooAKKKKACiiigAooooAKKKKACiiigAooooAK8Z8cf8pC/hf/2Rnx5/6dvCFezV4z44/wCUhfwv/wCyM%2BPP/Tt4QoA9mooooAKKK8Q/b%2B8SeItC%2BCejaRonivUtAtPEnxL8K%2BH9f1zR9Qks7qz06%2B1q0trgRXMTK9s8yyfZhMjK8f2jcjI4VgAe30V8g%2BEIv2gfHH7GvxX%2BF/wX8f69quo%2BF/ivqWgeEtZvfFUn9q6jotrqlu13YR6pcOZPtYiN/psV3LJ5iSRRs8u9GkrgfAXxJ0y%2B%2BCfxU0z4/L8Y9M0vwb8bm8OfCfwbpnxh1F/FOs3M2haXOmkNqenai0l/OL%2B6vxte8mht1jYTSBLN2jAPvyvGf2D/APkiGuf9lm%2BI/wD6mut1vfB9Pjf8K/2UfCdt8YLG/wDHvxD0PwVp0PimLQJ7RbjWdVjt41uWhkupLaAlpQ7bneJW64XIWuT/AOCdOrX%2Bvfs3X2t6r4YvtEubz4t/EOa40fU5IHubF28Z60TDK1vLLCXQnaTHI6ZB2swwSAZv/BTv4/eJPgZ%2BytqOl/DQvJ468fX8HhDwHawviWTUr8mJXQ9mjjMkgPTcig9a%2BeP%2BCZn7Pnhb4j/G61%2BIegRRXPwy/Z70uTwV8MJkjxDrWvMoOta6B0YvKzIjjKsrqRho64j/AIKU/HrXPiT%2B0x4p8QeB/MvLf4LaXF4O8BW0Df8AIQ8f%2BIB5AaLs72lqJHAOTHLAP71foF%2Byj8AtB/Zd/Zy8HfAPw8sRi8NaHDbXM8S4FzdEb7ifHrJM0kh/36%2BQpL%2B2OIJTetOja3m03b75qUvNU49D6nhWX9jcM4/ib/l9i5TwGFfWNCmoyx1aPnUnKnhVJfZVZJ6s9Cooor68%2BWCiiigAooooAKKKKACiiigAooooAKKKKACiiigAooooAKKKKACiiigAooooAKKKKACiiigAooooAKKKKACiiigArxn9l/8A5Lf%2B0d/2Wax/9QrwvXs1eM/sv/8AJb/2jv8Ass1j/wCoV4XoA9mooooAKKKKACiiigAooooAKKKKACiiigAooooAKKKKACiiigAooooA479oT4M6H%2B0T8DfFnwM8SapdWFn4r0C502TULHb59m0sZVLiPcCvmRsVkXcCNyDIIyK808F/saeKdRsviFB%2B0n8T9F8bt8WtPfS/iFHo3he70OK40xdPWyt7Oz8vUpZbNQrXUkkhllkeS7Yo0ARFHvlFAHiX7Kv7D/gj9kz4jfEnx14M8d%2BLNVh%2BIOrafdx2HibxjrGrnTY7XTrezEfm6je3JmdmhZ/NwjhHjh5SGPHzb/wVD/Yz%2BGfxH%2BKd7J8L/hboOj%2BNdc%2BAvjnXZdd0TRYLbUNU1LTdY8IXVsZp40DzSZR41ZySBM2CMmvv%2BvGPHSq3/BQn4YKygg/Bjx4CCOv/ABNvCFYYrDwxeGnQntJNP5pr/g/I5sZhaeOwdTD1PhnFxfzTX4b/ACPmDwJ%2B0DHo37U3wK/4KDa00TeDvj/8MrPwP4hvVGE0XxCspnhDsONskyy24/u%2BW7EgACv0Gr89v2cf2bPD3xW%2BBf7R/wDwSi8XTCzbwJ45uLrwNcMCDplhqGdQ0mdMc/u5g7NtxkOV43c/Rn/BOH9pTxH%2B0X%2BztDa/FCJrX4heBtRm8L/EXT5iPNi1S0PlvKR6SqFlyPl3M6jO2vn8jxFSnP2VX/l4nJf9fI%2B7Vj/4FFTXlJ9j7xYiXGPhtgM7/wCYnAxhg8Sl/LF1Fh6tu11Vw83/ADKk3rPX32iiivpz4wKKKKACiiigAooooAKKKKACiiigAooooAKKKKACiiigAooooAKKKKACiiigAooooAKKKKACiiigAooooAKKKKACvGfHH/KQv4X/APZGfHn/AKdvCFezV4z44/5SF/C//sjPjz/07eEKAPZqKKKACs3xj4M8H/ETwtf%2BB/iB4U03XdE1S2a31PR9YsY7q1vIWGGjlikBSRCOqsCDWlRQBxVv%2BzX%2BznaeC3%2BG9r8AfBUXh2TQ/wCxZNAj8K2a2Tab5jSfYjAI/LNvvd38rGzc7HGSTWb4h/Y5/ZF8XeAdE%2BFPiv8AZX%2BHGp%2BF/DM7zeG/Deo%2BB7Cew0qRwwd7a3eExwMwdwSiqSHbPU16PRQBn%2BFPCfhXwH4asfBfgfwzp%2BjaPpdqltpmk6TZJb21pAgwkUUUYCRooAAVQAB0FeHfss%2BNbH4bfslePPiLqePs2gfEv4o6lcbjgeXB4w12Vs/gpr6Br4J/aG%2BIknwz/wCCOnxx1m3lIn1H4jfEXRoEX70hv/HmrWZUDv8ALOx%2BgNcuOxH1TBVa/wDLGT%2B5N/nY48xxX1LL62I/khKX3RbX42PE/wDgmB8P7n9oT41/CzRtdDX0HgDS734rfEq/lGf7T8W65Mx07zf9uOyWCdD6q3rX6xV8Xf8ABCX4P2fgr9iCz%2BL11Ef7W%2BIuqTajcGTlreytmNlZWoPeOOG3DL6eaRX2jXj8L4V0Mop1JfFUSk/SyUV/4Cr%2Bsn5n3vGVKGT18Jw3S%2BDLKFPDetaKU8VP1niqla76qnHVhRRRX0R8cFFFFABRRRQAUUUUAFFFFABRRRQAUUUUAFFFFABRRRQAUUUUAFFFFABRRRQAUUUUAFFFFABRRRQAUUUUAFFFFABXjP7L/wDyW/8AaO/7LNY/%2BoV4Xr2avGf2X/8Akt/7R3/ZZrH/ANQrwvQB7NRRRQAUUUUAFFFFABRRRQAUUUUAFFFFABRRRQAUUUUAFFFFABRRRQAUVm%2BM/GPhX4d%2BD9W%2BIHjnX7XStE0LTZ9Q1jVL2UJDZ2sMbSSzSMeFREVmJ7AGuR%2BGH7UHwX%2BMPgfXfiD4H13VGsfDEskXiG01bwtqOm6hp7pbR3W2WwvLeK6QtBLFKgMX7xJEZNwYEgHoFeM%2BOP8AlIX8L/8AsjPjz/07eEK6z4K/tIfCX9oBtXtvhxqmrre6DLCms6P4j8K6jomoWfnIXheSz1G3gnWORQxSTZsfY4ViUYDk/HH/ACkL%2BF//AGRnx5/6dvCFAHnH7Y37P/x4%2BGHxpj/4KB/saW41bxZY6NHpvj34dXBAh8X6RExcCFsEx3kYJ2EZ3BVUA4Mcvl%2Bn%2BJvFHjjXr3/gqP8A8Ex7geIptcht7T40fBTU1WC51GS0TaQoALW%2BpQoSAOVlHzLv3bZfv2vmH9oH/gnpq2ofFG//AGoP2L/jBd/Cr4nXwVtYe3hE2ieJSucLqNmQVZjkjzlG4bi21mwa%2BdzHLKsZOrh02m%2BZxTSlGf8APTb05ntKD92a7O96yHOs34Izapj8upRr0K6ccRhp6wqwk05Wu1ZtxjLSUJKcY1ac4VI%2B/wCp/sr/ALWfwb/bB%2BGy/Eb4Ra47%2BRL9n1vRL%2BPyr/RrsfftrqEnMcikEd1bGVJHNel1%2BWHxk8T2nhb4up4%2B/aa0LxD%2Byn8dy4gt/jD4OtZL/wAF%2BL2H3Vuwu5GVsAlJRuQbTI52hB738Mf%2BCpXiT4RWOnaN%2B394CttI06%2BZY9F%2BNPw/ZtW8H64CcLJ50O5rR2P8DA9Cx8teKjB8QUv4eLfK1vKzS/7fi/epvyknC/w1GrH3FDIMi42UsTwVWdWa1ngqjUcZR6tRhLl%2BswWtp0l7WyXPRbvJ/alFZfgvxx4M%2BI/hm08afD7xZpuuaRfR%2BZZappN6lxbzr6pJGSrfga1K%2BkjKMopxd0z4mrSq0KsqdWLjKLaaaaaa0aaaTTT3TSa6oKKKKZmFFFFABRRRQAUUUUAFFFFABRRRQAUUUUAFFFFABRRRQAUUUUAFFFFABRRRQAUUUUAFFFFABRRRQAV4z44/5SF/C/8A7Iz48/8ATt4Qr2avGfHH/KQv4X/9kZ8ef%2BnbwhQB7NRRRQAUUV5D%2B2v8SPH3w8%2BE%2BkWXwy8StoWseLPH/h3wxD4iS0hnfSYtQ1O3t57mOOdHiaYQvIIvMR4xK0ZdHUFGAPXqK%2BUrD4y/tUT/ALIfxQsPBviDUfFXjv4ffEa78M2/ii10G1l1K%2B0uK%2BtWmv47OGJLee/g065lxEkQjmubUAQgSeVXnXws/aq/aE%2BOHjiP9lnw98bPHXh8Q/GbU9AX4meIPA2naf4lvdJtvCdhriI9heactrbXDXOorHmSxRja2ufKSSTzEAPvKvyX/wCCnXxBvPD/APwTasvAGj3Kpea7%2B078RLt0c8PbWHirxHcuMd/3ggr9BP2W/wBonWfHX7FfhP8AaE%2BLVtdXWpS%2BHVl8QN4Z8PXV695cROYJZ7aztElndZXQyLFGrsFcDnGa/JD9vPxhb/tAn4e/CPwvcajatN41%2BI%2Bq6fbX%2Bmz2VznWPiRqFgizW1wiSwyeXHKDHKiuh3AqDkV83xdWlR4frKO8rRX/AG80v0PQyTLaed8S5ZldT4MRisLTlfVcjr05VLrt7KlVv/d5j9fP2E/An/Cs/wBi74VeB3h8uaw%2BH%2BlLdpjGJ2tY3l/8iM9er1Dp9haaVYQaXYQiOC2hWKGNeiooAAH0AFTV72HpLD4eFJbRSX3JL9B5vmFTNs2xOOqfFWqVKj9ZznP/ANut8gooorY84KKKKACiiigAooooAKKKKACiiigAooooAKKKKACiiigAooooAKKKKACiiigAooooAKKKKACiiigAooooAKKKKACvGf2X/wDkt/7R3/ZZrH/1CvC9ezV4z%2By//wAlv/aO/wCyzWP/AKhXhegD2aiiigAooooAKKKKACiiigAooooAKKKKACiiigAooooAKKKKACiiigDzD9tT4Q%2BKvj5%2ByZ8Q/g74Fe1Gt%2BIPCl5a6PHfSlLea6MZMUUrAErE7hUdsHCsxwcYPA/AmP48aX8Tvip%2B0b4v/Ze8T6NceNLeyXQ/B0%2Bu6JLeKuladhftEkN%2B9uk13cTzQxbJZFVLeN5nh3bV%2BjaKAPnX9gTw/wDG68fxl8Z/2ovgb4l8H/Enxnc2U2vDWNR0e4sYLWFJVtNK006df3TNbWavJulnETzzXU0wRRJ5UL7/AMF%2BJPD3/BTbwX4i1b4ueIdds9W%2BD3jh7DQdVttOS00ULq3hLKWzW1pFO4fcM/aJZz8g2lfmz9D14z44/wCUhfwv/wCyM%2BPP/Tt4QoA9mooooApeI/DXhzxhodz4Z8W6BZappt7EYrzT9RtUngnQ9VeNwVYexGK%2BUviB/wAEgvhJZXepeIf2R/it4n%2BDWoaqGOoaV4fmW98P35YYIutJucwzJjA8sFUx/DX11RXHi8Bg8cl7eCbWz2a9JKzXyfyZxYrL8HjZRnVheUdYyTcZxfeM4uM4v0kj8kvFP7Av/BTr9j3xLdeP/wBnDQ7dZXm8261X4LaytpbXgH/LW88O3/8Ao88nGBFamNFB4B5rf%2BGX/Bf/AOK/wS1uL4dft7/szarZ3cQIm1XStLl0u/VA20GXT73ajORgnypto7Cv1OrM8XeCfBnj/RpPDnjzwjpmt6fL/rbDV7CO5hf6pIpU/lXgLhzE4KXNluKlT/uySnD7tPwsz618YcUV6CoZnUhmEErL63BzrRS0SjjKLo4qyWiVWWJS00srHj37PH/BSn9iP9qGO3t/hT%2B0Dob6ncYC6DrE/wBgv95/gWC42NIR6x7l9Ca90r5T%2BL3/AARS/wCCb/xfaa7uf2fbfw5ey5xeeEL%2BbTxHn%2B7BG32cf9%2BzXD6R/wAEn/2mv2f1B/Yu/wCCm/xB8O2VrAy2HhrxxYw65YA44QK5WKIf7SwMRXbTxXEGHVsRh41F3pys/wDwCdvwkfO4zHU5S5qWDnDyjVhVj8nONCp/4EpO27bPuSivhrUPif8A8F2vgHBFF4o%2BAfwo%2BMmn28Za41Dwjqkmn38g9WWd4lLf7MUDfjXKaj/wXzufhDeJpv7W3/BPz4oeAJt%2BxyqLOrH1Q3UdqHB7YJB7E0T4jy6h/vKnS/xwkl/4ElKP4iw6x2K/hYSvL/DRnU/9NKs/P4dtbH6IUV8X%2BBf%2BC%2Bv/AATf8YQLPrPxB8ReGwxAJ1zwldMEY9i1qsyj88V654M/4Ka/8E%2B/HoT/AIR/9sDwEjSfcTVNfisGPttuTGc%2B2M110c6yfEfw8RB/9vR/Vo4Xm%2BVRrOjOvGM1vGT5JL1jPkkvnFHulFYPhP4q/C/x6qv4G%2BJGga0HGVOk6xBcg/Ty2Nb1ejGcJq8XdeWv5HfCcKkeaDTXk0/ybCiiiqKCiiigAooooAKKKKACiiigAooooAKKKKACiiigAooooAKKKKACiiigArxnxx/ykL%2BF/wD2Rnx5/wCnbwhXs1eM%2BOP%2BUhfwv/7Iz48/9O3hCgD2aiiigArnfix8J/APxv8AAV78M/ibobaho9%2B8Ek0MV7NbSxywzJPBPDPA6SwTRTRRyxyxOskckaOjKygjoqKAPOPC37KPwX8EfD26%2BF/hCz8SabpF7aTw3Qs/HmsR3Urz3Ul1Pdm6F39o%2B2yTyySPe%2BZ9pct80pAAGXffsN/s06h8M7D4UyeENYisNN8QS67Z6rZ%2BNdXg1pNUljlilvTq8d0uoPcSRTzRPK05Z4pGjYlDtr1uigDK8C%2BB/CPwy8E6R8OPAHh%2B20nQtA0yDTtG0uzTbFaWsMaxxRIOyqiqo9hX4l/CnT5/jT/wVofwnqNsXXRf2qtYg0xiciS20/xD4g1e6TH90STxEjpyK/cmvyM/4Js/DyTVv%2BCt3iW6u4N8mk/FH4x%2BMIpCv3IbjxNPoa/%2BP28o/wCBGvmuJaMsRDDUujrQv%2Bf6P7j6zgTDylxZSx32cJRxmIfk6eDrwpv/AMGYmB%2BudFFFfSnyYUUUUAFFFFABRRRQAUUUUAFFFFABRRRQAUUUUAFFFFABRRRQAUUUUAFFFFABRRRQAUUUUAFFFFABRRRQAUUUUAFFFFABXjP7L/8AyW/9o7/ss1j/AOoV4Xr2avGf2X/%2BS3/tHf8AZZrH/wBQrwvQB7NRRRQAUUUUAFFFFABRRRQAUUUUAFFFFABRRRQAUUUUAFFFFABRRRQAUUUUAFeM%2BOP%2BUhfwv/7Iz48/9O3hCvZq8Z8cf8pC/hf/ANkZ8ef%2BnbwhQB7NRRRQAUUUUAFFFFABRRRQAVDf2FhqtnJp2p2UNzbzIVmgnjDo6nqCp4I9jU1FDSY03F3Tszwb4rf8EwP2APjO0k/jf9lXwmtxKSZLzRLI6XOzf3jJZtEzN7kmvB/iB/wQC/Zm1uc6h8Ovi9420OVRi3sdaktNd0%2BL0xb30LE493r7xorycRkWTYp3qUIt90rP748v6n11Dj7jKjh1h542dWktoVuTEU0uyhiaeIik%2BtuX1Pyy8Xf8EF/jHortL4cvvgf8QUU5RPFPhLUfDMhHoG0S4UbvQ9M9awB%2Bwb%2B1V8Ijtf8AYq%2BJFpbxfe1T4KftMPD5eO8drfiSVvYZr9bKK8yXCGVJ3o80H8n/AOlRv/5MYTzvhvGyvmXD2X1n1lHDvCz/APAsHVoL/wAp28j8lP8AhOPFfw0Hl%2BMPj3%2B338OvK%2B9eeOPD6a7Yp9JkX94B/uit/wAGfteXusyi28A/8HCFlbOp2tp/j/4HWtuVb%2B681ysZGO5FfqZWB4y%2BFXwv%2BI0Rg%2BIXw30DXUK4Kazo8F0CPTEqtU/6vYql/Cr/AH%2B0j%2BMK36EfVPCHFfxMpxWGffD5hVaXpDEQl93PbzZ8YeC/iF/wUD8VbP8AhVH/AAVA/Zq8dlv9WsmlxAv7EWczEH2ruFuP%2BC42kKH%2Bzfsv65DjKmKTX7eVvz%2BSu68af8Et/wDgnj493/29%2ByD4JhL/AHjo%2BkjTj%2BdoY8Vw7f8ABFn9irRiX%2BFj%2BP8AwI2co3hH4i6jCUPqPOkkxR/Z2c09m3/hrzX4VKcvzD/VTwrxH8DOMyw/lUp06yXrKlWT%2B6An/C2v%2BCzGk/8AIQ/ZH%2BD%2Br46/2V49uLfd9POU0f8ADUX/AAVj0z/j%2B/4JaaHqeOv9m/G7Toc/TzY6P%2BHY3xS8MDPwt/4Kd/tAaft/1UfiPxLBrEaewWWJePbNL/wyh/wVK8Lc%2BEP%2BCpVlrMS/6uz8UfB7T/1mhk3t%2BVHJm0PiVf5ToT/OMWH/ABDvh2t/unFsV5VaOIpv8cNWX3uwn/Dbf/BRax/5Dn/BIbXo8dfsHxc0i6/LagzR/wAPB/2u7P8A5DH/AASf%2BJ6Y6/YtdsLj/wBBIzS/8I//AMFuPC//ACDPiF%2Bzn4ojXr/bOk6xZSuPb7OSoP14o/4XJ/wWO8N/8hr9jL4VeJdvX/hHfiJJZ7/p9rU4/Gj2%2BMj8VTEL1owl/wCk3D/iFWcVP914jwlT/uYw8X91XD0bfNif8PLfjfa/8hT/AIJafHhPX7Jo9tP/AClFH/D0zxdb/wDIR/4JjftNrjr9m%2BHcc38rgUv/AA2z/wAFE9C48bf8EkNdRV%2B9LoHxX0rUN3uFVFP4UH/gpx8VNF/5HX/gl9%2B0NBj7/wDYfhWDUsfTy5lzR9enH4sZOP8Aiw9v/bA/4hD4jS/gYulV/wAFbLqn5YuAn/D2W3i/4/v%2BCcP7VsHqX%2BD5x%2BYuaP8Ah7l4PT/j6/YW/aag/wCuvwikH8pzS/8AD3/4Raf/AMjh%2Byr%2B0D4ex97%2B2vhTOm367JHo/wCH2f7ANh/yNvjXxVoGPvf2x8P9VTb9dkDUf2lBb5jFetOK/PlD/iDfjI/4eHrT/wAGHo1P/TVepf5B/wAPevhqv%2Bu/Y5/aMj/3/hLN/wDHaT/h778LO/7Iv7RH/hp5/wD45WppP/BaD/gmRrWPsf7Vempnp9r0PUrf/wBG2y4rpdL/AOCpf/BO/V8fZP2v/BCZ6fatWEH/AKMC1rHHc/w5lTf/AG7T/wDlhxV/Czxfwv8AGweJj64Cp%2BiZw3/D3v4aH/V/sd/tGP6BfhNNz/5Fpf8Ah7n4Mf8A49/2Gv2mZv8Arl8IpD/OevWdN/b8/YY1fAsP2yfhc7HojePdPVv%2B%2BWmBre079qr9l/V8f2T%2B0h4Cus9Ps/jCyfP/AHzKa6IzxM/hx8H6Qpf/ACw8etwZ4g4f%2BNGtH1wU1%2BcEeD/8PaNNf/j1/wCCdn7Vc/8A1y%2BDxP8AO5FH/D128fmD/gmh%2B1cf%2BunwjC/%2B3NfSlh8XPhRquP7L%2BJ3h65z0%2Bz61A%2Bfyetmy1fSdSGdO1S3uB6wTq/8AI1tHD5jPbGJ%2BlOn/APJM8urk3EtD%2BLiZR9cPBfm0fKX/AA9X1nr/AMOzP2p8f9ksX/5Jpf8Ah67dp/r/APgmh%2B1cP9z4RBv/AG5r60oq/qeaf9Bf/lKn/mYfUM6/6Dv/ACjS/wDkj5K/4e0aanFx/wAE7P2q4T6SfB4j%2BVzR/wAPbvDY4b9gX9qEH0Pwgf8A%2BSK%2BtaKPqma/9BX/AJSh/wDJB9Rzv/oN/wDKNP8A%2BTPkr/h7ZoLcRf8ABPz9qRz2CfB9uf8AyYqp8FP2s4f2o/8AgoX4MMH7OXxX8ADQ/gz4y5%2BJ3g7%2ByRqHnat4V/49v3r%2Bbs8r5%2Bm3zI%2Bu7j7Arxnxx/ykL%2BF//ZGfHn/p28IVrQw%2BYQqqVXEc0e3s4xv8020b4bCZpTrKVbFc8esfZQjf5qTa77Hs1FFFegeoFFFeYftbfGTxl8GPhhYX3w1s9Ml8S%2BJPGGi%2BGtAk1uCSWytbjUL%2BG2N1PHFJG8scMckk3lLJGZTEIw8e/eoB6fRXzBqv7ZPxm8Kfsa/FD4p654f8OX/j34W%2BJtQ8P6k9hZTxaZeyw3EIjvorVrh52BtbmGf7Es7yvKGt45XZkc%2BW3H/BSr9oj/hWVpexx6Il6/xc1LwpP4og%2BCniO7u/sttoi6kkj%2BDYrsa1bTvIzQlJJDshjS8ZRDcR4APvGvzm/wCCR1tL40/4KCftO%2BNJ4Tt8F%2BL9e8NWshHBF34v13UJAPowGfcivsr4GftF6X4w/ZB8G/tRfGvWPDXhODWvA%2Bna74iuz4hgbStNe4to5JALxn8oxK7lQ%2B8gjHzHqfmf/gh9p%2BgeINN/aT%2BOXhrWLLU9P8Y/tS%2BNW0fVdOuUnt7%2Bwh1OYwTxSoSskbec5VlJBHIJBrzcdTdXE4ZdFNyfyhK34s%2B04WxlPAZJnU38U8NGlH/uJiaHN98KbT8j7nooor0j4sKKKKACiiigAooooAKKKKACiiigAooooAKKKKACiiigAooooAKKKKACiiigAooooAKKKKACiiigAooooAKKKKACiiigArxn9l//AJLf%2B0d/2Wax/wDUK8L17NXjP7L/APyW/wDaO/7LNY/%2BoV4XoA9mooooAKKKKACiiigAooooAKKKKACiiigAooooAKKKKACiiigAooooA8e/4KDnxyP2HPiwfhv/AGn/AGx/wgWp/Z/7E3/btn2d/N%2BzeX8/n%2BV5nl7Pn37dvzYr5s%2BEXiX4ead8Mf2nvDX/AATk1/w1B4d1LwtM/wAFbDwLdW62F14li8O5vDpKQny3CSvpplMAKrctLvxKZa%2B9KKAPjf8A4Jln9nw/GPx7/wAMWnSP%2BFT/APCt/BXmf8I5t%2Bw/8JVv1n%2B0vM2cf2j9j/sj7Xu/e7vJ8z95vr0G/wBS%2BK93/wAFNvBdn428F%2BHtP0K3%2BD3jgeGtR0rxPPeXd%2Bh1bwl5jXNtJZQpaEYTASa4DbjkrtG76Hr5w/aP1f416P8At4fCef4HfD/wt4i1JvhH47W7tPFfjC50WCOD%2B1PCRLpLb6fes77to2GNRgk78gKQD6Porxn/AITj/goX/wBGv/Bn/wAPxq3/AMy9H/Ccf8FC/wDo1/4M/wDh%2BNW/%2BZegD2aivGf%2BE4/4KF/9Gv8AwZ/8Pxq3/wAy9H/Ccf8ABQv/AKNf%2BDP/AIfjVv8A5l6APZqK%2BcdJ/aO/bt1j4z6/8Drf9lD4SLqnh3wvpGu3ly/x11TyJINRudSt4UQjwxuLq2lzlgVAAePBYlgvUf8ACcf8FC/%2BjX/gz/4fjVv/AJl6APZqK8Z/4Tj/AIKF/wDRr/wZ/wDD8at/8y9H/Ccf8FC/%2BjX/AIM/%2BH41b/5l6APZqK8Z/wCE4/4KF/8ARr/wZ/8AD8at/wDMvXL%2BAf2jv27fiJ4r8b%2BENH/ZQ%2BEkNx4D8URaFqslz8ddUCTzyaVp%2Bph4tvhgkp5OowqSwU70cYwAzAH0dRXjP/Ccf8FC/wDo1/4M/wDh%2BNW/%2BZej/hOP%2BChf/Rr/AMGf/D8at/8AMvQB7NRXjP8AwnH/AAUL/wCjX/gz/wCH41b/AOZej/hOP%2BChf/Rr/wAGf/D8at/8y9AHs1FfOPwi/aO/bt%2BMvhS78X%2BHP2UPhJbW9n4o1vQpI73466ormfS9VutMncbfDDDY01pIyHOSjKSFOVHUf8Jx/wAFC/8Ao1/4M/8Ah%2BNW/wDmXoA9morxn/hOP%2BChf/Rr/wAGf/D8at/8y9H/AAnH/BQv/o1/4M/%2BH41b/wCZegD2aivGf%2BE4/wCChf8A0a/8Gf8Aw/Grf/MvXL/BH9o79u348fBjwh8cfCv7KHwktdL8Z%2BF9P13TbbUPjrqizwwXdtHcRpIE8MMocLIAwVmGQcEjmgD6Oorxn/hOP%2BChf/Rr/wAGf/D8at/8y9H/AAnH/BQv/o1/4M/%2BH41b/wCZegD2aivGf%2BE4/wCChf8A0a/8Gf8Aw/Grf/MvXL/G79o79u34D/Bjxf8AHHxV%2Byh8JLrS/BnhfUNd1K20/wCOuqNPNBaW0lxIkYfwwqlysZChmUZIyQOaAPo6ivGf%2BE4/4KF/9Gv/AAZ/8Pxq3/zL0f8ACcf8FC/%2BjX/gz/4fjVv/AJl6APU9W8FeDdez/bnhLTL3PX7XYRyZ/wC%2BlNc3qn7M37N%2BuZ/tr9n7wReZ6/avClnJn/vqM1yH/Ccf8FC/%2BjX/AIM/%2BH41b/5l6P8AhOP%2BChf/AEa/8Gf/AA/Grf8AzL1nOjRqfFFP1Sf5pnbQzPMsL/Arzh/hnOP/AKTOJe1L9gz9h7WMnUv2OfhdKx6ufAOnBv8AvoQ5rB1H/gmH/wAE9tUz9p/Y88BLn/n30GOH/wBFgVj/ABd/aO/bt%2BDXhS08X%2BI/2UPhJc2954o0TQo47L466ozifVNVtdMgc7vDCjYs13GznOQisQGOFPUf8Jx/wUL/AOjX/gz/AOH41b/5l655Zdl0/iowf/bkf/kT2KPGfGWH/hZniY%2BmIr//AC45O/8A%2BCQP/BNjUs/aP2TPDy5/597i6i/9AmFYt7/wRG/4JfX53S/suQIexg8V6vFj/vi7Fejf8Jx/wUL/AOjX/gz/AOH41b/5l6P%2BE4/4KF/9Gv8AwZ/8Pxq3/wAy9YSyXJpb4an/AOAR/wAj06Xid4k0P4edYtemJrf/ACxnmX/Dkb/gndb/APIH%2BF/iDT/T7F4%2B1Zcf99XJo/4cwfsewf8AIK134lWHp9j%2BJOoDH/fTmvTf%2BE4/4KF/9Gv/AAZ/8Pxq3/zL1y/j79o79u34d%2BK/BHhDWP2UPhJNcePPFEuhaVJbfHXVCkE8elahqZeXd4YBCeTp0ygqGO90GMEssf2FkvTDwXpG35NHR/xFbxMfxZxiJf4qjl/6VGRzX/Dnf4Bw/wDIM%2BP3xwsvQWvxSuhj8waP%2BHRfgCL/AJB/7aX7SNp6C2%2BLcox%2BcJr03/hOP%2BChf/Rr/wAGf/D8at/8y9H/AAnH/BQv/o1/4M/%2BH41b/wCZej%2Bwso/58r75L8poP%2BIqeIj3zKb9Y0Zf%2BlYeR5j/AMOm7SL/AI8f%2BCjP7Vdv6CL4wHH621U/gr%2Byrefsyf8ABQvwWt1%2B0x8U/iKut/BnxlsHxM8VDUzp/k6t4Vz9nIjTy/M80b%2Bu7yo%2Bm3n1r/hOP%2BChf/Rr/wAGf/D8at/8y9UPA/gf9qzxj%2B1Z4c%2BN3xu%2BHHw98M6N4Z%2BHviHQ4YfCvxDvtauru61K%2B0S4RmS40ixSKNE0uUFg7sWlQBcZI2oZVl%2BGqqpShaS/vTf4ObX4Hn5px9xfneBng8diuenO117PDq9mmvehhqc1qltNdndXT91ooor0D48K4348fBLw1%2B0D8Opfh34m1jU9L26lY6npetaJNHHe6XqFldRXdpdwNLHJHvjnhjbbIjxuAUdHRmU9lRQB4dH%2Bwd4Bk%2BC2sfBHV/ir41v7TXtT/trU9aubmwTUZdfGprqaa0JYrRFW6S5jgKRhBaoltFGtuEUqcpP%2BCdnhS1u18b6V%2B0V8SbP4gt4qu9evPidBNo7ateT3Gm22mSwyQPpraf5H2Sys4xGlou02qOCJC7t9DUUAcx8F/hH4N%2BAnwm8O/Bf4fQXCaL4Z0mHT9O%2B2XJmmeONQu%2BSRuXkY5ZmPVmJ715b/AME7PCml%2BGPgr4un00Nv1X48/Eq%2Bu2bHzSt4z1hO3YKij8K95r5K/ZK8Wftnaf8AD3xRZ/DH4B/DDV9CT40/EX%2Bz9R174u6jpt3Mv/CZ6yWMltFoFykRDbgAJnyADkE7QnFNpvoXGpUhCUE9JWuu9ndfc9T61orxn/hOP%2BChf/Rr/wAGf/D8at/8y9H/AAnH/BQv/o1/4M/%2BH41b/wCZemQezUV4z/wnH/BQv/o1/wCDP/h%2BNW/%2BZej/AITj/goX/wBGv/Bn/wAPxq3/AMy9AHs1FfOPwR/aO/bt%2BPHwY8IfHHwr%2Byh8JLXS/GfhfT9d0221D466os8MF3bR3EaSBPDDKHCyAMFZhkHBI5rqP%2BE4/wCChf8A0a/8Gf8Aw/Grf/MvQB7NRXjP/Ccf8FC/%2BjX/AIM/%2BH41b/5l6P8AhOP%2BChf/AEa/8Gf/AA/Grf8AzL0AezUV84/G79o79u34D/Bjxf8AHHxV%2Byh8JLrS/BnhfUNd1K20/wCOuqNPNBaW0lxIkYfwwqlysZChmUZIyQOa6j/hOP8AgoX/ANGv/Bn/AMPxq3/zL0AezUV4z/wnH/BQv/o1/wCDP/h%2BNW/%2BZej/AITj/goX/wBGv/Bn/wAPxq3/AMy9AHs1FeM/8Jx/wUL/AOjX/gz/AOH41b/5l65f4u/tHft2/BrwpaeL/Ef7KHwkube88UaJoUcdl8ddUZxPqmq2umQOd3hhRsWa7jZznIRWIDHCkA%2BjqK8Z/wCE4/4KF/8ARr/wZ/8AD8at/wDMvR/wnH/BQv8A6Nf%2BDP8A4fjVv/mXoA9morxn/hOP%2BChf/Rr/AMGf/D8at/8AMvR/wnH/AAUL/wCjX/gz/wCH41b/AOZegD2aivnHx9%2B0d%2B3b8O/FfgjwhrH7KHwkmuPHniiXQtKktvjrqhSCePStQ1MvLu8MAhPJ06ZQVDHe6DGCWXqP%2BE4/4KF/9Gv/AAZ/8Pxq3/zL0AezUV4z/wAJx/wUL/6Nf%2BDP/h%2BNW/8AmXo/4Tj/AIKF/wDRr/wZ/wDD8at/8y9AHs1FeM/8Jx/wUL/6Nf8Agz/4fjVv/mXrl9W/aO/bt0f4z6B8Drj9lD4SNqniLwvq%2Bu2dynx11TyI4NOudNt5kcnwxuDs2qQFQFIISTJUhQwB9HUV4z/wnH/BQv8A6Nf%2BDP8A4fjVv/mXo/4Tj/goX/0a/wDBn/w/Grf/ADL0AezUV4z/AMJx/wAFC/8Ao1/4M/8Ah%2BNW/wDmXo/4Tj/goX/0a/8ABn/w/Grf/MvQB7NRXzjpP7R37dusfGfX/gdb/sofCRdU8O%2BF9I128uX%2BOuqeRJBqNzqVvCiEeGNxdW0ucsCoADx4LEsF6j/hOP8AgoX/ANGv/Bn/AMPxq3/zL0AezUV4z/wnH/BQv/o1/wCDP/h%2BNW/%2BZej/AITj/goX/wBGv/Bn/wAPxq3/AMy9AHs1FeM/8Jx/wUL/AOjX/gz/AOH41b/5l65fwD%2B0d%2B3b8RPFfjfwho/7KHwkhuPAfiiLQtVkufjrqgSeeTStP1MPFt8MElPJ1GFSWCnejjGAGYA%2BjqK8Z/4Tj/goX/0a/wDBn/w/Grf/ADL0f8Jx/wAFC/8Ao1/4M/8Ah%2BNW/wDmXoA9mrxn9l//AJLf%2B0d/2Wax/wDUK8L0f8Jx/wAFC/8Ao1/4M/8Ah%2BNW/wDmXq3%2Byt8OfjT4P1j4oeO/jpoHhfSdU8ffEKLXLPSvCfiW51a3tbWLQdH0xVe4uLKzZpGk06Vyoi2hZEG5jnAB63RRRQAUUUUAFFFFABRRRQAUUUUAFFFFABRRRQAUUUUAFFFFABRRRQAUUUUAFfK/7T37Wnxc%2BGHxj8Wa14B8O%2BD5PDHwf8P%2BH73xqda0i4m1XVLfV7%2BVLmCwuI7iNLLyLazjuMyRTi5kKRkQ%2BX5p%2BqK8Z%2BM/7EPw4%2BN3xSPxM1zxz4q0uLUbXSLXxf4a0a6tU07xTBpd7Je2MV8stvJMFjmmlz9nlgMschimMsYVAAezUUUUAFFFFAHzH4c/aV%2BJkP7f/ij4P/EbWPD3hPw2viC00TwZFqPwi1lLrxjANAg1HEHiNrtdOaWO7udQAtBC8nl2kwCgs0i/TleV%2BLP2WoPH/wAZNI%2BKfj343%2BNdX0rw9rsetaB4AuDpkWjWOoR27wRzhobJL2XZ5kkipNdSRiR92z5EC%2BqUAFFFFAHi/wDwUF%2BLvxw/Z%2B/ZH8afHr4BXvhSPWPBOhXeuXUHjDRbm%2Btru0tbaWZ7dEtrq2ZJXZEUSFyqAsSj8CvP/Hn7Wnxc8F/HjxbqfhTw74Qi%2BHnhD4x%2BEfh94ys5tIuDreq6rrsGipHqEN2lwsMccH9uaTGYpLeV5EhnxLHtQV7D%2B1j%2BzjZftafAjXv2fda%2BKvinwjpPieylsdcv/CC6d9rubKWJ4prbdf2l1GiOr8siLICo2uvOeLg/YB8HT/EWz%2BIvir44%2BPtdY6zpOueJtG1CXSorHxPrmmJGljq17HbWETLcRCC0wts0EDGxti8TGPJAPe6KKKACvF/2yfi78cPgla%2BAfGPwsvfCn9jah8TPDnh7xfY%2BINFubm6ubXVdZsdNBs5YbqFLaSNbmWTfIk6koi7OSa9oryr9q79lt/2qvDeheF5/j7438DW%2BheJLDXUbwXDo7Pd3tjeQXlm0p1LT7wbYri3jcLGEDcrJvU7QAecfs8/tK/EzW/2qvFvwR%2BKGr%2BHvCenQ%2BKdbt/BPhKT4Razplzr1tC6Sm/t9auLv7BqDsZJpZYraAvyXYrhifpyvJdJ/ZRD/ABk0X4y/Ef8AaA8d%2BNZvC93eXfhPQvEI0mGw0e6ubeS1kuIlsNPtpZX%2BzzTwr58kqos77QCQR61QAUUUUAeH/t3fFz48fs/fBrV/jr8KPGPgWx0/wtotzeXui%2BLPDN7f3PiG9yi2emWcltewfZ5riUi3RvKumaWeILCx%2BVvP/gj%2B198Z9c%2BJfgr%2B1vBnhLSPhp43%2BJ/ij4beFfDWnaXNHq%2BiX%2BgQ6tvnnuRcNbzQSN4f1NFhjt4jGrWx8yTLAen/ALSv7IMH7SXjzwR8QJv2gfHfhC58A3dze6LY%2BGItGns5L2VBGt5NBqenXiPPDH5iwyAKYxPKR8zZFXwH%2Bw18PfAfxlt/i7D8RfF2pQadrup69onhDUrmy/snStb1GN49Q1SBIrVJ/PnE92WV5nhRr65McUfmcAHtdFFFABXy/wDtc/Hj9pf4LfETT/CmlQ%2BAPGuj%2BOYdattF%2BHMXg%2B%2Bk1hLW00O6u5L%2B4nF68V1bC6it7aSEWsQP2%2BFBMZGRJPqCvDpv2JriP9o/xX%2B01on7VfxL07V/Fumw6dc6XDB4fntNPs4YGjhtrNrnSZbm3iWV3utizbXncu4cHbQAz9hD9oPxv8e/h7eXXxX8faNfeLtOFm2v%2BG7L4Xav4RvNAee2WUQXNlq91PcOC2/y7gBI5FQ7Q20mvdK83%2BB37N2nfBnxP4k%2BIesfFLxT448VeK4rG31jxP4uawW5e0sxN9ltUi0%2B1tbaOKNrm5cbYQzNcSFmbIx6RQAUUUUAfHP/AAUE/bj%2BKn7GHjn%2B09c0XQPGPhF9G1HW7fwrL8OdTspbdNN0a%2B1JJP8AhIprp9Mnu/temjZYrAl0I5llA2wtI3r37NHxd%2BOerfFTxv8As9ftHXPhTUPE/hHSdD1qPWvBWkXNhY3NjqgvI0iMFzc3LrLFcaddqX83EiGJtkZJUVvjr%2Bwl4I/ac1q6tfj/APFvxr4o8F3MlxIvwyvJNNh0WKSaxmsmbfb2Ud9IBHcTMElunQO%2B7b8iBen/AGfP2ZtI%2BAd5r3iK7%2BKHizxx4j8SGzj1bxV41uLN76W2tIjFa2o%2Bx21vCsUQeVhiPezzyu7Ozk0AelUUUUAFfEf7U/7ZX7Wfwb%2BNXiD4UeDvDfhzxrqdhotxrvhgJ8D/ABBHJooGo6ZaoYW%2B3OPE0gsdUuPO/svynhaErKIxMI6%2B3K8P179i3U/Evj0/E7Wv2ufijNrenwXkXg28KaAB4VW6mhkn%2ByRjSdk7NHAtvuvVumWJnClXdnIB1X7LHxYf4yfCODxZe/EzRvFV/DqN1ZapfaN4MvvDotriKVla1m03ULie6s54xhXjmcPn5tqhgK9GrhvgH8BfD3wA8M6no2leKdb8Qajr%2BvXGt%2BJPEniOaBr3Vb%2BYIjTyi3ihgTEcUMSpDFHGqRIAowSe5oAKKKKACiiigAooooAKKKKAKPijxDYeEvDWo%2BK9VDm10yxmu7kRLlvLjQu2B3OFNfOf7E37Sfxr8f8AinR/Bnxs8PeDLMeOvhbZfEbwzD4M0q4tBpkd5cE3en3ZmuJRdzRvc2z/AGxBAJ2lmJgj2gv9LXdpa39rLY3tuk0M0bRzRSqGV1IwVIPBBHGK8h/Zm/Yr8Bfswaq%2Br6B8QfFviWW28MWPhnw6PFl7azDQNCs3ke3021Nvbwlo1MnzSzma4kEcXmTP5a4APYqKKKACuF/ag8efEX4Wfs0fET4nfB/wouveLfDngXV9U8LaG1jNdDUdRt7OWW2tjDAyyzCSVETy42DtuwpBINd1Wd4t0S/8S%2BGNQ8P6X4r1HQrm9tJIbfWtIWBrqxdlIE0QuIpYi6nkCSN0yPmVhkEA8u/Yp%2BLU/wAUPhnfWWrfELw/rOp%2BHdVXTrzTNE%2BGGp%2BDn0NBbQSRWdxpWqXM9zC4RxIrt5aPFLFsTA3v7FXnnwH/AGdtJ%2BB154l8R3PxE8SeMfEni/UYbzxF4p8VvZi7ujDbpbwRCOxtra2iijjQBVjhTJZ2YszMx9DoAKKKKAPlz9qj9rH4ofs4fF7xxZfErRvCXiL4X2H7O/i/x7baFb6JcJqrtog0tZ7a4uZLl7eaKdb6cBBbIVCJl3ywrt/2Z/i/8fNU%2BLnjL9nX9pZ/CV54o8MeGPD3iWPVfBWk3NjZSWWrPqVutsYbm5uXMsNxpF2DKJAsiPE3lxnctQfGP9hXw78dPjq3xl8efHbxzLps3grU/CN98PYYNF/sS70bUltvt9pIX01r0idrSB2cXQdShCMiMyHpP2d/2XdD/Z9vta8Rz/FDxb438Q6/a2Flf%2BJ/G1zaSXpsLFJFs7MfZLa3j8qIz3DglDI73Mru7s2aAPT6KKKACvkT41/tL/tbeDNd/aA8CW/hXwZ4svfAXh/wp4k%2BG1jpPw/1O/nWPUdV1KEJeWsV48uozwLpsc6m2FuS5IVflVq%2Bu68Ll/Yo8QxfHTxt8f8AQv20PitpWreN9IsdMubGys/DDWmm21lcXM9mlsJdFeT90by6UGZ5S6zkSeYVQqAdX%2Byp8W5vjL8KR4m1H4naN4p1G11W5sdWutH8EX/hs2dxE3zWs%2BmajcT3VpOildyTMGIZW2qrCvSa4T4B/APQPgDoWs2On%2BLdc8R6r4m8QS654n8TeJJbdr3Vb%2BSGGDzZBbQwwRhYLe3hVIoo0VIUAXOSe7oAKKKKAPjb9pb9rv8AaW/Z4%2BM0Hw21lPhn41vtbggm8Iw6d4WvbSXwXeal4h0zw9pE2pyvfTC6inbV5wWiWzkcWN0sYZfMMXuP7Kvxf%2BJHxGHj/wCH3xiOiT%2BKvhp48bw1rOq%2BGtOms7DU/M0vTtWt7iG3mnnkt82uqW6PG00uJI5MMQRjhbb/AIJq%2BEmuviG/iH9pf4nazb/EnXjrmsW%2BpHQvMs9SiuIZ9Puba6i0tLpTYPb24tI3mkiiWFAyPzn1j4B/AXQ/gH4e1bTbLxfrniTVvEWvTa14n8UeJXtjf6vfSRxQ%2BdMLWCCBdkEFvAiRRRoscEaheCSAd1RRRQAy5%2B0/ZpPsezzth8rzc7d2OM45xmviD4rftc/tp/DT4ia58Nre28B%2BM9e8MXvhq31bx14I%2BCuv6tH4ct9Wa8e9sJdKs9Snu7maOGysbomKdP3d1C0sCAxNJ9vXcMlxay28N1JA8kbKs8QUvGSMBl3ArkdRkEeoNfPfwY/YC8QfAT4bXHw0%2BHf7dXxiijutWfU5tZvLLwnPqEt3K8slzPNM%2BhH7TJO8u6SScSPmNNhQDBAPWfgJ8Q7L4rfB3w/8QrD4gaN4qTU9PEj6/wCH9JmsLS7kBKyFLWeaaW2KurI0MkjvGysrHcpA6%2BuS%2BBfwX8Jfs%2B/C/TvhT4Kub%2B4srCW6uJr7VbkTXV9d3VzLdXV1M4VQ0s1xPNK%2B1VXdIdqquFHW0AFUfE8PiS58N6hb%2BDdTsbLV5LKVdLvNTsHuraC4KERySwxyxNNGrYLIskZYAgOpO4XqzfGOg3/ijwtf%2BHdL8W6loNzeWrxQa1o4gN1YuRxNELiKWIup5AkjdDj5lYZFAHw98N/27P2tfjB8U9b%2BCXws034fJ4z02112%2Bk8Z%2BK/hdrWhrqmmaRa6LKljLol5fJqGnyvd%2BIdiTTzPH5UMlwkLrOgP2N8Avi1pvx8%2BBPgr466NpstnZ%2BNfCWm69aWcz7ngivLWO4WNiAMlRIAT6ivFtX/4JkeB9a1y%2B%2BIt3%2B0p8U0%2BIGrJeWutfEm2vdIh1a/0y6trW2m0wommizhtillaMPItopVkgWVZQ5Zj9B%2BC/B/hr4eeDtJ8AeDNJi0/R9D0yDT9JsIc7La2hjWOKNc84VFVR9KANOiiigDl/jTqPjjRvhbrWt/DnxDY6Xq1hZm6hvtQ8H3viBEjjIeUDTrGeC5vJGiV1SKGQOXZcK5%2BRvi34S/8FEfj94k8aaHqfje48I%2BBPBmpTzr4g8cXnwM8RTW2sX8Ov3WkIlzKt9GnhmeS1tLX9xqjSSwPKsb52BK%2B2/iZ4M13x74Sm8OeG/ilr/g28kljeLX/AAzFYvdwbWBKqt/bXMDBgCpDxNwTjBwR4rdf8E5vCmoeD7j4bat%2B0h8TbvwxrmoTX/jzQJrjRxF4wu57xrq4mvpV00XEXmllhaOzltYhDEkaoo3bgD6JooooAKKKKACiiigAooooAKKKKACiiigAooooAKKKKACiiigAooooAKKKKACiiigAooooAKKKKACiiigAooooAKKKKACiiigAooooAKKKKACiiigAooooAKKKKACiiigAooooAKKKKACiiigAooooAKKKKACiiigAooooAKKKKACiiigAooooAKKKKACiiigAooooAKKKKACiiigAooooAKKKKACiiigAooooAKKKKACiiigAooooAKKKKACiiigAooooAKKKKACiiigAooooAKKKKACiiigAooooAKKKKACiiigAooooAKKKKACiiigAooooA//Z\">"
            ]
          },
          "metadata": {
            "tags": []
          }
        }
      ]
    },
    {
      "cell_type": "markdown",
      "metadata": {
        "id": "JnQpWlN9MiQf"
      },
      "source": [
        "# Submit the MLP with 2 hidden layers\n",
        "Run these cells after training the MLP with 2 hidden layers"
      ]
    },
    {
      "cell_type": "code",
      "metadata": {
        "id": "a1dkB3-GMiQf"
      },
      "source": [
        "## GRADED PART, DO NOT CHANGE!\n",
        "# Validation loss for MLP\n",
        "grader.set_answer(\"i8bgs\", s.run(loss, {input_X: X_val_flat, input_y: y_val_oh}))\n",
        "# Validation accuracy for MLP\n",
        "grader.set_answer(\"rE763\", accuracy_score(y_val, s.run(classes, {input_X: X_val_flat})))"
      ],
      "execution_count": 139,
      "outputs": []
    },
    {
      "cell_type": "code",
      "metadata": {
        "id": "_UVhLDOkMiQf",
        "colab": {
          "base_uri": "https://localhost:8080/"
        },
        "outputId": "1f73d9a1-53f3-4438-9b16-405094653d07"
      },
      "source": [
        "# you can make submission with answers so far to check yourself at this stage\n",
        "grader.submit(COURSERA_EMAIL, COURSERA_TOKEN)"
      ],
      "execution_count": 140,
      "outputs": [
        {
          "output_type": "stream",
          "text": [
            "Submitted to Coursera platform. See results on assignment page!\n"
          ],
          "name": "stdout"
        }
      ]
    },
    {
      "cell_type": "code",
      "metadata": {
        "id": "tY865jG2MiQg"
      },
      "source": [
        ""
      ],
      "execution_count": null,
      "outputs": []
    }
  ]
}