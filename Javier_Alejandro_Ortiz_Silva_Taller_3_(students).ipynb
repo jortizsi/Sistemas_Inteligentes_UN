{
  "nbformat": 4,
  "nbformat_minor": 0,
  "metadata": {
    "colab": {
      "name": "Javier Alejandro Ortiz Silva Taller 3 (students).ipynb",
      "provenance": [],
      "collapsed_sections": [],
      "toc_visible": true
    },
    "kernelspec": {
      "display_name": "Python 3",
      "language": "python",
      "name": "python3"
    },
    "language_info": {
      "codemirror_mode": {
        "name": "ipython",
        "version": 3
      },
      "file_extension": ".py",
      "mimetype": "text/x-python",
      "name": "python",
      "nbconvert_exporter": "python",
      "pygments_lexer": "ipython3",
      "version": "3.7.6"
    }
  },
  "cells": [
    {
      "cell_type": "markdown",
      "metadata": {
        "id": "viE_xL9_VXxm"
      },
      "source": [
        "# Taller 3\n",
        "\n",
        "## Introducción a los Sistemas Inteligentes 2021-1\n",
        "\n",
        "-------------------\n",
        "\n",
        "Aima ha notado tu presencia en la Unión Nacional de Algoritmos de Localización (UNAL). Siendo esta una institución de alto prestigio ha decidido ponerte a prueba. Para ello te ha asignado a trabajar en un challenge de Kaggle.\n",
        "\n",
        "El hundimiento del RMS Titanic es uno de los naufragios más famosos de la historia. El 15 de abril de 1912, el Titanic se hundió después de estrellarse con un iceberg, matando 1502 de 2224 pasageros y tripulación. Este evento sacudió toda la comunidad internacional e implico mejoras en las medidas de seguridad para Barcos.\n",
        "\n",
        "Una de las razones de tantas perdidas humanas fue la falta de botes salvavidas. Aunque la sobrevivencia de una persona se regia un poco por la suerte algunos grupos de personas tenian mayor chance de sobrevivir que otros, como mujeres, niños y miembros de la clase alta.\n",
        "\n",
        "En este reto se le solicita que complete el análisis sobre que tipo de personas eran más propensas a sobrevivir. En particular se le solicita que aplique las herramientas del machine learning para predecir que pasajeros del RMS Titanic sobrevivieron.\n",
        "[Ver más](https://www.kaggle.com/c/titanic/overview)\n",
        "\n",
        "\n",
        "**Para descargar el archivo de datos en el siguiente link: [titanic.csv](https://drive.google.com/file/d/1KZD9Ic2Gmd39yLlFlHSSs6lgDqyWuPCW/view?usp=sharing)**\n",
        "\n",
        "----------------------------------\n",
        "La siguiente tabla muestra información sobre (algunas) variables presentes en el dataset\n",
        "\n",
        "Data Dictionary\n",
        "```\n",
        "Variable\tDefinition\tKey\n",
        "survived \tSurvival \t0 = No, 1 = Yes\n",
        "pclass\t\tTicket class \t1 = 1st, 2 = 2nd, 3 = 3rd\n",
        "sex \t\tSex \t\n",
        "Age \t\tAge in years \t\n",
        "sibsp \t\t# of siblings / spouses aboard the Titanic \t\n",
        "parch \t\t# of parents / children aboard the Titanic \t\n",
        "ticket \t\tTicket number \t\n",
        "fare \t\tPassenger fare \t\n",
        "cabin \t\tCabin number \t\n",
        "embarked \tPort of Embarkation \tC = Cherbourg, Q = Queenstown, S = Southampton\n",
        "```\n",
        "\n",
        "#### Variable Notes\n",
        "\n",
        "- **pclass**: A proxy for socio-economic status (SES)\n",
        "    1st = Upper\n",
        "    2nd = Middle\n",
        "    3rd = Lower\n",
        "\n",
        "- **age**: Age is fractional if less than 1. If the age is estimated, is it in the form of xx.5\n",
        "\n",
        "- **sibsp**: The dataset defines family relations in this way...\n",
        "    Sibling = brother, sister, stepbrother, stepsister\n",
        "    Spouse = husband, wife (mistresses and fiancés were ignored)\n",
        "\n",
        "- **parch**: The dataset defines family relations in this way...\n",
        "    Parent = mother, father\n",
        "    Child = daughter, son, stepdaughter, stepson\n",
        "\n",
        "    Some children travelled only with a nanny, therefore parch=0 for them.\n",
        "\n",
        "-------------------\n",
        "\n",
        "#### Notas adicionales:\n",
        "\n",
        "Sus modelos seran evaluados usando la métrica accuracy. No modifique la firma de las funciones (nombre y parametros). La plataforma de evaluación tendrá una copia del archivo titanic.csv. Para su evaluación local, deben descargar el archivo y subirlo a Colab."
      ]
    },
    {
      "cell_type": "markdown",
      "metadata": {
        "id": "WztzmQqRkcZt"
      },
      "source": [
        "# 1 Procesamiento y Exploración de Datos"
      ]
    },
    {
      "cell_type": "markdown",
      "metadata": {
        "id": "N92YrUGZoQEi"
      },
      "source": [
        "## 1.1 Cargue los datos\n",
        "* Algunas columnas tienen valores null, este es un reto común con el que se encontrar. Más adelante nos ocuparemos de esto. \n",
        "* Extraiga las features y el target del dataframe en dos variables. X, y.\n",
        "* Antes de ejecutar el código en la siguiente celda cargue el archivo `titanic.csv` en la raiz del sistema de archivos del ambiente de ejecución usando la opción correspondiente en el menú lateral."
      ]
    },
    {
      "cell_type": "code",
      "metadata": {
        "id": "QF4X0wldV3Ae"
      },
      "source": [
        "import sklearn\n",
        "import pandas as pd\n",
        "from sklearn.model_selection import train_test_split\n",
        "\n",
        "# Path donde se encuentra el archivo de datos.\n",
        "path = 'titanic.csv' #agregado / para colab\n",
        "df = pd.read_csv(path, index_col='PassengerId')\n",
        "\n",
        "X, y = df.drop(axis=1,columns=['Survived']), df.Survived"
      ],
      "execution_count": 4,
      "outputs": []
    },
    {
      "cell_type": "code",
      "metadata": {
        "id": "IcOchePkYTyS",
        "colab": {
          "base_uri": "https://localhost:8080/"
        },
        "outputId": "e3a3747f-6991-44c8-eb16-0f349c4e97ff"
      },
      "source": [
        "df.info()"
      ],
      "execution_count": 5,
      "outputs": [
        {
          "output_type": "stream",
          "text": [
            "<class 'pandas.core.frame.DataFrame'>\n",
            "Int64Index: 891 entries, 1 to 891\n",
            "Data columns (total 11 columns):\n",
            " #   Column    Non-Null Count  Dtype  \n",
            "---  ------    --------------  -----  \n",
            " 0   Survived  891 non-null    int64  \n",
            " 1   Pclass    891 non-null    int64  \n",
            " 2   Name      891 non-null    object \n",
            " 3   Sex       891 non-null    object \n",
            " 4   Age       714 non-null    float64\n",
            " 5   SibSp     891 non-null    int64  \n",
            " 6   Parch     891 non-null    int64  \n",
            " 7   Ticket    891 non-null    object \n",
            " 8   Fare      891 non-null    float64\n",
            " 9   Cabin     204 non-null    object \n",
            " 10  Embarked  889 non-null    object \n",
            "dtypes: float64(2), int64(4), object(5)\n",
            "memory usage: 83.5+ KB\n"
          ],
          "name": "stdout"
        }
      ]
    },
    {
      "cell_type": "markdown",
      "metadata": {
        "id": "iSo4d6E7tQqH"
      },
      "source": [
        "## 1.2 Extraiga las variables númericas que no tengan datos faltantes del dataset\n",
        "Debe determinar que variables columnas son de tipo numérico y no tienen datos faltantes. Para hacer esto use el atributo `dtypes` de los objetos de tipo `DataFrame` y el método `count()`.\n",
        "\n",
        "Implemente la función `extract_numerial` para obtener estos features del Dataframe."
      ]
    },
    {
      "cell_type": "code",
      "metadata": {
        "id": "8wGKKroftQqU"
      },
      "source": [
        "def extract_features(X, features):\n",
        "    '''\n",
        "    X: dataframe como se define en 1.1\n",
        "    features: lista de features a ser extraidas\n",
        "    returns: X derivado con únicamente las columnas en features\n",
        "    '''\n",
        "    return X[features]\n",
        "\n",
        "\n",
        "\n",
        "\n",
        "\n",
        "\n",
        "#___________________________________________________________________________________________\n",
        "#Esta es una funcion auxiliar que definimos para hacer mas simple\n",
        "#a la funcion extract numerical(X)\n",
        "\n",
        "\n",
        "\n",
        "#Funcion para obtener los nombres de variables \n",
        "#numericas y sin valores nulos en el conjunto de datos trabajado.\n",
        "def extract_not_null_numerical_labels(df):\n",
        "      \n",
        "    #df.dtypes genera una serie de pandas\n",
        "    #la cual esta indexada usando los labels de los atributos.\n",
        "    #Obtenemos los nombres de los atributos\n",
        "    nombres_de_las_variables = list(df.dtypes.index)\n",
        "\n",
        "\n",
        "    atributos_de_interes = [] #Lista para guardar los nombres de atributos de interes\n",
        "    numero_de_registros = df.shape[0] #Numero total de registros\n",
        "\n",
        "\n",
        "    #como los indices son los nombres de las variables\n",
        "    #con estos nombres, usandolos como llave obtenemos sus \n",
        "    #tipos de dato. Verificamos que sea numerico.\n",
        "    #Luego revisamos si los no nulos en la columna\n",
        "    #son iguales al numero de registros.\n",
        "    for i in nombres_de_las_variables:\n",
        "      if (df.dtypes[i] in [\"float64\", \"int64\"]):\n",
        "        if (df[i].count() == numero_de_registros):\n",
        "          atributos_de_interes.append(i)\n",
        "    return atributos_de_interes\n",
        "#___________________________________________________________________________________________\n",
        "\n",
        "\n",
        "\n",
        "\n",
        "\n",
        "\n",
        "\n",
        "def extract_numerical(X):\n",
        "    '''\n",
        "    X: dataframe como se define en 1.1\n",
        "    returns: dataframe derivado que puede ser usado para entrenar un modelo (sin variables categoricas )\n",
        "    '''\n",
        "    # YOUR CODE GOES HERE\n",
        "    atributos_de_interes = extract_not_null_numerical_labels(X)\n",
        "    solucion = extract_features(X, atributos_de_interes)\n",
        "    return solucion\n",
        "\n",
        "    #raise NotImplementedError"
      ],
      "execution_count": 84,
      "outputs": []
    },
    {
      "cell_type": "code",
      "metadata": {
        "colab": {
          "base_uri": "https://localhost:8080/",
          "height": 450
        },
        "id": "NH-y0bjNHUdr",
        "outputId": "71dec6e1-f05c-4ce1-dda1-323229528bb1"
      },
      "source": [
        "extract_numerical(df)"
      ],
      "execution_count": 85,
      "outputs": [
        {
          "output_type": "execute_result",
          "data": {
            "text/html": [
              "<div>\n",
              "<style scoped>\n",
              "    .dataframe tbody tr th:only-of-type {\n",
              "        vertical-align: middle;\n",
              "    }\n",
              "\n",
              "    .dataframe tbody tr th {\n",
              "        vertical-align: top;\n",
              "    }\n",
              "\n",
              "    .dataframe thead th {\n",
              "        text-align: right;\n",
              "    }\n",
              "</style>\n",
              "<table border=\"1\" class=\"dataframe\">\n",
              "  <thead>\n",
              "    <tr style=\"text-align: right;\">\n",
              "      <th></th>\n",
              "      <th>Survived</th>\n",
              "      <th>Pclass</th>\n",
              "      <th>SibSp</th>\n",
              "      <th>Parch</th>\n",
              "      <th>Fare</th>\n",
              "    </tr>\n",
              "    <tr>\n",
              "      <th>PassengerId</th>\n",
              "      <th></th>\n",
              "      <th></th>\n",
              "      <th></th>\n",
              "      <th></th>\n",
              "      <th></th>\n",
              "    </tr>\n",
              "  </thead>\n",
              "  <tbody>\n",
              "    <tr>\n",
              "      <th>1</th>\n",
              "      <td>0</td>\n",
              "      <td>3</td>\n",
              "      <td>1</td>\n",
              "      <td>0</td>\n",
              "      <td>7.2500</td>\n",
              "    </tr>\n",
              "    <tr>\n",
              "      <th>2</th>\n",
              "      <td>1</td>\n",
              "      <td>1</td>\n",
              "      <td>1</td>\n",
              "      <td>0</td>\n",
              "      <td>71.2833</td>\n",
              "    </tr>\n",
              "    <tr>\n",
              "      <th>3</th>\n",
              "      <td>1</td>\n",
              "      <td>3</td>\n",
              "      <td>0</td>\n",
              "      <td>0</td>\n",
              "      <td>7.9250</td>\n",
              "    </tr>\n",
              "    <tr>\n",
              "      <th>4</th>\n",
              "      <td>1</td>\n",
              "      <td>1</td>\n",
              "      <td>1</td>\n",
              "      <td>0</td>\n",
              "      <td>53.1000</td>\n",
              "    </tr>\n",
              "    <tr>\n",
              "      <th>5</th>\n",
              "      <td>0</td>\n",
              "      <td>3</td>\n",
              "      <td>0</td>\n",
              "      <td>0</td>\n",
              "      <td>8.0500</td>\n",
              "    </tr>\n",
              "    <tr>\n",
              "      <th>...</th>\n",
              "      <td>...</td>\n",
              "      <td>...</td>\n",
              "      <td>...</td>\n",
              "      <td>...</td>\n",
              "      <td>...</td>\n",
              "    </tr>\n",
              "    <tr>\n",
              "      <th>887</th>\n",
              "      <td>0</td>\n",
              "      <td>2</td>\n",
              "      <td>0</td>\n",
              "      <td>0</td>\n",
              "      <td>13.0000</td>\n",
              "    </tr>\n",
              "    <tr>\n",
              "      <th>888</th>\n",
              "      <td>1</td>\n",
              "      <td>1</td>\n",
              "      <td>0</td>\n",
              "      <td>0</td>\n",
              "      <td>30.0000</td>\n",
              "    </tr>\n",
              "    <tr>\n",
              "      <th>889</th>\n",
              "      <td>0</td>\n",
              "      <td>3</td>\n",
              "      <td>1</td>\n",
              "      <td>2</td>\n",
              "      <td>23.4500</td>\n",
              "    </tr>\n",
              "    <tr>\n",
              "      <th>890</th>\n",
              "      <td>1</td>\n",
              "      <td>1</td>\n",
              "      <td>0</td>\n",
              "      <td>0</td>\n",
              "      <td>30.0000</td>\n",
              "    </tr>\n",
              "    <tr>\n",
              "      <th>891</th>\n",
              "      <td>0</td>\n",
              "      <td>3</td>\n",
              "      <td>0</td>\n",
              "      <td>0</td>\n",
              "      <td>7.7500</td>\n",
              "    </tr>\n",
              "  </tbody>\n",
              "</table>\n",
              "<p>891 rows × 5 columns</p>\n",
              "</div>"
            ],
            "text/plain": [
              "             Survived  Pclass  SibSp  Parch     Fare\n",
              "PassengerId                                         \n",
              "1                   0       3      1      0   7.2500\n",
              "2                   1       1      1      0  71.2833\n",
              "3                   1       3      0      0   7.9250\n",
              "4                   1       1      1      0  53.1000\n",
              "5                   0       3      0      0   8.0500\n",
              "...               ...     ...    ...    ...      ...\n",
              "887                 0       2      0      0  13.0000\n",
              "888                 1       1      0      0  30.0000\n",
              "889                 0       3      1      2  23.4500\n",
              "890                 1       1      0      0  30.0000\n",
              "891                 0       3      0      0   7.7500\n",
              "\n",
              "[891 rows x 5 columns]"
            ]
          },
          "metadata": {
            "tags": []
          },
          "execution_count": 85
        }
      ]
    },
    {
      "cell_type": "code",
      "metadata": {
        "id": "kkDRCgILOce5"
      },
      "source": [
        ""
      ],
      "execution_count": 55,
      "outputs": []
    },
    {
      "cell_type": "markdown",
      "metadata": {
        "id": "_2tMdM9HY3I-"
      },
      "source": [
        "## 1.3 Entrene modelos de regresion logística y naïve bayes sobre los variables númericas\n",
        "\n",
        "Para este punto debe implementar dos funciones:\n",
        "- `train_logit`: para entrenar modelos de _Regresión Logística_. Esta función debe retornar un modelo ya entrenado de regresión logística siendo de la clase `LogisticRegression` de sklearn.\n",
        "    El modelo logístico debe superar 0.68 de presición.\n",
        "\n",
        "\n",
        "- `train_bayes`: para entrenar modelos de tipo _Naïve Bayes_. Esta función debe retornar un modelo ya entrenado de Naïve Bayes siendo de la clase `GaussianNB` de sklearn.\n",
        "    Este modelo debe superar 0.67 de presición.\n",
        "    \n",
        "**Peso del punto: 2.0**"
      ]
    },
    {
      "cell_type": "code",
      "metadata": {
        "id": "bF9LjdMBZ6en"
      },
      "source": [
        "from sklearn.linear_model import LogisticRegression\n",
        "from sklearn.naive_bayes import GaussianNB\n",
        "\n",
        "#Seccion realizada segun lo visto en el notebook Intro SI-ML2-clasificacion_lineal_evaluacion_desempeño.ipynb\n",
        "\n",
        "def train_logit(X, y):\n",
        "    '''\n",
        "    X: dataframe derivado de df como se define en 1.1\n",
        "    y: target como se define en 1.1\n",
        "    returns (LogisticRegression): modelo entrenado con los datos X y y\n",
        "    '''\n",
        "    # YOUR CODE GOES HERE\n",
        "    classifier = LogisticRegression()\n",
        "    classifier.fit(X, y)\n",
        "    return classifier\n",
        "    #raise NotImplementedError\n",
        "\n",
        "def train_bayes(X, y):\n",
        "    '''\n",
        "    X: dataframe derivado de df como se define en 1.1\n",
        "    y: target como se define en 1.1\n",
        "    returns (GaussianNB): modelo entrenado con los datos X y y\n",
        "    '''\n",
        "    # YOUR CODE GOES HERE\n",
        "    classifier2 = GaussianNB()\n",
        "    classifier2.fit(X, y)\n",
        "    return classifier2\n",
        "    #raise NotImplementedError"
      ],
      "execution_count": 69,
      "outputs": []
    },
    {
      "cell_type": "code",
      "metadata": {
        "id": "_wT7I4lHYTyi",
        "colab": {
          "base_uri": "https://localhost:8080/"
        },
        "outputId": "9e37b8e3-a855-418e-a710-ea7ddbb3fa76"
      },
      "source": [
        "# Cell for testing.\n",
        "X_numerical = extract_numerical(X)\n",
        "logit = train_logit(X_numerical, y)\n",
        "bayes = train_bayes(X_numerical, y)\n",
        "\n",
        "print(logit.score(X_numerical, y))\n",
        "print(bayes.score(X_numerical, y))"
      ],
      "execution_count": 70,
      "outputs": [
        {
          "output_type": "stream",
          "text": [
            "0.6879910213243546\n",
            "0.6778900112233446\n"
          ],
          "name": "stdout"
        }
      ]
    },
    {
      "cell_type": "markdown",
      "metadata": {
        "id": "n4ppH_x8dcmd"
      },
      "source": [
        "## 1.4 Entrene los modelos con los datos procesados y la feature 'Sex' con label encoding\n",
        "### 1.4.1 Haga label-encoding de la feature 'Sex'\n",
        "\n",
        "Label encoding consiste en asignar un label a cada grupo de datos, en este caso 'female' obtiene el label 1 y 'male' el label 0, o al revés. Lo importante es que los labels sean valores númericos.\n",
        "\n",
        "* Puede hacer un `for`\n",
        "* Puede usar `.map()` de Pandas sobre `X['Sex']`\n",
        "* Puede usar `sklearn.preprocessing.LabelEncoder`\n",
        "\n",
        "Cree un DataFrame que contenga las característica numéricas del punto 1.2 y que además tenga una columna correspondiente a la característica 'Sex' con label encoding.\n",
        "Para esto, implemente la función `process_data`.\n",
        "\n",
        "**Peso del punto: 1.0**"
      ]
    },
    {
      "cell_type": "code",
      "metadata": {
        "id": "jU1epCJrXCNk"
      },
      "source": [
        "#______________________________________________________________________________________\n",
        "#Funcion auxiliar para obtener el contenido de la columna sex como lista\n",
        "def get_sex_colummn_values(X):\n",
        "  serie_para_atributo_sexo = extract_features(X, \"Sex\").map({\"male\":0,\"female\":1})\n",
        "  numero_de_registros = X.shape[0] #Numero total de registros\n",
        "  if (serie_para_atributo_sexo.count() != numero_de_registros):\n",
        "    print(\"Problema de integridad en los datos\")\n",
        "    return -1\n",
        "  else:\n",
        "    lista_sexos = list (serie_para_atributo_sexo.values)\n",
        "    return lista_sexos\n",
        "#______________________________________________________________________________________\n",
        "\n",
        "\n",
        "def process_data(X):\n",
        "    '''\n",
        "    X : dataframe como se define en 1.1\n",
        "    returns (Dataframe): dataframe derivado de X con columnas númericas incluyendo 'Sex' con label encoding\n",
        "    '''\n",
        "    # YOUR CODE GOES HERE\n",
        "    X_numerical = extract_numerical(X) #Obtener un dataframe con datos numericos y no nulos\n",
        "    X_numerical_ampliado = X_numerical.assign(Sex = get_sex_colummn_values(X))# Agregarle la columna Sex ya codificada en ceros y unos\n",
        "    return X_numerical_ampliado\n",
        "    #raise NotImplementedError"
      ],
      "execution_count": 108,
      "outputs": []
    },
    {
      "cell_type": "code",
      "metadata": {
        "colab": {
          "base_uri": "https://localhost:8080/",
          "height": 450
        },
        "id": "o_eGvLD0llX0",
        "outputId": "e47cfff8-fcb6-45d7-e150-ac298b5e41e7"
      },
      "source": [
        "process_data(df)"
      ],
      "execution_count": 110,
      "outputs": [
        {
          "output_type": "execute_result",
          "data": {
            "text/html": [
              "<div>\n",
              "<style scoped>\n",
              "    .dataframe tbody tr th:only-of-type {\n",
              "        vertical-align: middle;\n",
              "    }\n",
              "\n",
              "    .dataframe tbody tr th {\n",
              "        vertical-align: top;\n",
              "    }\n",
              "\n",
              "    .dataframe thead th {\n",
              "        text-align: right;\n",
              "    }\n",
              "</style>\n",
              "<table border=\"1\" class=\"dataframe\">\n",
              "  <thead>\n",
              "    <tr style=\"text-align: right;\">\n",
              "      <th></th>\n",
              "      <th>Survived</th>\n",
              "      <th>Pclass</th>\n",
              "      <th>SibSp</th>\n",
              "      <th>Parch</th>\n",
              "      <th>Fare</th>\n",
              "      <th>Sex</th>\n",
              "    </tr>\n",
              "    <tr>\n",
              "      <th>PassengerId</th>\n",
              "      <th></th>\n",
              "      <th></th>\n",
              "      <th></th>\n",
              "      <th></th>\n",
              "      <th></th>\n",
              "      <th></th>\n",
              "    </tr>\n",
              "  </thead>\n",
              "  <tbody>\n",
              "    <tr>\n",
              "      <th>1</th>\n",
              "      <td>0</td>\n",
              "      <td>3</td>\n",
              "      <td>1</td>\n",
              "      <td>0</td>\n",
              "      <td>7.2500</td>\n",
              "      <td>0</td>\n",
              "    </tr>\n",
              "    <tr>\n",
              "      <th>2</th>\n",
              "      <td>1</td>\n",
              "      <td>1</td>\n",
              "      <td>1</td>\n",
              "      <td>0</td>\n",
              "      <td>71.2833</td>\n",
              "      <td>1</td>\n",
              "    </tr>\n",
              "    <tr>\n",
              "      <th>3</th>\n",
              "      <td>1</td>\n",
              "      <td>3</td>\n",
              "      <td>0</td>\n",
              "      <td>0</td>\n",
              "      <td>7.9250</td>\n",
              "      <td>1</td>\n",
              "    </tr>\n",
              "    <tr>\n",
              "      <th>4</th>\n",
              "      <td>1</td>\n",
              "      <td>1</td>\n",
              "      <td>1</td>\n",
              "      <td>0</td>\n",
              "      <td>53.1000</td>\n",
              "      <td>1</td>\n",
              "    </tr>\n",
              "    <tr>\n",
              "      <th>5</th>\n",
              "      <td>0</td>\n",
              "      <td>3</td>\n",
              "      <td>0</td>\n",
              "      <td>0</td>\n",
              "      <td>8.0500</td>\n",
              "      <td>0</td>\n",
              "    </tr>\n",
              "    <tr>\n",
              "      <th>...</th>\n",
              "      <td>...</td>\n",
              "      <td>...</td>\n",
              "      <td>...</td>\n",
              "      <td>...</td>\n",
              "      <td>...</td>\n",
              "      <td>...</td>\n",
              "    </tr>\n",
              "    <tr>\n",
              "      <th>887</th>\n",
              "      <td>0</td>\n",
              "      <td>2</td>\n",
              "      <td>0</td>\n",
              "      <td>0</td>\n",
              "      <td>13.0000</td>\n",
              "      <td>0</td>\n",
              "    </tr>\n",
              "    <tr>\n",
              "      <th>888</th>\n",
              "      <td>1</td>\n",
              "      <td>1</td>\n",
              "      <td>0</td>\n",
              "      <td>0</td>\n",
              "      <td>30.0000</td>\n",
              "      <td>1</td>\n",
              "    </tr>\n",
              "    <tr>\n",
              "      <th>889</th>\n",
              "      <td>0</td>\n",
              "      <td>3</td>\n",
              "      <td>1</td>\n",
              "      <td>2</td>\n",
              "      <td>23.4500</td>\n",
              "      <td>1</td>\n",
              "    </tr>\n",
              "    <tr>\n",
              "      <th>890</th>\n",
              "      <td>1</td>\n",
              "      <td>1</td>\n",
              "      <td>0</td>\n",
              "      <td>0</td>\n",
              "      <td>30.0000</td>\n",
              "      <td>0</td>\n",
              "    </tr>\n",
              "    <tr>\n",
              "      <th>891</th>\n",
              "      <td>0</td>\n",
              "      <td>3</td>\n",
              "      <td>0</td>\n",
              "      <td>0</td>\n",
              "      <td>7.7500</td>\n",
              "      <td>0</td>\n",
              "    </tr>\n",
              "  </tbody>\n",
              "</table>\n",
              "<p>891 rows × 6 columns</p>\n",
              "</div>"
            ],
            "text/plain": [
              "             Survived  Pclass  SibSp  Parch     Fare  Sex\n",
              "PassengerId                                              \n",
              "1                   0       3      1      0   7.2500    0\n",
              "2                   1       1      1      0  71.2833    1\n",
              "3                   1       3      0      0   7.9250    1\n",
              "4                   1       1      1      0  53.1000    1\n",
              "5                   0       3      0      0   8.0500    0\n",
              "...               ...     ...    ...    ...      ...  ...\n",
              "887                 0       2      0      0  13.0000    0\n",
              "888                 1       1      0      0  30.0000    1\n",
              "889                 0       3      1      2  23.4500    1\n",
              "890                 1       1      0      0  30.0000    0\n",
              "891                 0       3      0      0   7.7500    0\n",
              "\n",
              "[891 rows x 6 columns]"
            ]
          },
          "metadata": {
            "tags": []
          },
          "execution_count": 110
        }
      ]
    },
    {
      "cell_type": "markdown",
      "metadata": {
        "id": "m5B83wUpeY7-"
      },
      "source": [
        "### 1.4.2 Entrene los modelos usando la nueva feature 'Sex'\n",
        "Usando las funciones ya implementadas anteriormente, haga pruebas con el nuevo Dataframe que contiene la columna 'sex'.\n",
        "\n",
        "\n",
        "**El modelo logístico debe superar 0.79 de precisión y bayes 0.78.**"
      ]
    },
    {
      "cell_type": "code",
      "metadata": {
        "id": "Uy5bYn7hd1Qr",
        "colab": {
          "base_uri": "https://localhost:8080/"
        },
        "outputId": "652a6349-e548-4535-be82-d39e0be94120"
      },
      "source": [
        "X_processed = process_data(X)\n",
        "logit = train_logit(X_processed, y)\n",
        "bayes = train_bayes(X_processed, y)\n",
        "\n",
        "print(logit.score(X_processed, y))\n",
        "print(bayes.score(X_processed, y))"
      ],
      "execution_count": 111,
      "outputs": [
        {
          "output_type": "stream",
          "text": [
            "0.7957351290684624\n",
            "0.7890011223344556\n"
          ],
          "name": "stdout"
        }
      ]
    },
    {
      "cell_type": "markdown",
      "metadata": {
        "id": "fEhgFtrVkVYU"
      },
      "source": [
        "# 2 Métricas de Desempeño"
      ]
    },
    {
      "cell_type": "markdown",
      "metadata": {
        "id": "5Rbb0vvab3p0"
      },
      "source": [
        "## 2.1 Defina una función que encuentre los Falsos Positivos y los Falsos Negativos de un modelo en un conjunto de prueba.\n",
        "\n",
        "Para este punto debe considerar como negativo _no supervivencia_ y como positivo _supervivencia_.\n",
        "\n",
        "Implemente la función `fpFn` que retorne una tupla de tipo (FP, FN) donde _FP_ son los falsos positivos y _FN_ los falsos negativos.\n",
        "\n",
        "**Peso del punto: 1.0**"
      ]
    },
    {
      "cell_type": "code",
      "metadata": {
        "id": "IUSDDk2Hbfol",
        "colab": {
          "base_uri": "https://localhost:8080/"
        },
        "outputId": "f9f38e1a-beec-45fc-b629-c29c1f372087"
      },
      "source": [
        "def fpFn(y_true, y_pred):\n",
        "    '''\n",
        "    y_true: lista con las etiquetas originales del dataset\n",
        "    y_pred: lista con las etiquetas predichas por un modelo\n",
        "    Returns:\n",
        "    (FP, FN) : Tupla donde FP son los falsos positivos, FN son los falsos negativos\n",
        "    '''\n",
        "\n",
        "    # YOUR CODE GOES HERE\n",
        "    #________________________________________________________________________\n",
        "    #falso positivo: se pensaba que sobrevivio pero no era asi\n",
        "    #falso negativo: se pensaba que habia muerto pero sobrevivio\n",
        "\n",
        "    falsos_positivos = 0\n",
        "    falsos_negativos = 0\n",
        "\n",
        "    #Se comparan uno a uno los pares prediccion - realidad\n",
        "    l = len(y_true)\n",
        "    for i in range(l):\n",
        "      if (y_pred[i] == 1 and y_true[i] == 0):\n",
        "        falsos_positivos += 1\n",
        "      if (y_pred[i] == 0 and y_true[i] == 1):\n",
        "        falsos_negativos += 1\n",
        "\n",
        "    return (falsos_positivos, falsos_negativos)\n",
        "    #________________________________________________________________________\n",
        "    \n",
        "    #raise NotImplementedError\n",
        "#fpFn([1,0,0,1],[0,1,1,1])"
      ],
      "execution_count": 118,
      "outputs": [
        {
          "output_type": "execute_result",
          "data": {
            "text/plain": [
              "(2, 1)"
            ]
          },
          "metadata": {
            "tags": []
          },
          "execution_count": 118
        }
      ]
    },
    {
      "cell_type": "markdown",
      "metadata": {
        "id": "IjnEMUFyc7Gq"
      },
      "source": [
        "## 2.2 (1.0) Defina una función que encuentre la Sensibilidad y Especificidad de un modelo en un conjunto de prueba.\n",
        "\n",
        "\n",
        "Recuerdas qué AIMA te contó una vez:\n",
        "\n",
        "'La sensibilidad caracteriza la capacidad de la prueba para detectar la enfermedad en sujetos enfermos. La especificidad caracteriza la capacidad de la prueba para detectar la ausencia de la enfermedad en sujetos sanos.'\n",
        "\n",
        "\n",
        "Implemente la función `seEs` que retorne una tupla de tipo (SE, ES) donde _SE_ es la sensibilidad y _ES_ es la especificidad.\n",
        "\n",
        "**Peso del punto: 1.0**"
      ]
    },
    {
      "cell_type": "code",
      "metadata": {
        "id": "6OVo9oJgcWnJ",
        "colab": {
          "base_uri": "https://localhost:8080/"
        },
        "outputId": "7801a069-743f-43f6-8dd1-be8f9302dfdd"
      },
      "source": [
        "def seEs(y_true, y_pred):\n",
        "    '''\n",
        "    Entrada:\n",
        "    y_true: lista con las etiquetas originales del dataset\n",
        "    y_pred: etiquetas predichas por un modelo\n",
        "    Salida:\n",
        "    (SE, ES) : SE es la Sensibilidad, ES la Especificidad\n",
        "    '''\n",
        "\n",
        "    # YOUR CODE GOES HERE\n",
        "    #positivo positivo: diagnosticar como enferma a una persona enferma\n",
        "    #negativo negativo: determinar como no enferma a una persona no enferma\n",
        "\n",
        "\n",
        "    verdaderos_positivos = 0\n",
        "    verdaderos_negativos = 0 \n",
        "\n",
        "    #Se comparan uno a uno los pares prediccion - realidad\n",
        "    l = len(y_true)\n",
        "    for i in range(l):\n",
        "      if (y_pred[i] == 1 and y_true[i] == 1):\n",
        "        verdaderos_positivos += 1\n",
        "      if (y_pred[i] == 0 and y_true[i] == 0):\n",
        "        verdaderos_negativos += 1\n",
        "\n",
        "    #Se calculan los dosindicadores\n",
        "    enfermos = y_true.count(1)\n",
        "    no_enfermos = y_true.count(0)\n",
        "\n",
        "    if (enfermos == 0):\n",
        "      SE = 0\n",
        "    else:\n",
        "      SE = verdaderos_positivos/enfermos\n",
        "\n",
        "    if (no_enfermos == 0):\n",
        "      ES = 0\n",
        "    else:\n",
        "      ES = verdaderos_negativos/no_enfermos\n",
        "    \n",
        "    return(SE, ES)\n",
        "    #raise NotImplementedError\n",
        "\n",
        "#seEs([1,0,0,1],[0,1,1,1])"
      ],
      "execution_count": 122,
      "outputs": [
        {
          "output_type": "execute_result",
          "data": {
            "text/plain": [
              "(0.5, 0.0)"
            ]
          },
          "metadata": {
            "tags": []
          },
          "execution_count": 122
        }
      ]
    },
    {
      "cell_type": "code",
      "metadata": {
        "id": "bb2Ga0oDyS4M"
      },
      "source": [
        ""
      ],
      "execution_count": null,
      "outputs": []
    }
  ]
}