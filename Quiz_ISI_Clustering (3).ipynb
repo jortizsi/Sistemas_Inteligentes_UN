{
  "nbformat": 4,
  "nbformat_minor": 0,
  "metadata": {
    "colab": {
      "name": "Quiz_ISI_Clustering.ipynb",
      "provenance": [],
      "collapsed_sections": []
    },
    "kernelspec": {
      "name": "python3",
      "display_name": "Python 3"
    },
    "language_info": {
      "name": "python"
    }
  },
  "cells": [
    {
      "cell_type": "code",
      "metadata": {
        "id": "I7cxy6DosUl6"
      },
      "source": [
        "import numpy as np\n",
        "\n",
        "C0=np.array([0.24,0.33,0.63])\n",
        "\n",
        "C1=np.array([0.31,0.6,0.47])\n",
        "\n",
        "C2=np.array([0.57,0.95,0.15])\n",
        "\n",
        "E0 =np.array([1,\t1,\t1])\n",
        "E1 =np.array([0,\t1,\t1])\n",
        "E2 =np.array([1,\t1,\t0])\n",
        "E3 =np.array([1,\t0,\t0])\n",
        "E4 =np.array([0,\t0,\t1])\n",
        "E5 =np.array([1,\t0,\t1])\n"
      ],
      "execution_count": null,
      "outputs": []
    },
    {
      "cell_type": "code",
      "metadata": {
        "id": "OTIY-BxyVxpC"
      },
      "source": [
        ""
      ],
      "execution_count": null,
      "outputs": []
    },
    {
      "cell_type": "code",
      "metadata": {
        "id": "W6VbaULosxiL"
      },
      "source": [
        "def f(C):\n",
        "  v0 = sum(abs(C - C0))\n",
        "  print(abs(C - C0))\n",
        "  v1 = sum(abs(C - C1))\n",
        "  print(abs(C - C1))\n",
        "  v2 = sum(abs(C - C2))\n",
        "  print(abs(C - C2))\n",
        "\n",
        "  print(v0,v1,v2)\n",
        "\n",
        "  if (v0 == v1 or v0 == v2 or v1 == v2):\n",
        "    print(\"raios\")\n",
        "\n",
        "  if (v0<v1 and v0<v2):\n",
        "    print(\"0\")\n",
        "  if (v1<v0 and v1<v2):\n",
        "    print(\"1\")\n",
        "  if (v2<v0 and v2<v1):\n",
        "    print(\"2\")"
      ],
      "execution_count": null,
      "outputs": []
    },
    {
      "cell_type": "code",
      "metadata": {
        "colab": {
          "base_uri": "https://localhost:8080/"
        },
        "id": "7t6M3zkVtJOh",
        "outputId": "d13a38bf-6e32-4c69-d122-70f968e29d33"
      },
      "source": [
        "f(E0)"
      ],
      "execution_count": null,
      "outputs": [
        {
          "output_type": "stream",
          "text": [
            "[0.76 0.67 0.37]\n",
            "[0.69 0.4  0.53]\n",
            "[0.43 0.05 0.85]\n",
            "1.7999999999999998 1.6199999999999999 1.33\n",
            "2\n"
          ],
          "name": "stdout"
        }
      ]
    },
    {
      "cell_type": "code",
      "metadata": {
        "colab": {
          "base_uri": "https://localhost:8080/"
        },
        "id": "hB6C-kL-tpUQ",
        "outputId": "7f97c1b9-dcd3-4e9d-e1d7-2009be660dd5"
      },
      "source": [
        "f(E1)"
      ],
      "execution_count": null,
      "outputs": [
        {
          "output_type": "stream",
          "text": [
            "1.2799999999999998 1.24 1.47\n",
            "1\n"
          ],
          "name": "stdout"
        }
      ]
    },
    {
      "cell_type": "code",
      "metadata": {
        "colab": {
          "base_uri": "https://localhost:8080/"
        },
        "id": "jXXVgL65tzDN",
        "outputId": "1d877b0d-46de-47ec-df05-74a4f838dc73"
      },
      "source": [
        "f(E2)"
      ],
      "execution_count": null,
      "outputs": [
        {
          "output_type": "stream",
          "text": [
            "2.06 1.5599999999999998 0.6300000000000001\n",
            "2\n"
          ],
          "name": "stdout"
        }
      ]
    },
    {
      "cell_type": "code",
      "metadata": {
        "colab": {
          "base_uri": "https://localhost:8080/"
        },
        "id": "QtxSPdXTxB4a",
        "outputId": "eb6e34fa-f190-478c-b21d-4d2fdea7f376"
      },
      "source": [
        "f(E3)"
      ],
      "execution_count": null,
      "outputs": [
        {
          "output_type": "stream",
          "text": [
            "[0.76 0.33 0.63]\n",
            "[0.69 0.6  0.47]\n",
            "[0.43 0.95 0.15]\n",
            "1.7200000000000002 1.76 1.5299999999999998\n",
            "2\n"
          ],
          "name": "stdout"
        }
      ]
    },
    {
      "cell_type": "code",
      "metadata": {
        "colab": {
          "base_uri": "https://localhost:8080/"
        },
        "id": "sZtGi-dfxEM2",
        "outputId": "9d7aec6a-5863-4f38-ba11-f470a6daeb27"
      },
      "source": [
        "f(E4)"
      ],
      "execution_count": null,
      "outputs": [
        {
          "output_type": "stream",
          "text": [
            "0\n"
          ],
          "name": "stdout"
        }
      ]
    },
    {
      "cell_type": "code",
      "metadata": {
        "colab": {
          "base_uri": "https://localhost:8080/"
        },
        "id": "ln7HEo6txGzU",
        "outputId": "9ab0d907-df38-4412-bd0e-a75829111a0f"
      },
      "source": [
        "f(E5)"
      ],
      "execution_count": null,
      "outputs": [
        {
          "output_type": "stream",
          "text": [
            "0\n"
          ],
          "name": "stdout"
        }
      ]
    },
    {
      "cell_type": "code",
      "metadata": {
        "colab": {
          "base_uri": "https://localhost:8080/"
        },
        "id": "9ftmv_kZuzSj",
        "outputId": "f86b16ad-f705-426e-b8dc-cf37712bd048"
      },
      "source": [
        "s = E2 +E3 \n",
        "s/2"
      ],
      "execution_count": null,
      "outputs": [
        {
          "output_type": "execute_result",
          "data": {
            "text/plain": [
              "array([1. , 0.5, 0. ])"
            ]
          },
          "metadata": {
            "tags": []
          },
          "execution_count": 25
        }
      ]
    },
    {
      "cell_type": "code",
      "metadata": {
        "colab": {
          "base_uri": "https://localhost:8080/"
        },
        "id": "3AS1OMvQxyPB",
        "outputId": "b38db4de-28eb-4e41-a665-ef5e890d491b"
      },
      "source": [
        "s1 = E1\n",
        "s1"
      ],
      "execution_count": null,
      "outputs": [
        {
          "output_type": "execute_result",
          "data": {
            "text/plain": [
              "array([0, 1, 1])"
            ]
          },
          "metadata": {
            "tags": []
          },
          "execution_count": 26
        }
      ]
    },
    {
      "cell_type": "code",
      "metadata": {
        "colab": {
          "base_uri": "https://localhost:8080/"
        },
        "id": "x5Lb3WQ3ygIX",
        "outputId": "c7053e0e-f3e7-4d3c-d500-c8481e54e170"
      },
      "source": [
        "x = E4 + E5\n",
        "x"
      ],
      "execution_count": null,
      "outputs": [
        {
          "output_type": "execute_result",
          "data": {
            "text/plain": [
              "array([1, 0, 2])"
            ]
          },
          "metadata": {
            "tags": []
          },
          "execution_count": 27
        }
      ]
    },
    {
      "cell_type": "code",
      "metadata": {
        "colab": {
          "base_uri": "https://localhost:8080/"
        },
        "id": "DncXbHKoy54h",
        "outputId": "f2a4c6b0-6903-4418-90be-944b0fa407e3"
      },
      "source": [
        "x/2"
      ],
      "execution_count": null,
      "outputs": [
        {
          "output_type": "execute_result",
          "data": {
            "text/plain": [
              "array([0.5, 0. , 1. ])"
            ]
          },
          "metadata": {
            "tags": []
          },
          "execution_count": 28
        }
      ]
    },
    {
      "cell_type": "code",
      "metadata": {
        "id": "bfJW3WEJy8oE"
      },
      "source": [
        ""
      ],
      "execution_count": null,
      "outputs": []
    },
    {
      "cell_type": "markdown",
      "metadata": {
        "id": "1SV_awbcNAjm"
      },
      "source": [
        "#**Solucion**"
      ]
    },
    {
      "cell_type": "markdown",
      "metadata": {
        "id": "aRMJPKjm43gd"
      },
      "source": [
        "**Entrada**"
      ]
    },
    {
      "cell_type": "code",
      "metadata": {
        "id": "3Q5sJtc9NHA2"
      },
      "source": [
        "import numpy as np\n",
        "\n",
        "Centroidesxyz = np.array([ [0.24,0.33,0.63],\n",
        "                        [0.31,0.6,0.47] ,\n",
        "                        [0.57,0.95,0.15]   ])\n",
        "\n",
        "Datosxyz = np.array([[1,\t1,\t1],\n",
        "                  [0,\t1,\t1],\n",
        "                  [1,\t1,\t0],\n",
        "                  [1,\t0,\t0],\n",
        "                  [0,\t0,\t1],\n",
        "                  [1,\t0,\t1]])\n",
        "\n",
        "\n",
        "#-----------------------------------------\n",
        "\n",
        "Datos = np.array([[0,\t1,\t1],\n",
        "                  [1,\t0,\t0],\n",
        "                  [0,\t0,\t1],\n",
        "                  [1,\t0,\t1],\n",
        "                  [0,\t1,\t0],\n",
        "                  [0,\t0,\t0]])\n",
        "\n",
        "Centroides = np.array([[0.52, 0.94, 0.88],\n",
        "                       [0.33, 0.69, 0.81],\n",
        "                       [0.29, 0.55, 0.8 ]])"
      ],
      "execution_count": 246,
      "outputs": []
    },
    {
      "cell_type": "markdown",
      "metadata": {
        "id": "JAPg6RNC5PJw"
      },
      "source": [
        "**funciones utiles**"
      ]
    },
    {
      "cell_type": "code",
      "metadata": {
        "colab": {
          "base_uri": "https://localhost:8080/"
        },
        "id": "wOh5EVN3NfEV",
        "outputId": "35d1d49b-e9a0-4a4d-a98d-99240b45e5d4"
      },
      "source": [
        "from numpy import linalg as LA\n",
        "#ejemplo_norma = np.array([5,3])\n",
        "ejemplo_norma = np.array([-0.69 -0.4  -0.53])\n",
        "print(LA.norm(ejemplo_norma))\n",
        "#print(np.sqrt(5**2 + 3**2))"
      ],
      "execution_count": 247,
      "outputs": [
        {
          "output_type": "stream",
          "text": [
            "1.6199999999999999\n"
          ],
          "name": "stdout"
        }
      ]
    },
    {
      "cell_type": "code",
      "metadata": {
        "colab": {
          "base_uri": "https://localhost:8080/"
        },
        "id": "jGko759vSVej",
        "outputId": "fb7adf58-fd72-479d-e66f-5d245095dfe8"
      },
      "source": [
        "np.argmin([np.array([3,7,4,1,1,1,1])])"
      ],
      "execution_count": 248,
      "outputs": [
        {
          "output_type": "execute_result",
          "data": {
            "text/plain": [
              "3"
            ]
          },
          "metadata": {
            "tags": []
          },
          "execution_count": 248
        }
      ]
    },
    {
      "cell_type": "markdown",
      "metadata": {
        "id": "0T0feBQU5DvT"
      },
      "source": [
        "**Funciones determinar el cluster de cada dato**"
      ]
    },
    {
      "cell_type": "code",
      "metadata": {
        "id": "PJ1qSTaVQZhP"
      },
      "source": [
        "def determinar_centroide(punto, centroides):\n",
        "  numero_centroides = len(centroides)\n",
        "  print(\"Centroides: \", numero_centroides)\n",
        "  lista_distancias_del_cluster_a_cada_centroide = np.zeros(numero_centroides)\n",
        "  print(\"inicializacion distancias: \",lista_distancias_del_cluster_a_cada_centroide)\n",
        "\n",
        "  for i in range (0,numero_centroides):\n",
        "    vector_diferencia = centroides[i] - punto\n",
        "    distancia_i = LA.norm(vector_diferencia)\n",
        "    lista_distancias_del_cluster_a_cada_centroide[i] = LA.norm(vector_diferencia)\n",
        "    print(\"centroide: \", centroides[i],\"| punto: \", punto,\"| diferencia: \", vector_diferencia, \"| distancia: \",lista_distancias_del_cluster_a_cada_centroide[i])\n",
        "    \n",
        "  print(\"distancias a cada centroide: \", lista_distancias_del_cluster_a_cada_centroide)\n",
        "\n",
        "  cluster_a_ser_asignado = np.argmin(lista_distancias_del_cluster_a_cada_centroide)\n",
        "\n",
        "  return cluster_a_ser_asignado"
      ],
      "execution_count": 249,
      "outputs": []
    },
    {
      "cell_type": "code",
      "metadata": {
        "id": "5bp0GDKUS7la"
      },
      "source": [
        "def determinar_centroides(datos, centroides):\n",
        "\n",
        "  numero_centroides = len(centroides)\n",
        "  numero_datos = len(datos)\n",
        "  dimensiones = len(datos[0])\n",
        "\n",
        "  datos_de_los_clusters = np.zeros((numero_centroides,dimensiones))\n",
        "  conteo_datos_de_los_clusters = np.zeros(numero_centroides)\n",
        "\n",
        "  n = 0\n",
        "  for i in range(0,numero_datos):\n",
        "    print(\"_________________________________________________________________\\n\",'\\n[',i,']\\n')\n",
        "    cluster_del_dato_i = determinar_centroide(datos[i],centroides)\n",
        "    anterior = datos_de_los_clusters[cluster_del_dato_i]\n",
        "    actualizado = anterior + np.array(datos[i])\n",
        "    print(\"anterior: \",anterior,\" nuevos: \", datos[i], \" actualizado: \",actualizado)\n",
        "    datos_de_los_clusters[cluster_del_dato_i] = actualizado\n",
        "\n",
        "    conteo_datos_de_los_clusters[cluster_del_dato_i] += 1.0\n",
        "\n",
        "    print( \"\\n< \", cluster_del_dato_i, \" > \\n\")\n",
        "\n",
        "  print(\"-------------------------\\nAcumulados\\n-------------------------\\n\")\n",
        "\n",
        "  \n",
        "  print(datos_de_los_clusters)\n",
        "  print(\"\\nConteo: \",conteo_datos_de_los_clusters)\n",
        "  print(\"\\n\\n\\nNuevos centroides\\n \")\n",
        "\n",
        "  for i in range(0,numero_centroides):\n",
        "    print(\"calculo: \",datos_de_los_clusters[i],\"/\", conteo_datos_de_los_clusters[i])\n",
        "    datos_de_los_clusters[i] = datos_de_los_clusters[i] / conteo_datos_de_los_clusters[i]\n",
        "\n",
        "  print(\"\\n\\n\",datos_de_los_clusters)\n",
        "    "
      ],
      "execution_count": 251,
      "outputs": []
    },
    {
      "cell_type": "code",
      "metadata": {
        "colab": {
          "base_uri": "https://localhost:8080/"
        },
        "id": "AWkZ5WPqTnIj",
        "outputId": "48ad5eff-da6f-4cdd-9633-2696f811cfcb"
      },
      "source": [
        "determinar_centroides(Datos, Centroides)"
      ],
      "execution_count": 252,
      "outputs": [
        {
          "output_type": "stream",
          "text": [
            "_________________________________________________________________\n",
            " \n",
            "[ 0 ]\n",
            "\n",
            "Centroides:  3\n",
            "inicializacion distancias:  [0. 0. 0.]\n",
            "centroide:  [0.52 0.94 0.88] | punto:  [0 1 1] | diferencia:  [ 0.52 -0.06 -0.12] | distancia:  0.5370288632839021\n",
            "centroide:  [0.33 0.69 0.81] | punto:  [0 1 1] | diferencia:  [ 0.33 -0.31 -0.19] | distancia:  0.49101934788763674\n",
            "centroide:  [0.29 0.55 0.8 ] | punto:  [0 1 1] | diferencia:  [ 0.29 -0.45 -0.2 ] | distancia:  0.5714892824891818\n",
            "distancias a cada centroide:  [0.53702886 0.49101935 0.57148928]\n",
            "anterior:  [0. 0. 0.]  nuevos:  [0 1 1]  actualizado:  [0. 1. 1.]\n",
            "\n",
            "<  1  > \n",
            "\n",
            "_________________________________________________________________\n",
            " \n",
            "[ 1 ]\n",
            "\n",
            "Centroides:  3\n",
            "inicializacion distancias:  [0. 0. 0.]\n",
            "centroide:  [0.52 0.94 0.88] | punto:  [1 0 0] | diferencia:  [-0.48  0.94  0.88] | distancia:  1.3741906709041507\n",
            "centroide:  [0.33 0.69 0.81] | punto:  [1 0 0] | diferencia:  [-0.67  0.69  0.81] | distancia:  1.257417989373462\n",
            "centroide:  [0.29 0.55 0.8 ] | punto:  [1 0 0] | diferencia:  [-0.71  0.55  0.8 ] | distancia:  1.202746856158851\n",
            "distancias a cada centroide:  [1.37419067 1.25741799 1.20274686]\n",
            "anterior:  [0. 0. 0.]  nuevos:  [1 0 0]  actualizado:  [1. 0. 0.]\n",
            "\n",
            "<  2  > \n",
            "\n",
            "_________________________________________________________________\n",
            " \n",
            "[ 2 ]\n",
            "\n",
            "Centroides:  3\n",
            "inicializacion distancias:  [0. 0. 0.]\n",
            "centroide:  [0.52 0.94 0.88] | punto:  [0 0 1] | diferencia:  [ 0.52  0.94 -0.12] | distancia:  1.0809255293497326\n",
            "centroide:  [0.33 0.69 0.81] | punto:  [0 0 1] | diferencia:  [ 0.33  0.69 -0.19] | distancia:  0.7880989785553588\n",
            "centroide:  [0.29 0.55 0.8 ] | punto:  [0 0 1] | diferencia:  [ 0.29  0.55 -0.2 ] | distancia:  0.6531462317123172\n",
            "distancias a cada centroide:  [1.08092553 0.78809898 0.65314623]\n",
            "anterior:  [1. 0. 0.]  nuevos:  [0 0 1]  actualizado:  [1. 0. 1.]\n",
            "\n",
            "<  2  > \n",
            "\n",
            "_________________________________________________________________\n",
            " \n",
            "[ 3 ]\n",
            "\n",
            "Centroides:  3\n",
            "inicializacion distancias:  [0. 0. 0.]\n",
            "centroide:  [0.52 0.94 0.88] | punto:  [1 0 1] | diferencia:  [-0.48  0.94 -0.12] | distancia:  1.06226173799116\n",
            "centroide:  [0.33 0.69 0.81] | punto:  [1 0 1] | diferencia:  [-0.67  0.69 -0.19] | distancia:  0.9803570778037969\n",
            "centroide:  [0.29 0.55 0.8 ] | punto:  [1 0 1] | diferencia:  [-0.71  0.55 -0.2 ] | distancia:  0.9201086892318755\n",
            "distancias a cada centroide:  [1.06226174 0.98035708 0.92010869]\n",
            "anterior:  [1. 0. 1.]  nuevos:  [1 0 1]  actualizado:  [2. 0. 2.]\n",
            "\n",
            "<  2  > \n",
            "\n",
            "_________________________________________________________________\n",
            " \n",
            "[ 4 ]\n",
            "\n",
            "Centroides:  3\n",
            "inicializacion distancias:  [0. 0. 0.]\n",
            "centroide:  [0.52 0.94 0.88] | punto:  [0 1 0] | diferencia:  [ 0.52 -0.06  0.88] | distancia:  1.0239140588936164\n",
            "centroide:  [0.33 0.69 0.81] | punto:  [0 1 0] | diferencia:  [ 0.33 -0.31  0.81] | distancia:  0.9279547402756236\n",
            "centroide:  [0.29 0.55 0.8 ] | punto:  [0 1 0] | diferencia:  [ 0.29 -0.45  0.8 ] | distancia:  0.9626006440887104\n",
            "distancias a cada centroide:  [1.02391406 0.92795474 0.96260064]\n",
            "anterior:  [0. 1. 1.]  nuevos:  [0 1 0]  actualizado:  [0. 2. 1.]\n",
            "\n",
            "<  1  > \n",
            "\n",
            "_________________________________________________________________\n",
            " \n",
            "[ 5 ]\n",
            "\n",
            "Centroides:  3\n",
            "inicializacion distancias:  [0. 0. 0.]\n",
            "centroide:  [0.52 0.94 0.88] | punto:  [0 0 0] | diferencia:  [0.52 0.94 0.88] | distancia:  1.388668426947196\n",
            "centroide:  [0.33 0.69 0.81] | punto:  [0 0 0] | diferencia:  [0.33 0.69 0.81] | distancia:  1.1140466776576285\n",
            "centroide:  [0.29 0.55 0.8 ] | punto:  [0 0 0] | diferencia:  [0.29 0.55 0.8 ] | distancia:  1.0132127121192274\n",
            "distancias a cada centroide:  [1.38866843 1.11404668 1.01321271]\n",
            "anterior:  [2. 0. 2.]  nuevos:  [0 0 0]  actualizado:  [2. 0. 2.]\n",
            "\n",
            "<  2  > \n",
            "\n",
            "-------------------------\n",
            "Acumulados\n",
            "-------------------------\n",
            "\n",
            "[[0. 0. 0.]\n",
            " [0. 2. 1.]\n",
            " [2. 0. 2.]]\n",
            "\n",
            "Conteo:  [0. 2. 4.]\n",
            "\n",
            "\n",
            "\n",
            "Nuevos centroides\n",
            " \n",
            "calculo:  [0. 0. 0.] / 0.0\n",
            "calculo:  [0. 2. 1.] / 2.0\n",
            "calculo:  [2. 0. 2.] / 4.0\n",
            "\n",
            "\n",
            " [[nan nan nan]\n",
            " [0.  1.  0.5]\n",
            " [0.5 0.  0.5]]\n"
          ],
          "name": "stdout"
        },
        {
          "output_type": "stream",
          "text": [
            "/usr/local/lib/python3.7/dist-packages/ipykernel_launcher.py:32: RuntimeWarning: invalid value encountered in true_divide\n"
          ],
          "name": "stderr"
        }
      ]
    },
    {
      "cell_type": "code",
      "metadata": {
        "colab": {
          "base_uri": "https://localhost:8080/"
        },
        "id": "YaqRa17LTuLG",
        "outputId": "7d0df894-86f3-45d2-c7f4-44ad7972466c"
      },
      "source": [
        "determinar_centroide(punto = Datos[3], centroides = Centroides)"
      ],
      "execution_count": 242,
      "outputs": [
        {
          "output_type": "stream",
          "text": [
            "Centroides:  3\n",
            "inicializacion distancias:  [0. 0. 0.]\n",
            "centroide:  [0.24 0.33 0.63] | punto:  [1 0 0] | diferencia:  [-0.76  0.33  0.63] | distancia:  1.0408650248711404\n",
            "centroide:  [0.31 0.6  0.47] | punto:  [1 0 0] | diferencia:  [-0.69  0.6   0.47] | distancia:  1.02810505299799\n",
            "centroide:  [0.57 0.95 0.15] | punto:  [1 0 0] | diferencia:  [-0.43  0.95  0.15] | distancia:  1.0535179163165664\n",
            "distancias a cada centroide:  [1.04086502 1.02810505 1.05351792]\n"
          ],
          "name": "stdout"
        },
        {
          "output_type": "execute_result",
          "data": {
            "text/plain": [
              "1"
            ]
          },
          "metadata": {
            "tags": []
          },
          "execution_count": 242
        }
      ]
    },
    {
      "cell_type": "code",
      "metadata": {
        "id": "Jp787Z_qU4x1"
      },
      "source": [
        ""
      ],
      "execution_count": 242,
      "outputs": []
    }
  ]
}