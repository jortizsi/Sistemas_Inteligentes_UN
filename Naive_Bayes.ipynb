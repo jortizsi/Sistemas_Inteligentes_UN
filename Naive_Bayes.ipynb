{
  "nbformat": 4,
  "nbformat_minor": 0,
  "metadata": {
    "colab": {
      "name": "Naive_Bayes.ipynb",
      "provenance": [],
      "collapsed_sections": []
    },
    "kernelspec": {
      "name": "python3",
      "display_name": "Python 3"
    },
    "language_info": {
      "name": "python"
    }
  },
  "cells": [
    {
      "cell_type": "markdown",
      "metadata": {
        "id": "cECYWZ5bh0Bt"
      },
      "source": [
        "# **Repaso clasificador Naive Bayes Abril** #"
      ]
    },
    {
      "cell_type": "markdown",
      "metadata": {
        "id": "TLbd_W-Sen_w"
      },
      "source": [
        "#Entrenamiento#"
      ]
    },
    {
      "cell_type": "code",
      "metadata": {
        "id": "ykdo_huhZmbn"
      },
      "source": [
        "import numpy as np\n",
        "\n",
        "x = np.array([\n",
        " [0, 0, 1],\n",
        " [0, 0, 0],\n",
        " [1, 0, 1],\n",
        " [0, 1, 1],\n",
        " [1, 1, 0],\n",
        " [0, 0, 0],\n",
        " [1, 0, 1],\n",
        " [1, 1, 0]\n",
        "])\n",
        "\n",
        "y = np.array(['b', 'c', 'a', 'c', 'b', 'a', 'a', 'b'])"
      ],
      "execution_count": 19,
      "outputs": []
    },
    {
      "cell_type": "markdown",
      "metadata": {
        "id": "3xiPSQDHeuqM"
      },
      "source": [
        "#Prediccion#"
      ]
    },
    {
      "cell_type": "code",
      "metadata": {
        "colab": {
          "base_uri": "https://localhost:8080/"
        },
        "id": "I8cIz9DMbOY_",
        "outputId": "2233b89f-1885-43c7-e342-c0c565ce1aa0"
      },
      "source": [
        "from sklearn.naive_bayes import GaussianNB\n",
        "clf = GaussianNB() #Instancia del clasificador de sklearn\n",
        "clf.fit(x, y)"
      ],
      "execution_count": 20,
      "outputs": [
        {
          "output_type": "execute_result",
          "data": {
            "text/plain": [
              "GaussianNB(priors=None, var_smoothing=1e-09)"
            ]
          },
          "metadata": {
            "tags": []
          },
          "execution_count": 20
        }
      ]
    },
    {
      "cell_type": "code",
      "metadata": {
        "colab": {
          "base_uri": "https://localhost:8080/"
        },
        "id": "poxJLxXNbReJ",
        "outputId": "cb4c447e-d713-4f9b-b1d7-652ecb616426"
      },
      "source": [
        "#x = (0, 1, 1)\n",
        "x_new = np.array([[0, 1, 1]])\n",
        "clf.predict(x_new) #Resultado de la clasificacion"
      ],
      "execution_count": 21,
      "outputs": [
        {
          "output_type": "execute_result",
          "data": {
            "text/plain": [
              "array(['c'], dtype='<U1')"
            ]
          },
          "metadata": {
            "tags": []
          },
          "execution_count": 21
        }
      ]
    },
    {
      "cell_type": "code",
      "metadata": {
        "colab": {
          "base_uri": "https://localhost:8080/"
        },
        "id": "pICZXzKLbyeG",
        "outputId": "f856e5e2-3a3a-4531-fc84-8f9948b26a16"
      },
      "source": [
        "clf.predict_proba(x_new) #Valores usados en la clasificacion"
      ],
      "execution_count": 22,
      "outputs": [
        {
          "output_type": "execute_result",
          "data": {
            "text/plain": [
              "array([[0.00000000e+00, 1.62160434e-05, 9.99983784e-01]])"
            ]
          },
          "metadata": {
            "tags": []
          },
          "execution_count": 22
        }
      ]
    },
    {
      "cell_type": "markdown",
      "metadata": {
        "id": "kZJMiv_BfEtZ"
      },
      "source": [
        "#Evaluacion del exito de la prediccion#"
      ]
    },
    {
      "cell_type": "code",
      "metadata": {
        "colab": {
          "base_uri": "https://localhost:8080/"
        },
        "id": "yeXwvziZcBmt",
        "outputId": "98abd772-ef0c-4449-8c0f-5c512eae45e9"
      },
      "source": [
        "clf.score(x, y) #porcentaje de aciertos dentro del conjunto de entrenamiento al aplicar el modelo obtenido"
      ],
      "execution_count": 23,
      "outputs": [
        {
          "output_type": "execute_result",
          "data": {
            "text/plain": [
              "0.75"
            ]
          },
          "metadata": {
            "tags": []
          },
          "execution_count": 23
        }
      ]
    },
    {
      "cell_type": "code",
      "metadata": {
        "colab": {
          "base_uri": "https://localhost:8080/"
        },
        "id": "37GNXcZ8cUfT",
        "outputId": "c90ea654-058b-43f1-a881-515f4f77b7ae"
      },
      "source": [
        "y_pred = clf.predict(x)\n",
        "y_pred #Clasificaciones predichas "
      ],
      "execution_count": 24,
      "outputs": [
        {
          "output_type": "execute_result",
          "data": {
            "text/plain": [
              "array(['a', 'c', 'a', 'c', 'b', 'c', 'a', 'b'], dtype='<U1')"
            ]
          },
          "metadata": {
            "tags": []
          },
          "execution_count": 24
        }
      ]
    },
    {
      "cell_type": "code",
      "metadata": {
        "colab": {
          "base_uri": "https://localhost:8080/"
        },
        "id": "Vmnk1h2xcZzA",
        "outputId": "3ae99960-1f80-4089-acdb-5b00639efa4c"
      },
      "source": [
        "y"
      ],
      "execution_count": 25,
      "outputs": [
        {
          "output_type": "execute_result",
          "data": {
            "text/plain": [
              "array(['b', 'c', 'a', 'c', 'b', 'a', 'a', 'b'], dtype='<U1')"
            ]
          },
          "metadata": {
            "tags": []
          },
          "execution_count": 25
        }
      ]
    },
    {
      "cell_type": "code",
      "metadata": {
        "colab": {
          "base_uri": "https://localhost:8080/"
        },
        "id": "P1Yz1uWmcbFM",
        "outputId": "f6636558-04c9-4f61-cacc-fd8f8ed41c65"
      },
      "source": [
        "from sklearn.metrics import classification_report\n",
        "\n",
        "print( classification_report(y, y_pred) )\n",
        "\n",
        "#precision: son las asignaciones correctas para a. De todo lo que el modelo dijo que era b, efectivamente era b. VP/ (VP+FP)\n",
        "#recall: que tantos de los positivos se obtuvieron correctamente. 67% de los b se clasificaron como b. VP/(VP+FN)\n",
        "#fl-score: media armonica\n",
        "\n",
        "#fp: se creia que era pero no.\n",
        "#fn: se creia que no era pero si."
      ],
      "execution_count": 26,
      "outputs": [
        {
          "output_type": "stream",
          "text": [
            "              precision    recall  f1-score   support\n",
            "\n",
            "           a       0.67      0.67      0.67         3\n",
            "           b       1.00      0.67      0.80         3\n",
            "           c       0.67      1.00      0.80         2\n",
            "\n",
            "    accuracy                           0.75         8\n",
            "   macro avg       0.78      0.78      0.76         8\n",
            "weighted avg       0.79      0.75      0.75         8\n",
            "\n"
          ],
          "name": "stdout"
        }
      ]
    },
    {
      "cell_type": "code",
      "metadata": {
        "colab": {
          "base_uri": "https://localhost:8080/"
        },
        "id": "BLK0MXvyc9Hc",
        "outputId": "dcbff223-3f59-4a03-826d-46aba4dccc1f"
      },
      "source": [
        "from sklearn.metrics import confusion_matrix\n",
        "\n",
        "confusion_matrix(y, y_pred)\n",
        "\n",
        "#Las filas son las clases reales\n",
        "#Las columnas son predicciones del sistema\n",
        "#La diagonal son predicciones acertadas"
      ],
      "execution_count": 27,
      "outputs": [
        {
          "output_type": "execute_result",
          "data": {
            "text/plain": [
              "array([[2, 0, 1],\n",
              "       [1, 2, 0],\n",
              "       [0, 0, 2]])"
            ]
          },
          "metadata": {
            "tags": []
          },
          "execution_count": 27
        }
      ]
    },
    {
      "cell_type": "code",
      "metadata": {
        "id": "ZJ-4zHofeQUO"
      },
      "source": [
        "confusion_matrix?"
      ],
      "execution_count": 28,
      "outputs": []
    },
    {
      "cell_type": "code",
      "metadata": {
        "id": "fcWeuSJMeTjG"
      },
      "source": [
        ""
      ],
      "execution_count": 28,
      "outputs": []
    }
  ]
}